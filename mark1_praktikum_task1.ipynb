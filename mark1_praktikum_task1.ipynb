{
  "cells": [
    {
      "cell_type": "markdown",
      "id": "18d3b84e",
      "metadata": {
        "id": "18d3b84e"
      },
      "source": [
        "# '''- **Task 1. Working with data**\n",
        "    \n",
        "    To complete this task, use the data set in the attached file. Indicate the answer to each of the\n",
        "    following steps and time to complete the entire task.\n",
        "    \n",
        "    1.1. Download the data set movie_metadata.csv, which contains data about films from IMDb\n",
        "    (Internet Movie Database).\n",
        "    \n",
        "    1.2. The duration column contains data on the film length. How many missing values are there\n",
        "    in this column?\n",
        "    1.3. Replace the missing values in the duration column with the median value for this column.\n",
        "    1.4. What is the average film length? Give the answer as a floating-point figure rounded to\n",
        "    two decimal places.\n",
        "    1.5. Create a movie_duration_category column, which will contain three categories\n",
        "    depending on the film length:\n",
        "    • Category \"1. <90\" if the film is less than 90 minutes long\n",
        "    • Category \"2. 90–120\" if the film is between 90 minutes and two hours long (inclusively)\n",
        "    • Category \"3. >120\" if the film is more than two hours long\n",
        "    1.6. Build a summary table for films released after 2000 (inclusively), to list the numbers of\n",
        "    films:\n",
        "    • Table rows: year\n",
        "    • Table columns: movie duration category (\"<90\", \"90–120\", \">120\")\n",
        "    • The year of release should be displayed in the YYYY format.\n",
        "    1.7. How many films between 90 minutes and two hours long were released in 2008?\n",
        "    1.8. The plot_keywords column holds keywords characterizing the film's plot. Using the data\n",
        "    in this column, create a column called movie_plot_category, to contain four categories\n",
        "    depending on the key words in the column:\n",
        "    • Category \"love_and_death\" if the keywords include both \"love\" and \"death\"\n",
        "    • Category \"love\" if the keywords include the word \"love\"\n",
        "    • Category \"death\" if the keywords include the word \"death\"\n",
        "    • Category \"other\" if the keywords do not meet the conditions above\n",
        "    1.9. The imdb_score column shows a viewer rating for the film. Build a table to reflect the\n",
        "    average rating of films depending on which movie_plot_category category they belong to.\n",
        "    1.10. What is the average rating of films in the \"love\" category? Give the answer as a floatingpoint\n",
        "    figure rounded to two decimal places.\n",
        "    1.11. The budget column contains the film's budget. What is the median budget for all the films\n",
        "    listed? Give the answer as an integer.\n",
        "'''"
      ]
    },
    {
      "cell_type": "code",
      "execution_count": null,
      "id": "c0290806",
      "metadata": {
        "id": "c0290806",
        "outputId": "222bcafd-19ab-40b6-a385-74d23351bdfa"
      },
      "outputs": [
        {
          "name": "stdout",
          "output_type": "stream",
          "text": [
            "Versão da Linguagem Python Usada Neste Jupyter Notebook: 3.9.7\n"
          ]
        }
      ],
      "source": [
        "# Versão da Linguagem Python\n",
        "from platform import python_version\n",
        "print('Versão da Linguagem Python Usada Neste Jupyter Notebook:', python_version())"
      ]
    },
    {
      "cell_type": "code",
      "execution_count": null,
      "id": "3a34ae42",
      "metadata": {
        "id": "3a34ae42",
        "outputId": "f69b38d9-d109-4337-cc71-56e761db238e"
      },
      "outputs": [
        {
          "name": "stdout",
          "output_type": "stream",
          "text": [
            "C:\\Users\\User\\anaconda3\\python.exe\n",
            "3.9.7 (default, Sep 16 2021, 16:59:28) [MSC v.1916 64 bit (AMD64)]\n",
            "sys.version_info(major=3, minor=9, micro=7, releaselevel='final', serial=0)\n"
          ]
        }
      ],
      "source": [
        "import sys\n",
        "print(sys.executable)\n",
        "print(sys.version)\n",
        "print(sys.version_info)"
      ]
    },
    {
      "cell_type": "code",
      "execution_count": null,
      "id": "0893e118",
      "metadata": {
        "id": "0893e118"
      },
      "outputs": [],
      "source": [
        "# Para atualizar um pacote, execute o comando abaixo no terminal ou prompt de comando:\n",
        "# pip install -U nome_pacote\n",
        "\n",
        "# Para instalar a versão exata de um pacote, execute o comando abaixo no terminal ou prompt de comando:\n",
        "# !pip install nome_pacote==versão_desejada\n",
        "\n",
        "# Depois de instalar ou atualizar o pacote, reinicie o jupyter notebook.\n",
        "\n",
        "# Instala o pacote watermark. \n",
        "# Esse pacote é usado para gravar as versões de outros pacotes usados neste jupyter notebook.\n",
        "!pip install -q -U watermark"
      ]
    },
    {
      "cell_type": "code",
      "execution_count": null,
      "id": "fd8b9921",
      "metadata": {
        "id": "fd8b9921"
      },
      "outputs": [],
      "source": [
        "# Import para manipulação\n",
        "import numpy as np\n",
        "import pandas as pd\n",
        "\n",
        "#for task six\n",
        "import datetime as datetime"
      ]
    },
    {
      "cell_type": "code",
      "execution_count": null,
      "id": "11e338db",
      "metadata": {
        "id": "11e338db"
      },
      "outputs": [],
      "source": [
        "import warnings\n",
        "warnings.filterwarnings('ignore')"
      ]
    },
    {
      "cell_type": "code",
      "execution_count": null,
      "id": "db234b82",
      "metadata": {
        "id": "db234b82",
        "outputId": "dc38ac24-23d1-48f7-bc81-19c27401ad4b"
      },
      "outputs": [
        {
          "name": "stdout",
          "output_type": "stream",
          "text": [
            "Author: Praktikum Project\n",
            "\n",
            "pandas: 1.4.2\n",
            "numpy : 1.22.3\n",
            "sys   : 3.9.7 (default, Sep 16 2021, 16:59:28) [MSC v.1916 64 bit (AMD64)]\n",
            "\n"
          ]
        }
      ],
      "source": [
        "# Versões dos pacotes usados neste jupyter notebook\n",
        "%reload_ext watermark\n",
        "%watermark -a \"Praktikum Project\" --iversions"
      ]
    },
    {
      "cell_type": "code",
      "execution_count": null,
      "id": "6ef5610b",
      "metadata": {
        "id": "6ef5610b"
      },
      "outputs": [],
      "source": [
        "# 1. Download the data set movie_metadata.csv, which contains data about films from IMDb (Internet Movie Database).\n",
        "# Carrega o dataset dos filmes\n",
        "movie_data = pd.read_csv(\"movie_metadata.csv\")"
      ]
    },
    {
      "cell_type": "code",
      "execution_count": null,
      "id": "9a95059f",
      "metadata": {
        "id": "9a95059f"
      },
      "outputs": [],
      "source": [
        "################################################################################################################################"
      ]
    },
    {
      "cell_type": "code",
      "execution_count": null,
      "id": "3189f308",
      "metadata": {
        "id": "3189f308"
      },
      "outputs": [],
      "source": [
        "# 2. The duration column contains data on the film length. How many missing values are there in this column?"
      ]
    },
    {
      "cell_type": "code",
      "execution_count": null,
      "id": "f37f3be9",
      "metadata": {
        "id": "f37f3be9",
        "outputId": "56d79301-e04c-449d-c79f-43e244acb16a"
      },
      "outputs": [
        {
          "data": {
            "text/plain": [
              "(5043, 28)"
            ]
          },
          "execution_count": 10,
          "metadata": {},
          "output_type": "execute_result"
        }
      ],
      "source": [
        "# Conferir magnetude dos dados\n",
        "movie_data.shape"
      ]
    },
    {
      "cell_type": "code",
      "execution_count": null,
      "id": "8065490b",
      "metadata": {
        "id": "8065490b",
        "outputId": "c135eb38-fc05-4662-8545-791c96155560"
      },
      "outputs": [
        {
          "data": {
            "text/html": [
              "<div>\n",
              "<style scoped>\n",
              "    .dataframe tbody tr th:only-of-type {\n",
              "        vertical-align: middle;\n",
              "    }\n",
              "\n",
              "    .dataframe tbody tr th {\n",
              "        vertical-align: top;\n",
              "    }\n",
              "\n",
              "    .dataframe thead th {\n",
              "        text-align: right;\n",
              "    }\n",
              "</style>\n",
              "<table border=\"1\" class=\"dataframe\">\n",
              "  <thead>\n",
              "    <tr style=\"text-align: right;\">\n",
              "      <th></th>\n",
              "      <th>color</th>\n",
              "      <th>director_name</th>\n",
              "      <th>num_critic_for_reviews</th>\n",
              "      <th>duration</th>\n",
              "      <th>director_facebook_likes</th>\n",
              "      <th>actor_3_facebook_likes</th>\n",
              "      <th>actor_2_name</th>\n",
              "      <th>actor_1_facebook_likes</th>\n",
              "      <th>gross</th>\n",
              "      <th>genres</th>\n",
              "      <th>...</th>\n",
              "      <th>num_user_for_reviews</th>\n",
              "      <th>language</th>\n",
              "      <th>country</th>\n",
              "      <th>content_rating</th>\n",
              "      <th>budget</th>\n",
              "      <th>title_year</th>\n",
              "      <th>actor_2_facebook_likes</th>\n",
              "      <th>imdb_score</th>\n",
              "      <th>aspect_ratio</th>\n",
              "      <th>movie_facebook_likes</th>\n",
              "    </tr>\n",
              "  </thead>\n",
              "  <tbody>\n",
              "    <tr>\n",
              "      <th>0</th>\n",
              "      <td>Color</td>\n",
              "      <td>James Cameron</td>\n",
              "      <td>723.0</td>\n",
              "      <td>178.0</td>\n",
              "      <td>0.0</td>\n",
              "      <td>855.0</td>\n",
              "      <td>Joel David Moore</td>\n",
              "      <td>1000.0</td>\n",
              "      <td>760505847.0</td>\n",
              "      <td>Action|Adventure|Fantasy|Sci-Fi</td>\n",
              "      <td>...</td>\n",
              "      <td>3054.0</td>\n",
              "      <td>English</td>\n",
              "      <td>USA</td>\n",
              "      <td>PG-13</td>\n",
              "      <td>237000000.0$</td>\n",
              "      <td>2009.0</td>\n",
              "      <td>936.0</td>\n",
              "      <td>7.9</td>\n",
              "      <td>1.78</td>\n",
              "      <td>33000</td>\n",
              "    </tr>\n",
              "    <tr>\n",
              "      <th>1</th>\n",
              "      <td>Color</td>\n",
              "      <td>Gore Verbinski</td>\n",
              "      <td>302.0</td>\n",
              "      <td>169.0</td>\n",
              "      <td>563.0</td>\n",
              "      <td>1000.0</td>\n",
              "      <td>Orlando Bloom</td>\n",
              "      <td>40000.0</td>\n",
              "      <td>309404152.0</td>\n",
              "      <td>Action|Adventure|Fantasy</td>\n",
              "      <td>...</td>\n",
              "      <td>1238.0</td>\n",
              "      <td>English</td>\n",
              "      <td>USA</td>\n",
              "      <td>PG-13</td>\n",
              "      <td>300000000.0$</td>\n",
              "      <td>2007.0</td>\n",
              "      <td>5000.0</td>\n",
              "      <td>7.1</td>\n",
              "      <td>2.35</td>\n",
              "      <td>0</td>\n",
              "    </tr>\n",
              "    <tr>\n",
              "      <th>2</th>\n",
              "      <td>Color</td>\n",
              "      <td>Sam Mendes</td>\n",
              "      <td>602.0</td>\n",
              "      <td>148.0</td>\n",
              "      <td>0.0</td>\n",
              "      <td>161.0</td>\n",
              "      <td>Rory Kinnear</td>\n",
              "      <td>11000.0</td>\n",
              "      <td>200074175.0</td>\n",
              "      <td>Action|Adventure|Thriller</td>\n",
              "      <td>...</td>\n",
              "      <td>994.0</td>\n",
              "      <td>English</td>\n",
              "      <td>UK</td>\n",
              "      <td>PG-13</td>\n",
              "      <td>245000000.0$</td>\n",
              "      <td>2015.0</td>\n",
              "      <td>393.0</td>\n",
              "      <td>6.8</td>\n",
              "      <td>2.35</td>\n",
              "      <td>85000</td>\n",
              "    </tr>\n",
              "    <tr>\n",
              "      <th>3</th>\n",
              "      <td>Color</td>\n",
              "      <td>Christopher Nolan</td>\n",
              "      <td>813.0</td>\n",
              "      <td>164.0</td>\n",
              "      <td>22000.0</td>\n",
              "      <td>23000.0</td>\n",
              "      <td>Christian Bale</td>\n",
              "      <td>27000.0</td>\n",
              "      <td>448130642.0</td>\n",
              "      <td>Action|Thriller</td>\n",
              "      <td>...</td>\n",
              "      <td>2701.0</td>\n",
              "      <td>English</td>\n",
              "      <td>USA</td>\n",
              "      <td>PG-13</td>\n",
              "      <td>250000000.0$</td>\n",
              "      <td>2012.0</td>\n",
              "      <td>23000.0</td>\n",
              "      <td>8.5</td>\n",
              "      <td>2.35</td>\n",
              "      <td>164000</td>\n",
              "    </tr>\n",
              "    <tr>\n",
              "      <th>4</th>\n",
              "      <td>NaN</td>\n",
              "      <td>Doug Walker</td>\n",
              "      <td>NaN</td>\n",
              "      <td>NaN</td>\n",
              "      <td>131.0</td>\n",
              "      <td>NaN</td>\n",
              "      <td>Rob Walker</td>\n",
              "      <td>131.0</td>\n",
              "      <td>NaN</td>\n",
              "      <td>Documentary</td>\n",
              "      <td>...</td>\n",
              "      <td>NaN</td>\n",
              "      <td>NaN</td>\n",
              "      <td>NaN</td>\n",
              "      <td>NaN</td>\n",
              "      <td>0.0$</td>\n",
              "      <td>NaN</td>\n",
              "      <td>12.0</td>\n",
              "      <td>7.1</td>\n",
              "      <td>NaN</td>\n",
              "      <td>0</td>\n",
              "    </tr>\n",
              "  </tbody>\n",
              "</table>\n",
              "<p>5 rows × 28 columns</p>\n",
              "</div>"
            ],
            "text/plain": [
              "   color      director_name  num_critic_for_reviews  duration  \\\n",
              "0  Color      James Cameron                   723.0     178.0   \n",
              "1  Color     Gore Verbinski                   302.0     169.0   \n",
              "2  Color         Sam Mendes                   602.0     148.0   \n",
              "3  Color  Christopher Nolan                   813.0     164.0   \n",
              "4    NaN        Doug Walker                     NaN       NaN   \n",
              "\n",
              "   director_facebook_likes  actor_3_facebook_likes      actor_2_name  \\\n",
              "0                      0.0                   855.0  Joel David Moore   \n",
              "1                    563.0                  1000.0     Orlando Bloom   \n",
              "2                      0.0                   161.0      Rory Kinnear   \n",
              "3                  22000.0                 23000.0    Christian Bale   \n",
              "4                    131.0                     NaN        Rob Walker   \n",
              "\n",
              "   actor_1_facebook_likes        gross                           genres  ...  \\\n",
              "0                  1000.0  760505847.0  Action|Adventure|Fantasy|Sci-Fi  ...   \n",
              "1                 40000.0  309404152.0         Action|Adventure|Fantasy  ...   \n",
              "2                 11000.0  200074175.0        Action|Adventure|Thriller  ...   \n",
              "3                 27000.0  448130642.0                  Action|Thriller  ...   \n",
              "4                   131.0          NaN                      Documentary  ...   \n",
              "\n",
              "  num_user_for_reviews language  country  content_rating        budget  \\\n",
              "0               3054.0  English      USA           PG-13  237000000.0$   \n",
              "1               1238.0  English      USA           PG-13  300000000.0$   \n",
              "2                994.0  English       UK           PG-13  245000000.0$   \n",
              "3               2701.0  English      USA           PG-13  250000000.0$   \n",
              "4                  NaN      NaN      NaN             NaN          0.0$   \n",
              "\n",
              "   title_year actor_2_facebook_likes imdb_score  aspect_ratio  \\\n",
              "0      2009.0                  936.0        7.9          1.78   \n",
              "1      2007.0                 5000.0        7.1          2.35   \n",
              "2      2015.0                  393.0        6.8          2.35   \n",
              "3      2012.0                23000.0        8.5          2.35   \n",
              "4         NaN                   12.0        7.1           NaN   \n",
              "\n",
              "  movie_facebook_likes  \n",
              "0                33000  \n",
              "1                    0  \n",
              "2                85000  \n",
              "3               164000  \n",
              "4                    0  \n",
              "\n",
              "[5 rows x 28 columns]"
            ]
          },
          "execution_count": 11,
          "metadata": {},
          "output_type": "execute_result"
        }
      ],
      "source": [
        "movie_data.head(5)"
      ]
    },
    {
      "cell_type": "code",
      "execution_count": null,
      "id": "5ea2e5a2",
      "metadata": {
        "id": "5ea2e5a2",
        "outputId": "366a80f7-5719-4783-eb4c-2311fe8de6fa"
      },
      "outputs": [
        {
          "data": {
            "text/plain": [
              "Index(['color', 'director_name', 'num_critic_for_reviews', 'duration',\n",
              "       'director_facebook_likes', 'actor_3_facebook_likes', 'actor_2_name',\n",
              "       'actor_1_facebook_likes', 'gross', 'genres', 'actor_1_name',\n",
              "       'movie_title', 'num_voted_users', 'cast_total_facebook_likes',\n",
              "       'actor_3_name', 'facenumber_in_poster', 'plot_keywords',\n",
              "       'movie_imdb_link', 'num_user_for_reviews', 'language', 'country',\n",
              "       'content_rating', 'budget', 'title_year', 'actor_2_facebook_likes',\n",
              "       'imdb_score', 'aspect_ratio', 'movie_facebook_likes'],\n",
              "      dtype='object')"
            ]
          },
          "execution_count": 12,
          "metadata": {},
          "output_type": "execute_result"
        }
      ],
      "source": [
        "movie_data.columns"
      ]
    },
    {
      "cell_type": "code",
      "execution_count": null,
      "id": "9cec4381",
      "metadata": {
        "id": "9cec4381",
        "outputId": "0cbb1dee-2192-4a55-b2b4-70637124bafb"
      },
      "outputs": [
        {
          "data": {
            "text/html": [
              "<div>\n",
              "<style scoped>\n",
              "    .dataframe tbody tr th:only-of-type {\n",
              "        vertical-align: middle;\n",
              "    }\n",
              "\n",
              "    .dataframe tbody tr th {\n",
              "        vertical-align: top;\n",
              "    }\n",
              "\n",
              "    .dataframe thead th {\n",
              "        text-align: right;\n",
              "    }\n",
              "</style>\n",
              "<table border=\"1\" class=\"dataframe\">\n",
              "  <thead>\n",
              "    <tr style=\"text-align: right;\">\n",
              "      <th></th>\n",
              "      <th>color</th>\n",
              "      <th>director_name</th>\n",
              "      <th>num_critic_for_reviews</th>\n",
              "      <th>duration</th>\n",
              "      <th>director_facebook_likes</th>\n",
              "      <th>actor_3_facebook_likes</th>\n",
              "      <th>actor_2_name</th>\n",
              "      <th>actor_1_facebook_likes</th>\n",
              "      <th>gross</th>\n",
              "      <th>genres</th>\n",
              "      <th>...</th>\n",
              "      <th>num_user_for_reviews</th>\n",
              "      <th>language</th>\n",
              "      <th>country</th>\n",
              "      <th>content_rating</th>\n",
              "      <th>budget</th>\n",
              "      <th>title_year</th>\n",
              "      <th>actor_2_facebook_likes</th>\n",
              "      <th>imdb_score</th>\n",
              "      <th>aspect_ratio</th>\n",
              "      <th>movie_facebook_likes</th>\n",
              "    </tr>\n",
              "  </thead>\n",
              "  <tbody>\n",
              "    <tr>\n",
              "      <th>0</th>\n",
              "      <td>Color</td>\n",
              "      <td>James Cameron</td>\n",
              "      <td>723.0</td>\n",
              "      <td>178.0</td>\n",
              "      <td>0.0</td>\n",
              "      <td>855.0</td>\n",
              "      <td>Joel David Moore</td>\n",
              "      <td>1000.0</td>\n",
              "      <td>760505847.0</td>\n",
              "      <td>Action|Adventure|Fantasy|Sci-Fi</td>\n",
              "      <td>...</td>\n",
              "      <td>3054.0</td>\n",
              "      <td>English</td>\n",
              "      <td>USA</td>\n",
              "      <td>PG-13</td>\n",
              "      <td>237000000.0$</td>\n",
              "      <td>2009.0</td>\n",
              "      <td>936.0</td>\n",
              "      <td>7.9</td>\n",
              "      <td>1.78</td>\n",
              "      <td>33000</td>\n",
              "    </tr>\n",
              "    <tr>\n",
              "      <th>1</th>\n",
              "      <td>Color</td>\n",
              "      <td>Gore Verbinski</td>\n",
              "      <td>302.0</td>\n",
              "      <td>169.0</td>\n",
              "      <td>563.0</td>\n",
              "      <td>1000.0</td>\n",
              "      <td>Orlando Bloom</td>\n",
              "      <td>40000.0</td>\n",
              "      <td>309404152.0</td>\n",
              "      <td>Action|Adventure|Fantasy</td>\n",
              "      <td>...</td>\n",
              "      <td>1238.0</td>\n",
              "      <td>English</td>\n",
              "      <td>USA</td>\n",
              "      <td>PG-13</td>\n",
              "      <td>300000000.0$</td>\n",
              "      <td>2007.0</td>\n",
              "      <td>5000.0</td>\n",
              "      <td>7.1</td>\n",
              "      <td>2.35</td>\n",
              "      <td>0</td>\n",
              "    </tr>\n",
              "  </tbody>\n",
              "</table>\n",
              "<p>2 rows × 28 columns</p>\n",
              "</div>"
            ],
            "text/plain": [
              "   color   director_name  num_critic_for_reviews  duration  \\\n",
              "0  Color   James Cameron                   723.0     178.0   \n",
              "1  Color  Gore Verbinski                   302.0     169.0   \n",
              "\n",
              "   director_facebook_likes  actor_3_facebook_likes      actor_2_name  \\\n",
              "0                      0.0                   855.0  Joel David Moore   \n",
              "1                    563.0                  1000.0     Orlando Bloom   \n",
              "\n",
              "   actor_1_facebook_likes        gross                           genres  ...  \\\n",
              "0                  1000.0  760505847.0  Action|Adventure|Fantasy|Sci-Fi  ...   \n",
              "1                 40000.0  309404152.0         Action|Adventure|Fantasy  ...   \n",
              "\n",
              "  num_user_for_reviews language  country  content_rating        budget  \\\n",
              "0               3054.0  English      USA           PG-13  237000000.0$   \n",
              "1               1238.0  English      USA           PG-13  300000000.0$   \n",
              "\n",
              "   title_year actor_2_facebook_likes imdb_score  aspect_ratio  \\\n",
              "0      2009.0                  936.0        7.9          1.78   \n",
              "1      2007.0                 5000.0        7.1          2.35   \n",
              "\n",
              "  movie_facebook_likes  \n",
              "0                33000  \n",
              "1                    0  \n",
              "\n",
              "[2 rows x 28 columns]"
            ]
          },
          "execution_count": 13,
          "metadata": {},
          "output_type": "execute_result"
        }
      ],
      "source": [
        "movie_data.head(2)"
      ]
    },
    {
      "cell_type": "code",
      "execution_count": null,
      "id": "02b32c8d",
      "metadata": {
        "id": "02b32c8d",
        "outputId": "76a6022b-841b-40ad-df21-570dbaf05169"
      },
      "outputs": [
        {
          "data": {
            "text/plain": [
              "0       178.0\n",
              "1       169.0\n",
              "2       148.0\n",
              "3       164.0\n",
              "4         NaN\n",
              "        ...  \n",
              "5038     87.0\n",
              "5039     43.0\n",
              "5040     76.0\n",
              "5041    100.0\n",
              "5042     90.0\n",
              "Name: duration, Length: 5043, dtype: float64"
            ]
          },
          "execution_count": 14,
          "metadata": {},
          "output_type": "execute_result"
        }
      ],
      "source": [
        "movie_data['duration']"
      ]
    },
    {
      "cell_type": "code",
      "execution_count": null,
      "id": "e15356f8",
      "metadata": {
        "id": "e15356f8",
        "outputId": "7f0d8f69-4352-4529-c21a-4dff261f74b4"
      },
      "outputs": [
        {
          "data": {
            "text/plain": [
              "15"
            ]
          },
          "execution_count": 15,
          "metadata": {},
          "output_type": "execute_result"
        }
      ],
      "source": [
        "movie_data['duration'].isnull().sum(axis = 0)"
      ]
    },
    {
      "cell_type": "code",
      "execution_count": null,
      "id": "e938186d",
      "metadata": {
        "id": "e938186d",
        "outputId": "d5174cf5-c46f-47cf-ea67-b535c184981d"
      },
      "outputs": [
        {
          "data": {
            "text/html": [
              "<div>\n",
              "<style scoped>\n",
              "    .dataframe tbody tr th:only-of-type {\n",
              "        vertical-align: middle;\n",
              "    }\n",
              "\n",
              "    .dataframe tbody tr th {\n",
              "        vertical-align: top;\n",
              "    }\n",
              "\n",
              "    .dataframe thead th {\n",
              "        text-align: right;\n",
              "    }\n",
              "</style>\n",
              "<table border=\"1\" class=\"dataframe\">\n",
              "  <thead>\n",
              "    <tr style=\"text-align: right;\">\n",
              "      <th></th>\n",
              "      <th>color</th>\n",
              "      <th>director_name</th>\n",
              "      <th>num_critic_for_reviews</th>\n",
              "      <th>duration</th>\n",
              "      <th>director_facebook_likes</th>\n",
              "      <th>actor_3_facebook_likes</th>\n",
              "      <th>actor_2_name</th>\n",
              "      <th>actor_1_facebook_likes</th>\n",
              "      <th>gross</th>\n",
              "      <th>genres</th>\n",
              "      <th>...</th>\n",
              "      <th>num_user_for_reviews</th>\n",
              "      <th>language</th>\n",
              "      <th>country</th>\n",
              "      <th>content_rating</th>\n",
              "      <th>budget</th>\n",
              "      <th>title_year</th>\n",
              "      <th>actor_2_facebook_likes</th>\n",
              "      <th>imdb_score</th>\n",
              "      <th>aspect_ratio</th>\n",
              "      <th>movie_facebook_likes</th>\n",
              "    </tr>\n",
              "  </thead>\n",
              "  <tbody>\n",
              "    <tr>\n",
              "      <th>4</th>\n",
              "      <td>NaN</td>\n",
              "      <td>Doug Walker</td>\n",
              "      <td>NaN</td>\n",
              "      <td>NaN</td>\n",
              "      <td>131.0</td>\n",
              "      <td>NaN</td>\n",
              "      <td>Rob Walker</td>\n",
              "      <td>131.0</td>\n",
              "      <td>NaN</td>\n",
              "      <td>Documentary</td>\n",
              "      <td>...</td>\n",
              "      <td>NaN</td>\n",
              "      <td>NaN</td>\n",
              "      <td>NaN</td>\n",
              "      <td>NaN</td>\n",
              "      <td>0.0$</td>\n",
              "      <td>NaN</td>\n",
              "      <td>12.0</td>\n",
              "      <td>7.1</td>\n",
              "      <td>NaN</td>\n",
              "      <td>0</td>\n",
              "    </tr>\n",
              "    <tr>\n",
              "      <th>199</th>\n",
              "      <td>Color</td>\n",
              "      <td>Matt Birch</td>\n",
              "      <td>1.0</td>\n",
              "      <td>NaN</td>\n",
              "      <td>0.0</td>\n",
              "      <td>159.0</td>\n",
              "      <td>Dave Legeno</td>\n",
              "      <td>10000.0</td>\n",
              "      <td>NaN</td>\n",
              "      <td>Action|Fantasy</td>\n",
              "      <td>...</td>\n",
              "      <td>2.0</td>\n",
              "      <td>English</td>\n",
              "      <td>UK</td>\n",
              "      <td>NaN</td>\n",
              "      <td>0.0$</td>\n",
              "      <td>2011.0</td>\n",
              "      <td>570.0</td>\n",
              "      <td>7.5</td>\n",
              "      <td>NaN</td>\n",
              "      <td>40</td>\n",
              "    </tr>\n",
              "    <tr>\n",
              "      <th>206</th>\n",
              "      <td>Color</td>\n",
              "      <td>Matt Birch</td>\n",
              "      <td>4.0</td>\n",
              "      <td>NaN</td>\n",
              "      <td>0.0</td>\n",
              "      <td>1000.0</td>\n",
              "      <td>Toby Jones</td>\n",
              "      <td>10000.0</td>\n",
              "      <td>NaN</td>\n",
              "      <td>Fantasy</td>\n",
              "      <td>...</td>\n",
              "      <td>2.0</td>\n",
              "      <td>English</td>\n",
              "      <td>UK</td>\n",
              "      <td>NaN</td>\n",
              "      <td>0.0$</td>\n",
              "      <td>2010.0</td>\n",
              "      <td>2000.0</td>\n",
              "      <td>6.4</td>\n",
              "      <td>NaN</td>\n",
              "      <td>25</td>\n",
              "    </tr>\n",
              "    <tr>\n",
              "      <th>1510</th>\n",
              "      <td>Color</td>\n",
              "      <td>Tony Kaye</td>\n",
              "      <td>NaN</td>\n",
              "      <td>NaN</td>\n",
              "      <td>194.0</td>\n",
              "      <td>816.0</td>\n",
              "      <td>Aisha Tyler</td>\n",
              "      <td>970.0</td>\n",
              "      <td>NaN</td>\n",
              "      <td>Crime|Drama</td>\n",
              "      <td>...</td>\n",
              "      <td>NaN</td>\n",
              "      <td>English</td>\n",
              "      <td>USA</td>\n",
              "      <td>NaN</td>\n",
              "      <td>23000000.0$</td>\n",
              "      <td>2009.0</td>\n",
              "      <td>856.0</td>\n",
              "      <td>7.2</td>\n",
              "      <td>NaN</td>\n",
              "      <td>26</td>\n",
              "    </tr>\n",
              "    <tr>\n",
              "      <th>3604</th>\n",
              "      <td>Color</td>\n",
              "      <td>NaN</td>\n",
              "      <td>10.0</td>\n",
              "      <td>NaN</td>\n",
              "      <td>NaN</td>\n",
              "      <td>502.0</td>\n",
              "      <td>Tuppence Middleton</td>\n",
              "      <td>1000.0</td>\n",
              "      <td>NaN</td>\n",
              "      <td>Drama|History|Romance|War</td>\n",
              "      <td>...</td>\n",
              "      <td>44.0</td>\n",
              "      <td>English</td>\n",
              "      <td>UK</td>\n",
              "      <td>TV-14</td>\n",
              "      <td>0.0$</td>\n",
              "      <td>NaN</td>\n",
              "      <td>888.0</td>\n",
              "      <td>8.2</td>\n",
              "      <td>16.00</td>\n",
              "      <td>11000</td>\n",
              "    </tr>\n",
              "    <tr>\n",
              "      <th>3815</th>\n",
              "      <td>Color</td>\n",
              "      <td>Marc Bennett</td>\n",
              "      <td>2.0</td>\n",
              "      <td>NaN</td>\n",
              "      <td>3.0</td>\n",
              "      <td>723.0</td>\n",
              "      <td>Natasha Henstridge</td>\n",
              "      <td>975.0</td>\n",
              "      <td>NaN</td>\n",
              "      <td>Comedy|Drama</td>\n",
              "      <td>...</td>\n",
              "      <td>2.0</td>\n",
              "      <td>English</td>\n",
              "      <td>USA</td>\n",
              "      <td>NaN</td>\n",
              "      <td>5000000.0$</td>\n",
              "      <td>2012.0</td>\n",
              "      <td>900.0</td>\n",
              "      <td>6.7</td>\n",
              "      <td>NaN</td>\n",
              "      <td>35</td>\n",
              "    </tr>\n",
              "    <tr>\n",
              "      <th>3834</th>\n",
              "      <td>Color</td>\n",
              "      <td>Shekar</td>\n",
              "      <td>1.0</td>\n",
              "      <td>NaN</td>\n",
              "      <td>0.0</td>\n",
              "      <td>0.0</td>\n",
              "      <td>Diganth</td>\n",
              "      <td>5.0</td>\n",
              "      <td>NaN</td>\n",
              "      <td>Comedy|Romance</td>\n",
              "      <td>...</td>\n",
              "      <td>1.0</td>\n",
              "      <td>Kannada</td>\n",
              "      <td>India</td>\n",
              "      <td>NaN</td>\n",
              "      <td>0.0$</td>\n",
              "      <td>2013.0</td>\n",
              "      <td>0.0</td>\n",
              "      <td>7.1</td>\n",
              "      <td>NaN</td>\n",
              "      <td>2</td>\n",
              "    </tr>\n",
              "    <tr>\n",
              "      <th>4299</th>\n",
              "      <td>Color</td>\n",
              "      <td>Kundan Shah</td>\n",
              "      <td>1.0</td>\n",
              "      <td>NaN</td>\n",
              "      <td>4.0</td>\n",
              "      <td>72.0</td>\n",
              "      <td>Bobby Deol</td>\n",
              "      <td>353.0</td>\n",
              "      <td>NaN</td>\n",
              "      <td>Action|Comedy|Romance|Thriller</td>\n",
              "      <td>...</td>\n",
              "      <td>1.0</td>\n",
              "      <td>Hindi</td>\n",
              "      <td>India</td>\n",
              "      <td>NaN</td>\n",
              "      <td>0.0$</td>\n",
              "      <td>2000.0</td>\n",
              "      <td>89.0</td>\n",
              "      <td>2.8</td>\n",
              "      <td>NaN</td>\n",
              "      <td>10</td>\n",
              "    </tr>\n",
              "    <tr>\n",
              "      <th>4392</th>\n",
              "      <td>Color</td>\n",
              "      <td>David M. Matthews</td>\n",
              "      <td>5.0</td>\n",
              "      <td>NaN</td>\n",
              "      <td>8.0</td>\n",
              "      <td>394.0</td>\n",
              "      <td>Lamman Rucker</td>\n",
              "      <td>713.0</td>\n",
              "      <td>2592808.0</td>\n",
              "      <td>Crime|Drama|Thriller</td>\n",
              "      <td>...</td>\n",
              "      <td>15.0</td>\n",
              "      <td>English</td>\n",
              "      <td>USA</td>\n",
              "      <td>R</td>\n",
              "      <td>0.0$</td>\n",
              "      <td>2010.0</td>\n",
              "      <td>607.0</td>\n",
              "      <td>3.5</td>\n",
              "      <td>2.35</td>\n",
              "      <td>588</td>\n",
              "    </tr>\n",
              "    <tr>\n",
              "      <th>4397</th>\n",
              "      <td>Color</td>\n",
              "      <td>Romesh Sharma</td>\n",
              "      <td>4.0</td>\n",
              "      <td>NaN</td>\n",
              "      <td>0.0</td>\n",
              "      <td>45.0</td>\n",
              "      <td>Revathy</td>\n",
              "      <td>421.0</td>\n",
              "      <td>129319.0</td>\n",
              "      <td>Romance</td>\n",
              "      <td>...</td>\n",
              "      <td>4.0</td>\n",
              "      <td>English</td>\n",
              "      <td>India</td>\n",
              "      <td>NaN</td>\n",
              "      <td>70000000.0$</td>\n",
              "      <td>2005.0</td>\n",
              "      <td>96.0</td>\n",
              "      <td>5.1</td>\n",
              "      <td>NaN</td>\n",
              "      <td>9</td>\n",
              "    </tr>\n",
              "    <tr>\n",
              "      <th>4517</th>\n",
              "      <td>Color</td>\n",
              "      <td>NaN</td>\n",
              "      <td>2.0</td>\n",
              "      <td>NaN</td>\n",
              "      <td>NaN</td>\n",
              "      <td>206.0</td>\n",
              "      <td>John Jarratt</td>\n",
              "      <td>511.0</td>\n",
              "      <td>NaN</td>\n",
              "      <td>Drama|Horror|Thriller</td>\n",
              "      <td>...</td>\n",
              "      <td>6.0</td>\n",
              "      <td>English</td>\n",
              "      <td>Australia</td>\n",
              "      <td>NaN</td>\n",
              "      <td>0.0$</td>\n",
              "      <td>NaN</td>\n",
              "      <td>457.0</td>\n",
              "      <td>7.1</td>\n",
              "      <td>2.00</td>\n",
              "      <td>954</td>\n",
              "    </tr>\n",
              "    <tr>\n",
              "      <th>4609</th>\n",
              "      <td>Color</td>\n",
              "      <td>Wajahat Rauf</td>\n",
              "      <td>6.0</td>\n",
              "      <td>NaN</td>\n",
              "      <td>3.0</td>\n",
              "      <td>4.0</td>\n",
              "      <td>Ayesha Omar</td>\n",
              "      <td>7.0</td>\n",
              "      <td>NaN</td>\n",
              "      <td>Comedy|Family</td>\n",
              "      <td>...</td>\n",
              "      <td>15.0</td>\n",
              "      <td>Urdu</td>\n",
              "      <td>Pakistan</td>\n",
              "      <td>NaN</td>\n",
              "      <td>1000000.0$</td>\n",
              "      <td>2015.0</td>\n",
              "      <td>5.0</td>\n",
              "      <td>7.0</td>\n",
              "      <td>NaN</td>\n",
              "      <td>259</td>\n",
              "    </tr>\n",
              "    <tr>\n",
              "      <th>4690</th>\n",
              "      <td>Color</td>\n",
              "      <td>Joseph Kosinski</td>\n",
              "      <td>4.0</td>\n",
              "      <td>NaN</td>\n",
              "      <td>364.0</td>\n",
              "      <td>567.0</td>\n",
              "      <td>Lauren Cohan</td>\n",
              "      <td>22000.0</td>\n",
              "      <td>NaN</td>\n",
              "      <td>Action|Adventure|Fantasy|Sci-Fi</td>\n",
              "      <td>...</td>\n",
              "      <td>11.0</td>\n",
              "      <td>English</td>\n",
              "      <td>USA</td>\n",
              "      <td>NaN</td>\n",
              "      <td>0.0$</td>\n",
              "      <td>2014.0</td>\n",
              "      <td>4000.0</td>\n",
              "      <td>8.1</td>\n",
              "      <td>NaN</td>\n",
              "      <td>1000</td>\n",
              "    </tr>\n",
              "    <tr>\n",
              "      <th>4948</th>\n",
              "      <td>Color</td>\n",
              "      <td>Valentine</td>\n",
              "      <td>NaN</td>\n",
              "      <td>NaN</td>\n",
              "      <td>0.0</td>\n",
              "      <td>NaN</td>\n",
              "      <td>Valentine</td>\n",
              "      <td>17.0</td>\n",
              "      <td>NaN</td>\n",
              "      <td>Romance</td>\n",
              "      <td>...</td>\n",
              "      <td>NaN</td>\n",
              "      <td>English</td>\n",
              "      <td>USA</td>\n",
              "      <td>PG-13</td>\n",
              "      <td>125000.0$</td>\n",
              "      <td>2015.0</td>\n",
              "      <td>0.0</td>\n",
              "      <td>5.1</td>\n",
              "      <td>NaN</td>\n",
              "      <td>0</td>\n",
              "    </tr>\n",
              "    <tr>\n",
              "      <th>4989</th>\n",
              "      <td>Color</td>\n",
              "      <td>Daniel Mellitz</td>\n",
              "      <td>NaN</td>\n",
              "      <td>NaN</td>\n",
              "      <td>0.0</td>\n",
              "      <td>15.0</td>\n",
              "      <td>Chelse Swain</td>\n",
              "      <td>1000.0</td>\n",
              "      <td>NaN</td>\n",
              "      <td>Comedy|Drama</td>\n",
              "      <td>...</td>\n",
              "      <td>3.0</td>\n",
              "      <td>English</td>\n",
              "      <td>USA</td>\n",
              "      <td>NaN</td>\n",
              "      <td>0.0$</td>\n",
              "      <td>2006.0</td>\n",
              "      <td>36.0</td>\n",
              "      <td>4.7</td>\n",
              "      <td>NaN</td>\n",
              "      <td>2</td>\n",
              "    </tr>\n",
              "  </tbody>\n",
              "</table>\n",
              "<p>15 rows × 28 columns</p>\n",
              "</div>"
            ],
            "text/plain": [
              "      color      director_name  num_critic_for_reviews  duration  \\\n",
              "4       NaN        Doug Walker                     NaN       NaN   \n",
              "199   Color         Matt Birch                     1.0       NaN   \n",
              "206   Color         Matt Birch                     4.0       NaN   \n",
              "1510  Color          Tony Kaye                     NaN       NaN   \n",
              "3604  Color                NaN                    10.0       NaN   \n",
              "3815  Color       Marc Bennett                     2.0       NaN   \n",
              "3834  Color             Shekar                     1.0       NaN   \n",
              "4299  Color        Kundan Shah                     1.0       NaN   \n",
              "4392  Color  David M. Matthews                     5.0       NaN   \n",
              "4397  Color      Romesh Sharma                     4.0       NaN   \n",
              "4517  Color                NaN                     2.0       NaN   \n",
              "4609  Color       Wajahat Rauf                     6.0       NaN   \n",
              "4690  Color    Joseph Kosinski                     4.0       NaN   \n",
              "4948  Color          Valentine                     NaN       NaN   \n",
              "4989  Color     Daniel Mellitz                     NaN       NaN   \n",
              "\n",
              "      director_facebook_likes  actor_3_facebook_likes        actor_2_name  \\\n",
              "4                       131.0                     NaN          Rob Walker   \n",
              "199                       0.0                   159.0         Dave Legeno   \n",
              "206                       0.0                  1000.0          Toby Jones   \n",
              "1510                    194.0                   816.0         Aisha Tyler   \n",
              "3604                      NaN                   502.0  Tuppence Middleton   \n",
              "3815                      3.0                   723.0  Natasha Henstridge   \n",
              "3834                      0.0                     0.0             Diganth   \n",
              "4299                      4.0                    72.0          Bobby Deol   \n",
              "4392                      8.0                   394.0       Lamman Rucker   \n",
              "4397                      0.0                    45.0             Revathy   \n",
              "4517                      NaN                   206.0        John Jarratt   \n",
              "4609                      3.0                     4.0         Ayesha Omar   \n",
              "4690                    364.0                   567.0        Lauren Cohan   \n",
              "4948                      0.0                     NaN           Valentine   \n",
              "4989                      0.0                    15.0        Chelse Swain   \n",
              "\n",
              "      actor_1_facebook_likes      gross                           genres  ...  \\\n",
              "4                      131.0        NaN                      Documentary  ...   \n",
              "199                  10000.0        NaN                   Action|Fantasy  ...   \n",
              "206                  10000.0        NaN                          Fantasy  ...   \n",
              "1510                   970.0        NaN                      Crime|Drama  ...   \n",
              "3604                  1000.0        NaN        Drama|History|Romance|War  ...   \n",
              "3815                   975.0        NaN                     Comedy|Drama  ...   \n",
              "3834                     5.0        NaN                   Comedy|Romance  ...   \n",
              "4299                   353.0        NaN   Action|Comedy|Romance|Thriller  ...   \n",
              "4392                   713.0  2592808.0             Crime|Drama|Thriller  ...   \n",
              "4397                   421.0   129319.0                          Romance  ...   \n",
              "4517                   511.0        NaN            Drama|Horror|Thriller  ...   \n",
              "4609                     7.0        NaN                    Comedy|Family  ...   \n",
              "4690                 22000.0        NaN  Action|Adventure|Fantasy|Sci-Fi  ...   \n",
              "4948                    17.0        NaN                          Romance  ...   \n",
              "4989                  1000.0        NaN                     Comedy|Drama  ...   \n",
              "\n",
              "     num_user_for_reviews language    country  content_rating       budget  \\\n",
              "4                     NaN      NaN        NaN             NaN         0.0$   \n",
              "199                   2.0  English         UK             NaN         0.0$   \n",
              "206                   2.0  English         UK             NaN         0.0$   \n",
              "1510                  NaN  English        USA             NaN  23000000.0$   \n",
              "3604                 44.0  English         UK           TV-14         0.0$   \n",
              "3815                  2.0  English        USA             NaN   5000000.0$   \n",
              "3834                  1.0  Kannada      India             NaN         0.0$   \n",
              "4299                  1.0    Hindi      India             NaN         0.0$   \n",
              "4392                 15.0  English        USA               R         0.0$   \n",
              "4397                  4.0  English      India             NaN  70000000.0$   \n",
              "4517                  6.0  English  Australia             NaN         0.0$   \n",
              "4609                 15.0     Urdu   Pakistan             NaN   1000000.0$   \n",
              "4690                 11.0  English        USA             NaN         0.0$   \n",
              "4948                  NaN  English        USA           PG-13    125000.0$   \n",
              "4989                  3.0  English        USA             NaN         0.0$   \n",
              "\n",
              "      title_year actor_2_facebook_likes imdb_score  aspect_ratio  \\\n",
              "4            NaN                   12.0        7.1           NaN   \n",
              "199       2011.0                  570.0        7.5           NaN   \n",
              "206       2010.0                 2000.0        6.4           NaN   \n",
              "1510      2009.0                  856.0        7.2           NaN   \n",
              "3604         NaN                  888.0        8.2         16.00   \n",
              "3815      2012.0                  900.0        6.7           NaN   \n",
              "3834      2013.0                    0.0        7.1           NaN   \n",
              "4299      2000.0                   89.0        2.8           NaN   \n",
              "4392      2010.0                  607.0        3.5          2.35   \n",
              "4397      2005.0                   96.0        5.1           NaN   \n",
              "4517         NaN                  457.0        7.1          2.00   \n",
              "4609      2015.0                    5.0        7.0           NaN   \n",
              "4690      2014.0                 4000.0        8.1           NaN   \n",
              "4948      2015.0                    0.0        5.1           NaN   \n",
              "4989      2006.0                   36.0        4.7           NaN   \n",
              "\n",
              "     movie_facebook_likes  \n",
              "4                       0  \n",
              "199                    40  \n",
              "206                    25  \n",
              "1510                   26  \n",
              "3604                11000  \n",
              "3815                   35  \n",
              "3834                    2  \n",
              "4299                   10  \n",
              "4392                  588  \n",
              "4397                    9  \n",
              "4517                  954  \n",
              "4609                  259  \n",
              "4690                 1000  \n",
              "4948                    0  \n",
              "4989                    2  \n",
              "\n",
              "[15 rows x 28 columns]"
            ]
          },
          "execution_count": 16,
          "metadata": {},
          "output_type": "execute_result"
        }
      ],
      "source": [
        "movie_data_nan = movie_data[movie_data['duration'].isnull()]\n",
        "movie_data_nan"
      ]
    },
    {
      "cell_type": "code",
      "execution_count": null,
      "id": "40a54f52",
      "metadata": {
        "id": "40a54f52",
        "outputId": "b7e50d14-998a-4358-807e-82d049c2fd27"
      },
      "outputs": [
        {
          "data": {
            "text/html": [
              "<div>\n",
              "<style scoped>\n",
              "    .dataframe tbody tr th:only-of-type {\n",
              "        vertical-align: middle;\n",
              "    }\n",
              "\n",
              "    .dataframe tbody tr th {\n",
              "        vertical-align: top;\n",
              "    }\n",
              "\n",
              "    .dataframe thead th {\n",
              "        text-align: right;\n",
              "    }\n",
              "</style>\n",
              "<table border=\"1\" class=\"dataframe\">\n",
              "  <thead>\n",
              "    <tr style=\"text-align: right;\">\n",
              "      <th></th>\n",
              "      <th>duration</th>\n",
              "      <th>movie_title</th>\n",
              "    </tr>\n",
              "  </thead>\n",
              "  <tbody>\n",
              "    <tr>\n",
              "      <th>4</th>\n",
              "      <td>NaN</td>\n",
              "      <td>Star Wars: Episode VII - The Force Awakens    ...</td>\n",
              "    </tr>\n",
              "    <tr>\n",
              "      <th>199</th>\n",
              "      <td>NaN</td>\n",
              "      <td>Harry Potter and the Deathly Hallows: Part II</td>\n",
              "    </tr>\n",
              "    <tr>\n",
              "      <th>206</th>\n",
              "      <td>NaN</td>\n",
              "      <td>Harry Potter and the Deathly Hallows: Part I</td>\n",
              "    </tr>\n",
              "    <tr>\n",
              "      <th>1510</th>\n",
              "      <td>NaN</td>\n",
              "      <td>Black Water Transit</td>\n",
              "    </tr>\n",
              "    <tr>\n",
              "      <th>3604</th>\n",
              "      <td>NaN</td>\n",
              "      <td>War &amp; Peace</td>\n",
              "    </tr>\n",
              "    <tr>\n",
              "      <th>3815</th>\n",
              "      <td>NaN</td>\n",
              "      <td>Should've Been Romeo</td>\n",
              "    </tr>\n",
              "    <tr>\n",
              "      <th>3834</th>\n",
              "      <td>NaN</td>\n",
              "      <td>Barfi</td>\n",
              "    </tr>\n",
              "    <tr>\n",
              "      <th>4299</th>\n",
              "      <td>NaN</td>\n",
              "      <td>Hum To Mohabbat Karega</td>\n",
              "    </tr>\n",
              "    <tr>\n",
              "      <th>4392</th>\n",
              "      <td>NaN</td>\n",
              "      <td>N-Secure</td>\n",
              "    </tr>\n",
              "    <tr>\n",
              "      <th>4397</th>\n",
              "      <td>NaN</td>\n",
              "      <td>Dil Jo Bhi Kahey...</td>\n",
              "    </tr>\n",
              "    <tr>\n",
              "      <th>4517</th>\n",
              "      <td>NaN</td>\n",
              "      <td>Wolf Creek</td>\n",
              "    </tr>\n",
              "    <tr>\n",
              "      <th>4609</th>\n",
              "      <td>NaN</td>\n",
              "      <td>Karachi se Lahore</td>\n",
              "    </tr>\n",
              "    <tr>\n",
              "      <th>4690</th>\n",
              "      <td>NaN</td>\n",
              "      <td>Destiny</td>\n",
              "    </tr>\n",
              "    <tr>\n",
              "      <th>4948</th>\n",
              "      <td>NaN</td>\n",
              "      <td>Romantic Schemer</td>\n",
              "    </tr>\n",
              "    <tr>\n",
              "      <th>4989</th>\n",
              "      <td>NaN</td>\n",
              "      <td>The Naked Ape</td>\n",
              "    </tr>\n",
              "  </tbody>\n",
              "</table>\n",
              "</div>"
            ],
            "text/plain": [
              "      duration                                        movie_title\n",
              "4          NaN  Star Wars: Episode VII - The Force Awakens    ...\n",
              "199        NaN     Harry Potter and the Deathly Hallows: Part II \n",
              "206        NaN      Harry Potter and the Deathly Hallows: Part I \n",
              "1510       NaN                               Black Water Transit \n",
              "3604       NaN                           War & Peace             \n",
              "3815       NaN                              Should've Been Romeo \n",
              "3834       NaN                                             Barfi \n",
              "4299       NaN                            Hum To Mohabbat Karega \n",
              "4392       NaN                                          N-Secure \n",
              "4397       NaN                               Dil Jo Bhi Kahey... \n",
              "4517       NaN                            Wolf Creek             \n",
              "4609       NaN                                 Karachi se Lahore \n",
              "4690       NaN                                           Destiny \n",
              "4948       NaN                                  Romantic Schemer \n",
              "4989       NaN                                     The Naked Ape "
            ]
          },
          "execution_count": 17,
          "metadata": {},
          "output_type": "execute_result"
        }
      ],
      "source": [
        "movie_data_nan[['duration', 'movie_title']]"
      ]
    },
    {
      "cell_type": "code",
      "execution_count": null,
      "id": "e355a936",
      "metadata": {
        "id": "e355a936"
      },
      "outputs": [],
      "source": [
        "################################################################################################################################"
      ]
    },
    {
      "cell_type": "code",
      "execution_count": null,
      "id": "f1ac3f70",
      "metadata": {
        "id": "f1ac3f70"
      },
      "outputs": [],
      "source": [
        "# 3. Replace the missing values in the duration column with the median value for this column."
      ]
    },
    {
      "cell_type": "code",
      "execution_count": null,
      "id": "e725a2cc",
      "metadata": {
        "id": "e725a2cc",
        "outputId": "63ffff10-16b7-42b7-cf15-22a5b4646941"
      },
      "outputs": [
        {
          "data": {
            "text/plain": [
              "Int64Index([   4,  199,  206, 1510, 3604, 3815, 3834, 4299, 4392, 4397, 4517,\n",
              "            4609, 4690, 4948, 4989],\n",
              "           dtype='int64')"
            ]
          },
          "execution_count": 20,
          "metadata": {},
          "output_type": "execute_result"
        }
      ],
      "source": [
        "movie_data_nan[['duration', 'movie_title']].index"
      ]
    },
    {
      "cell_type": "code",
      "execution_count": null,
      "id": "ee0adc8f",
      "metadata": {
        "id": "ee0adc8f"
      },
      "outputs": [],
      "source": [
        "movies = movie_data_nan[['duration', 'movie_title']].index"
      ]
    },
    {
      "cell_type": "code",
      "execution_count": null,
      "id": "7eea5d91",
      "metadata": {
        "id": "7eea5d91",
        "outputId": "92703931-e24f-4006-9acd-f58e0859aebf"
      },
      "outputs": [
        {
          "data": {
            "text/plain": [
              "Int64Index([   4,  199,  206, 1510, 3604, 3815, 3834, 4299, 4392, 4397, 4517,\n",
              "            4609, 4690, 4948, 4989],\n",
              "           dtype='int64')"
            ]
          },
          "execution_count": 22,
          "metadata": {},
          "output_type": "execute_result"
        }
      ],
      "source": [
        "movies"
      ]
    },
    {
      "cell_type": "code",
      "execution_count": null,
      "id": "f6d2a51b",
      "metadata": {
        "id": "f6d2a51b",
        "outputId": "d429958d-232c-4872-ce94-46055ce2af04"
      },
      "outputs": [
        {
          "data": {
            "text/plain": [
              "103.0"
            ]
          },
          "execution_count": 23,
          "metadata": {},
          "output_type": "execute_result"
        }
      ],
      "source": [
        "m = movie_data['duration'].median()\n",
        "m"
      ]
    },
    {
      "cell_type": "code",
      "execution_count": null,
      "id": "7f9a48ed",
      "metadata": {
        "id": "7f9a48ed"
      },
      "outputs": [],
      "source": [
        "movie_data['duration'].fillna(m , inplace = True)"
      ]
    },
    {
      "cell_type": "code",
      "execution_count": null,
      "id": "9981f09d",
      "metadata": {
        "id": "9981f09d",
        "outputId": "8db6f79b-e10a-4cc5-a5c6-475e33ba1c1d"
      },
      "outputs": [
        {
          "data": {
            "text/plain": [
              "0"
            ]
          },
          "execution_count": 25,
          "metadata": {},
          "output_type": "execute_result"
        }
      ],
      "source": [
        "movie_data['duration'].isnull().sum(axis = 0)"
      ]
    },
    {
      "cell_type": "code",
      "execution_count": null,
      "id": "aec7178a",
      "metadata": {
        "id": "aec7178a",
        "outputId": "77d811c2-f3fc-4502-ad2d-5cd961241dc1"
      },
      "outputs": [
        {
          "data": {
            "text/html": [
              "<div>\n",
              "<style scoped>\n",
              "    .dataframe tbody tr th:only-of-type {\n",
              "        vertical-align: middle;\n",
              "    }\n",
              "\n",
              "    .dataframe tbody tr th {\n",
              "        vertical-align: top;\n",
              "    }\n",
              "\n",
              "    .dataframe thead th {\n",
              "        text-align: right;\n",
              "    }\n",
              "</style>\n",
              "<table border=\"1\" class=\"dataframe\">\n",
              "  <thead>\n",
              "    <tr style=\"text-align: right;\">\n",
              "      <th></th>\n",
              "      <th>duration</th>\n",
              "      <th>movie_title</th>\n",
              "    </tr>\n",
              "  </thead>\n",
              "  <tbody>\n",
              "    <tr>\n",
              "      <th>4</th>\n",
              "      <td>103.0</td>\n",
              "      <td>Star Wars: Episode VII - The Force Awakens    ...</td>\n",
              "    </tr>\n",
              "    <tr>\n",
              "      <th>199</th>\n",
              "      <td>103.0</td>\n",
              "      <td>Harry Potter and the Deathly Hallows: Part II</td>\n",
              "    </tr>\n",
              "    <tr>\n",
              "      <th>206</th>\n",
              "      <td>103.0</td>\n",
              "      <td>Harry Potter and the Deathly Hallows: Part I</td>\n",
              "    </tr>\n",
              "    <tr>\n",
              "      <th>1510</th>\n",
              "      <td>103.0</td>\n",
              "      <td>Black Water Transit</td>\n",
              "    </tr>\n",
              "    <tr>\n",
              "      <th>3604</th>\n",
              "      <td>103.0</td>\n",
              "      <td>War &amp; Peace</td>\n",
              "    </tr>\n",
              "    <tr>\n",
              "      <th>3815</th>\n",
              "      <td>103.0</td>\n",
              "      <td>Should've Been Romeo</td>\n",
              "    </tr>\n",
              "    <tr>\n",
              "      <th>3834</th>\n",
              "      <td>103.0</td>\n",
              "      <td>Barfi</td>\n",
              "    </tr>\n",
              "    <tr>\n",
              "      <th>4299</th>\n",
              "      <td>103.0</td>\n",
              "      <td>Hum To Mohabbat Karega</td>\n",
              "    </tr>\n",
              "    <tr>\n",
              "      <th>4392</th>\n",
              "      <td>103.0</td>\n",
              "      <td>N-Secure</td>\n",
              "    </tr>\n",
              "    <tr>\n",
              "      <th>4397</th>\n",
              "      <td>103.0</td>\n",
              "      <td>Dil Jo Bhi Kahey...</td>\n",
              "    </tr>\n",
              "    <tr>\n",
              "      <th>4517</th>\n",
              "      <td>103.0</td>\n",
              "      <td>Wolf Creek</td>\n",
              "    </tr>\n",
              "    <tr>\n",
              "      <th>4609</th>\n",
              "      <td>103.0</td>\n",
              "      <td>Karachi se Lahore</td>\n",
              "    </tr>\n",
              "    <tr>\n",
              "      <th>4690</th>\n",
              "      <td>103.0</td>\n",
              "      <td>Destiny</td>\n",
              "    </tr>\n",
              "    <tr>\n",
              "      <th>4948</th>\n",
              "      <td>103.0</td>\n",
              "      <td>Romantic Schemer</td>\n",
              "    </tr>\n",
              "    <tr>\n",
              "      <th>4989</th>\n",
              "      <td>103.0</td>\n",
              "      <td>The Naked Ape</td>\n",
              "    </tr>\n",
              "  </tbody>\n",
              "</table>\n",
              "</div>"
            ],
            "text/plain": [
              "      duration                                        movie_title\n",
              "4        103.0  Star Wars: Episode VII - The Force Awakens    ...\n",
              "199      103.0     Harry Potter and the Deathly Hallows: Part II \n",
              "206      103.0      Harry Potter and the Deathly Hallows: Part I \n",
              "1510     103.0                               Black Water Transit \n",
              "3604     103.0                           War & Peace             \n",
              "3815     103.0                              Should've Been Romeo \n",
              "3834     103.0                                             Barfi \n",
              "4299     103.0                            Hum To Mohabbat Karega \n",
              "4392     103.0                                          N-Secure \n",
              "4397     103.0                               Dil Jo Bhi Kahey... \n",
              "4517     103.0                            Wolf Creek             \n",
              "4609     103.0                                 Karachi se Lahore \n",
              "4690     103.0                                           Destiny \n",
              "4948     103.0                                  Romantic Schemer \n",
              "4989     103.0                                     The Naked Ape "
            ]
          },
          "execution_count": 26,
          "metadata": {},
          "output_type": "execute_result"
        }
      ],
      "source": [
        "# Check\n",
        "movie_data.loc[movies,['duration', 'movie_title']]"
      ]
    },
    {
      "cell_type": "code",
      "execution_count": null,
      "id": "9039add9",
      "metadata": {
        "id": "9039add9"
      },
      "outputs": [],
      "source": [
        "################################################################################################################################"
      ]
    },
    {
      "cell_type": "code",
      "execution_count": null,
      "id": "13e6b33c",
      "metadata": {
        "id": "13e6b33c"
      },
      "outputs": [],
      "source": [
        "# 4. What is the average film length? Give the answer as a floating-point figure rounded to two decimal places."
      ]
    },
    {
      "cell_type": "code",
      "execution_count": null,
      "id": "49d03719",
      "metadata": {
        "id": "49d03719",
        "outputId": "462985fd-fedf-454b-aef6-89606c37b052"
      },
      "outputs": [
        {
          "data": {
            "text/plain": [
              "107.19"
            ]
          },
          "execution_count": 29,
          "metadata": {},
          "output_type": "execute_result"
        }
      ],
      "source": [
        "round(movie_data['duration'].mean(),2)"
      ]
    },
    {
      "cell_type": "code",
      "execution_count": null,
      "id": "8077af3c",
      "metadata": {
        "id": "8077af3c"
      },
      "outputs": [],
      "source": [
        "################################################################################################################################"
      ]
    },
    {
      "cell_type": "code",
      "execution_count": null,
      "id": "da7f5278",
      "metadata": {
        "id": "da7f5278"
      },
      "outputs": [],
      "source": [
        "# 5. Create a movie_duration_category column, which will contain three categories\n",
        "# depending on the film length:\n",
        "# Category \"1. <90\" if the film is less than 90 minutes long\n",
        "# Category \"2. 90–120\" if the film is between 90 minutes and two hours long (inclusively)\n",
        "# Category \"3. >120\" if the film is more than two hours long"
      ]
    },
    {
      "cell_type": "code",
      "execution_count": null,
      "id": "7213f9e1",
      "metadata": {
        "id": "7213f9e1",
        "outputId": "0da4718e-aeb3-45b5-9d78-e8c5f34f0062"
      },
      "outputs": [
        {
          "data": {
            "text/plain": [
              "0       178.0\n",
              "1       169.0\n",
              "2       148.0\n",
              "3       164.0\n",
              "4       103.0\n",
              "        ...  \n",
              "5038     87.0\n",
              "5039     43.0\n",
              "5040     76.0\n",
              "5041    100.0\n",
              "5042     90.0\n",
              "Name: duration, Length: 5043, dtype: float64"
            ]
          },
          "execution_count": 32,
          "metadata": {},
          "output_type": "execute_result"
        }
      ],
      "source": [
        "movie_data['duration']"
      ]
    },
    {
      "cell_type": "code",
      "execution_count": null,
      "id": "f1b011b6",
      "metadata": {
        "id": "f1b011b6",
        "outputId": "b40cee88-da1e-4e5c-dab8-5170b8564480"
      },
      "outputs": [
        {
          "data": {
            "text/plain": [
              "511.0"
            ]
          },
          "execution_count": 33,
          "metadata": {},
          "output_type": "execute_result"
        }
      ],
      "source": [
        "duration_max = movie_data['duration'].max(axis=0)\n",
        "duration_max"
      ]
    },
    {
      "cell_type": "code",
      "execution_count": null,
      "id": "2c7032eb",
      "metadata": {
        "id": "2c7032eb"
      },
      "outputs": [],
      "source": [
        "category = [0, 90, 120, 520]"
      ]
    },
    {
      "cell_type": "code",
      "execution_count": null,
      "id": "49fe24b8",
      "metadata": {
        "id": "49fe24b8"
      },
      "outputs": [],
      "source": [
        "labels = ['1', '2', '3']"
      ]
    },
    {
      "cell_type": "code",
      "execution_count": null,
      "id": "7843effd",
      "metadata": {
        "id": "7843effd"
      },
      "outputs": [],
      "source": [
        "movie_data['movie_data_duration'] = pd.cut(movie_data['duration'],\n",
        "                                           category,\n",
        "                                           labels = labels,\n",
        "                                           right  = False)"
      ]
    },
    {
      "cell_type": "code",
      "execution_count": null,
      "id": "04e853e3",
      "metadata": {
        "id": "04e853e3",
        "outputId": "7e37c4af-3e94-4643-d656-bbdebcd4f8d6"
      },
      "outputs": [
        {
          "data": {
            "text/html": [
              "<div>\n",
              "<style scoped>\n",
              "    .dataframe tbody tr th:only-of-type {\n",
              "        vertical-align: middle;\n",
              "    }\n",
              "\n",
              "    .dataframe tbody tr th {\n",
              "        vertical-align: top;\n",
              "    }\n",
              "\n",
              "    .dataframe thead th {\n",
              "        text-align: right;\n",
              "    }\n",
              "</style>\n",
              "<table border=\"1\" class=\"dataframe\">\n",
              "  <thead>\n",
              "    <tr style=\"text-align: right;\">\n",
              "      <th></th>\n",
              "      <th>color</th>\n",
              "      <th>director_name</th>\n",
              "      <th>num_critic_for_reviews</th>\n",
              "      <th>duration</th>\n",
              "      <th>director_facebook_likes</th>\n",
              "      <th>actor_3_facebook_likes</th>\n",
              "      <th>actor_2_name</th>\n",
              "      <th>actor_1_facebook_likes</th>\n",
              "      <th>gross</th>\n",
              "      <th>genres</th>\n",
              "      <th>...</th>\n",
              "      <th>language</th>\n",
              "      <th>country</th>\n",
              "      <th>content_rating</th>\n",
              "      <th>budget</th>\n",
              "      <th>title_year</th>\n",
              "      <th>actor_2_facebook_likes</th>\n",
              "      <th>imdb_score</th>\n",
              "      <th>aspect_ratio</th>\n",
              "      <th>movie_facebook_likes</th>\n",
              "      <th>movie_data_duration</th>\n",
              "    </tr>\n",
              "  </thead>\n",
              "  <tbody>\n",
              "    <tr>\n",
              "      <th>0</th>\n",
              "      <td>Color</td>\n",
              "      <td>James Cameron</td>\n",
              "      <td>723.0</td>\n",
              "      <td>178.0</td>\n",
              "      <td>0.0</td>\n",
              "      <td>855.0</td>\n",
              "      <td>Joel David Moore</td>\n",
              "      <td>1000.0</td>\n",
              "      <td>760505847.0</td>\n",
              "      <td>Action|Adventure|Fantasy|Sci-Fi</td>\n",
              "      <td>...</td>\n",
              "      <td>English</td>\n",
              "      <td>USA</td>\n",
              "      <td>PG-13</td>\n",
              "      <td>237000000.0$</td>\n",
              "      <td>2009.0</td>\n",
              "      <td>936.0</td>\n",
              "      <td>7.9</td>\n",
              "      <td>1.78</td>\n",
              "      <td>33000</td>\n",
              "      <td>3</td>\n",
              "    </tr>\n",
              "    <tr>\n",
              "      <th>1</th>\n",
              "      <td>Color</td>\n",
              "      <td>Gore Verbinski</td>\n",
              "      <td>302.0</td>\n",
              "      <td>169.0</td>\n",
              "      <td>563.0</td>\n",
              "      <td>1000.0</td>\n",
              "      <td>Orlando Bloom</td>\n",
              "      <td>40000.0</td>\n",
              "      <td>309404152.0</td>\n",
              "      <td>Action|Adventure|Fantasy</td>\n",
              "      <td>...</td>\n",
              "      <td>English</td>\n",
              "      <td>USA</td>\n",
              "      <td>PG-13</td>\n",
              "      <td>300000000.0$</td>\n",
              "      <td>2007.0</td>\n",
              "      <td>5000.0</td>\n",
              "      <td>7.1</td>\n",
              "      <td>2.35</td>\n",
              "      <td>0</td>\n",
              "      <td>3</td>\n",
              "    </tr>\n",
              "    <tr>\n",
              "      <th>2</th>\n",
              "      <td>Color</td>\n",
              "      <td>Sam Mendes</td>\n",
              "      <td>602.0</td>\n",
              "      <td>148.0</td>\n",
              "      <td>0.0</td>\n",
              "      <td>161.0</td>\n",
              "      <td>Rory Kinnear</td>\n",
              "      <td>11000.0</td>\n",
              "      <td>200074175.0</td>\n",
              "      <td>Action|Adventure|Thriller</td>\n",
              "      <td>...</td>\n",
              "      <td>English</td>\n",
              "      <td>UK</td>\n",
              "      <td>PG-13</td>\n",
              "      <td>245000000.0$</td>\n",
              "      <td>2015.0</td>\n",
              "      <td>393.0</td>\n",
              "      <td>6.8</td>\n",
              "      <td>2.35</td>\n",
              "      <td>85000</td>\n",
              "      <td>3</td>\n",
              "    </tr>\n",
              "    <tr>\n",
              "      <th>3</th>\n",
              "      <td>Color</td>\n",
              "      <td>Christopher Nolan</td>\n",
              "      <td>813.0</td>\n",
              "      <td>164.0</td>\n",
              "      <td>22000.0</td>\n",
              "      <td>23000.0</td>\n",
              "      <td>Christian Bale</td>\n",
              "      <td>27000.0</td>\n",
              "      <td>448130642.0</td>\n",
              "      <td>Action|Thriller</td>\n",
              "      <td>...</td>\n",
              "      <td>English</td>\n",
              "      <td>USA</td>\n",
              "      <td>PG-13</td>\n",
              "      <td>250000000.0$</td>\n",
              "      <td>2012.0</td>\n",
              "      <td>23000.0</td>\n",
              "      <td>8.5</td>\n",
              "      <td>2.35</td>\n",
              "      <td>164000</td>\n",
              "      <td>3</td>\n",
              "    </tr>\n",
              "    <tr>\n",
              "      <th>4</th>\n",
              "      <td>NaN</td>\n",
              "      <td>Doug Walker</td>\n",
              "      <td>NaN</td>\n",
              "      <td>103.0</td>\n",
              "      <td>131.0</td>\n",
              "      <td>NaN</td>\n",
              "      <td>Rob Walker</td>\n",
              "      <td>131.0</td>\n",
              "      <td>NaN</td>\n",
              "      <td>Documentary</td>\n",
              "      <td>...</td>\n",
              "      <td>NaN</td>\n",
              "      <td>NaN</td>\n",
              "      <td>NaN</td>\n",
              "      <td>0.0$</td>\n",
              "      <td>NaN</td>\n",
              "      <td>12.0</td>\n",
              "      <td>7.1</td>\n",
              "      <td>NaN</td>\n",
              "      <td>0</td>\n",
              "      <td>2</td>\n",
              "    </tr>\n",
              "  </tbody>\n",
              "</table>\n",
              "<p>5 rows × 29 columns</p>\n",
              "</div>"
            ],
            "text/plain": [
              "   color      director_name  num_critic_for_reviews  duration  \\\n",
              "0  Color      James Cameron                   723.0     178.0   \n",
              "1  Color     Gore Verbinski                   302.0     169.0   \n",
              "2  Color         Sam Mendes                   602.0     148.0   \n",
              "3  Color  Christopher Nolan                   813.0     164.0   \n",
              "4    NaN        Doug Walker                     NaN     103.0   \n",
              "\n",
              "   director_facebook_likes  actor_3_facebook_likes      actor_2_name  \\\n",
              "0                      0.0                   855.0  Joel David Moore   \n",
              "1                    563.0                  1000.0     Orlando Bloom   \n",
              "2                      0.0                   161.0      Rory Kinnear   \n",
              "3                  22000.0                 23000.0    Christian Bale   \n",
              "4                    131.0                     NaN        Rob Walker   \n",
              "\n",
              "   actor_1_facebook_likes        gross                           genres  ...  \\\n",
              "0                  1000.0  760505847.0  Action|Adventure|Fantasy|Sci-Fi  ...   \n",
              "1                 40000.0  309404152.0         Action|Adventure|Fantasy  ...   \n",
              "2                 11000.0  200074175.0        Action|Adventure|Thriller  ...   \n",
              "3                 27000.0  448130642.0                  Action|Thriller  ...   \n",
              "4                   131.0          NaN                      Documentary  ...   \n",
              "\n",
              "  language country  content_rating        budget title_year  \\\n",
              "0  English     USA           PG-13  237000000.0$     2009.0   \n",
              "1  English     USA           PG-13  300000000.0$     2007.0   \n",
              "2  English      UK           PG-13  245000000.0$     2015.0   \n",
              "3  English     USA           PG-13  250000000.0$     2012.0   \n",
              "4      NaN     NaN             NaN          0.0$        NaN   \n",
              "\n",
              "   actor_2_facebook_likes imdb_score aspect_ratio  movie_facebook_likes  \\\n",
              "0                   936.0        7.9         1.78                 33000   \n",
              "1                  5000.0        7.1         2.35                     0   \n",
              "2                   393.0        6.8         2.35                 85000   \n",
              "3                 23000.0        8.5         2.35                164000   \n",
              "4                    12.0        7.1          NaN                     0   \n",
              "\n",
              "  movie_data_duration  \n",
              "0                   3  \n",
              "1                   3  \n",
              "2                   3  \n",
              "3                   3  \n",
              "4                   2  \n",
              "\n",
              "[5 rows x 29 columns]"
            ]
          },
          "execution_count": 37,
          "metadata": {},
          "output_type": "execute_result"
        }
      ],
      "source": [
        "movie_data.head(5)"
      ]
    },
    {
      "cell_type": "code",
      "execution_count": null,
      "id": "885f53cc",
      "metadata": {
        "id": "885f53cc"
      },
      "outputs": [],
      "source": [
        "################################################################################################################################"
      ]
    },
    {
      "cell_type": "code",
      "execution_count": null,
      "id": "8d2f7635",
      "metadata": {
        "id": "8d2f7635"
      },
      "outputs": [],
      "source": [
        "#  6. Build a summary table for films released after 2000 (inclusively), to list the numbers of films:\n",
        "# • Table rows: year\n",
        "# • Table columns: movie duration category (\"<90\", \"90–120\", \">120\")\n",
        "# • The year of release should be displayed in the YYYY format."
      ]
    },
    {
      "cell_type": "code",
      "execution_count": null,
      "id": "2bafd036",
      "metadata": {
        "id": "2bafd036",
        "outputId": "e12615fb-a65b-48d1-c890-dddd685a2178"
      },
      "outputs": [
        {
          "data": {
            "text/plain": [
              "Index(['color', 'director_name', 'num_critic_for_reviews', 'duration',\n",
              "       'director_facebook_likes', 'actor_3_facebook_likes', 'actor_2_name',\n",
              "       'actor_1_facebook_likes', 'gross', 'genres', 'actor_1_name',\n",
              "       'movie_title', 'num_voted_users', 'cast_total_facebook_likes',\n",
              "       'actor_3_name', 'facenumber_in_poster', 'plot_keywords',\n",
              "       'movie_imdb_link', 'num_user_for_reviews', 'language', 'country',\n",
              "       'content_rating', 'budget', 'title_year', 'actor_2_facebook_likes',\n",
              "       'imdb_score', 'aspect_ratio', 'movie_facebook_likes',\n",
              "       'movie_data_duration'],\n",
              "      dtype='object')"
            ]
          },
          "execution_count": 40,
          "metadata": {},
          "output_type": "execute_result"
        }
      ],
      "source": [
        "movie_data.columns"
      ]
    },
    {
      "cell_type": "code",
      "execution_count": null,
      "id": "d1b53024",
      "metadata": {
        "id": "d1b53024",
        "outputId": "7798466f-1d14-4be6-8021-634f0c66de72"
      },
      "outputs": [
        {
          "data": {
            "text/html": [
              "<div>\n",
              "<style scoped>\n",
              "    .dataframe tbody tr th:only-of-type {\n",
              "        vertical-align: middle;\n",
              "    }\n",
              "\n",
              "    .dataframe tbody tr th {\n",
              "        vertical-align: top;\n",
              "    }\n",
              "\n",
              "    .dataframe thead th {\n",
              "        text-align: right;\n",
              "    }\n",
              "</style>\n",
              "<table border=\"1\" class=\"dataframe\">\n",
              "  <thead>\n",
              "    <tr style=\"text-align: right;\">\n",
              "      <th></th>\n",
              "      <th>title_year</th>\n",
              "      <th>movie_data_duration</th>\n",
              "    </tr>\n",
              "  </thead>\n",
              "  <tbody>\n",
              "    <tr>\n",
              "      <th>0</th>\n",
              "      <td>2009.0</td>\n",
              "      <td>3</td>\n",
              "    </tr>\n",
              "    <tr>\n",
              "      <th>1</th>\n",
              "      <td>2007.0</td>\n",
              "      <td>3</td>\n",
              "    </tr>\n",
              "    <tr>\n",
              "      <th>2</th>\n",
              "      <td>2015.0</td>\n",
              "      <td>3</td>\n",
              "    </tr>\n",
              "    <tr>\n",
              "      <th>3</th>\n",
              "      <td>2012.0</td>\n",
              "      <td>3</td>\n",
              "    </tr>\n",
              "    <tr>\n",
              "      <th>4</th>\n",
              "      <td>NaN</td>\n",
              "      <td>2</td>\n",
              "    </tr>\n",
              "    <tr>\n",
              "      <th>...</th>\n",
              "      <td>...</td>\n",
              "      <td>...</td>\n",
              "    </tr>\n",
              "    <tr>\n",
              "      <th>5038</th>\n",
              "      <td>2013.0</td>\n",
              "      <td>1</td>\n",
              "    </tr>\n",
              "    <tr>\n",
              "      <th>5039</th>\n",
              "      <td>NaN</td>\n",
              "      <td>1</td>\n",
              "    </tr>\n",
              "    <tr>\n",
              "      <th>5040</th>\n",
              "      <td>2013.0</td>\n",
              "      <td>1</td>\n",
              "    </tr>\n",
              "    <tr>\n",
              "      <th>5041</th>\n",
              "      <td>2012.0</td>\n",
              "      <td>2</td>\n",
              "    </tr>\n",
              "    <tr>\n",
              "      <th>5042</th>\n",
              "      <td>2004.0</td>\n",
              "      <td>2</td>\n",
              "    </tr>\n",
              "  </tbody>\n",
              "</table>\n",
              "<p>5043 rows × 2 columns</p>\n",
              "</div>"
            ],
            "text/plain": [
              "      title_year movie_data_duration\n",
              "0         2009.0                   3\n",
              "1         2007.0                   3\n",
              "2         2015.0                   3\n",
              "3         2012.0                   3\n",
              "4            NaN                   2\n",
              "...          ...                 ...\n",
              "5038      2013.0                   1\n",
              "5039         NaN                   1\n",
              "5040      2013.0                   1\n",
              "5041      2012.0                   2\n",
              "5042      2004.0                   2\n",
              "\n",
              "[5043 rows x 2 columns]"
            ]
          },
          "execution_count": 41,
          "metadata": {},
          "output_type": "execute_result"
        }
      ],
      "source": [
        "# Legend : <90 ->1 \n",
        "#           90 – 120 -> 2\n",
        "#          >120 -> 3\n",
        "task_6  = movie_data[['title_year', 'movie_data_duration']]\n",
        "task_6"
      ]
    },
    {
      "cell_type": "code",
      "execution_count": null,
      "id": "51de3922",
      "metadata": {
        "id": "51de3922",
        "outputId": "ab41ac78-df81-4175-fc91-33ec2c4f3570"
      },
      "outputs": [
        {
          "data": {
            "text/plain": [
              "108"
            ]
          },
          "execution_count": 42,
          "metadata": {},
          "output_type": "execute_result"
        }
      ],
      "source": [
        "task_6['title_year'].isnull().sum(axis = 0)"
      ]
    },
    {
      "cell_type": "code",
      "execution_count": null,
      "id": "18c9cdee",
      "metadata": {
        "id": "18c9cdee"
      },
      "outputs": [],
      "source": [
        "task_6.dropna(axis = 0, how ='any', inplace=True)"
      ]
    },
    {
      "cell_type": "code",
      "execution_count": null,
      "id": "d1717ffb",
      "metadata": {
        "id": "d1717ffb",
        "outputId": "32ee6c02-029d-4021-865a-018cc18f2a3c"
      },
      "outputs": [
        {
          "data": {
            "text/html": [
              "<div>\n",
              "<style scoped>\n",
              "    .dataframe tbody tr th:only-of-type {\n",
              "        vertical-align: middle;\n",
              "    }\n",
              "\n",
              "    .dataframe tbody tr th {\n",
              "        vertical-align: top;\n",
              "    }\n",
              "\n",
              "    .dataframe thead th {\n",
              "        text-align: right;\n",
              "    }\n",
              "</style>\n",
              "<table border=\"1\" class=\"dataframe\">\n",
              "  <thead>\n",
              "    <tr style=\"text-align: right;\">\n",
              "      <th></th>\n",
              "      <th>title_year</th>\n",
              "      <th>movie_data_duration</th>\n",
              "    </tr>\n",
              "  </thead>\n",
              "  <tbody>\n",
              "    <tr>\n",
              "      <th>0</th>\n",
              "      <td>2009.0</td>\n",
              "      <td>3</td>\n",
              "    </tr>\n",
              "    <tr>\n",
              "      <th>1</th>\n",
              "      <td>2007.0</td>\n",
              "      <td>3</td>\n",
              "    </tr>\n",
              "    <tr>\n",
              "      <th>2</th>\n",
              "      <td>2015.0</td>\n",
              "      <td>3</td>\n",
              "    </tr>\n",
              "    <tr>\n",
              "      <th>3</th>\n",
              "      <td>2012.0</td>\n",
              "      <td>3</td>\n",
              "    </tr>\n",
              "    <tr>\n",
              "      <th>5</th>\n",
              "      <td>2012.0</td>\n",
              "      <td>3</td>\n",
              "    </tr>\n",
              "    <tr>\n",
              "      <th>...</th>\n",
              "      <td>...</td>\n",
              "      <td>...</td>\n",
              "    </tr>\n",
              "    <tr>\n",
              "      <th>5037</th>\n",
              "      <td>2011.0</td>\n",
              "      <td>2</td>\n",
              "    </tr>\n",
              "    <tr>\n",
              "      <th>5038</th>\n",
              "      <td>2013.0</td>\n",
              "      <td>1</td>\n",
              "    </tr>\n",
              "    <tr>\n",
              "      <th>5040</th>\n",
              "      <td>2013.0</td>\n",
              "      <td>1</td>\n",
              "    </tr>\n",
              "    <tr>\n",
              "      <th>5041</th>\n",
              "      <td>2012.0</td>\n",
              "      <td>2</td>\n",
              "    </tr>\n",
              "    <tr>\n",
              "      <th>5042</th>\n",
              "      <td>2004.0</td>\n",
              "      <td>2</td>\n",
              "    </tr>\n",
              "  </tbody>\n",
              "</table>\n",
              "<p>4935 rows × 2 columns</p>\n",
              "</div>"
            ],
            "text/plain": [
              "      title_year movie_data_duration\n",
              "0         2009.0                   3\n",
              "1         2007.0                   3\n",
              "2         2015.0                   3\n",
              "3         2012.0                   3\n",
              "5         2012.0                   3\n",
              "...          ...                 ...\n",
              "5037      2011.0                   2\n",
              "5038      2013.0                   1\n",
              "5040      2013.0                   1\n",
              "5041      2012.0                   2\n",
              "5042      2004.0                   2\n",
              "\n",
              "[4935 rows x 2 columns]"
            ]
          },
          "execution_count": 44,
          "metadata": {},
          "output_type": "execute_result"
        }
      ],
      "source": [
        "task_6"
      ]
    },
    {
      "cell_type": "code",
      "execution_count": null,
      "id": "6acaee66",
      "metadata": {
        "id": "6acaee66",
        "outputId": "20efc3b6-9a50-4a40-eee2-73c6869cd38f"
      },
      "outputs": [
        {
          "data": {
            "text/plain": [
              "0"
            ]
          },
          "execution_count": 45,
          "metadata": {},
          "output_type": "execute_result"
        }
      ],
      "source": [
        "task_6['title_year'].isnull().sum(axis = 0)"
      ]
    },
    {
      "cell_type": "code",
      "execution_count": null,
      "id": "603cbab8",
      "metadata": {
        "id": "603cbab8"
      },
      "outputs": [],
      "source": [
        "task_6 = task_6.sort_values(by='title_year', ascending = False) "
      ]
    },
    {
      "cell_type": "code",
      "execution_count": null,
      "id": "4f533b78",
      "metadata": {
        "id": "4f533b78",
        "outputId": "7809de1e-dd7a-420d-e787-4331b2d12623"
      },
      "outputs": [
        {
          "data": {
            "text/html": [
              "<div>\n",
              "<style scoped>\n",
              "    .dataframe tbody tr th:only-of-type {\n",
              "        vertical-align: middle;\n",
              "    }\n",
              "\n",
              "    .dataframe tbody tr th {\n",
              "        vertical-align: top;\n",
              "    }\n",
              "\n",
              "    .dataframe thead th {\n",
              "        text-align: right;\n",
              "    }\n",
              "</style>\n",
              "<table border=\"1\" class=\"dataframe\">\n",
              "  <thead>\n",
              "    <tr style=\"text-align: right;\">\n",
              "      <th></th>\n",
              "      <th>title_year</th>\n",
              "      <th>movie_data_duration</th>\n",
              "    </tr>\n",
              "  </thead>\n",
              "  <tbody>\n",
              "    <tr>\n",
              "      <th>2366</th>\n",
              "      <td>2016.0</td>\n",
              "      <td>2</td>\n",
              "    </tr>\n",
              "    <tr>\n",
              "      <th>3817</th>\n",
              "      <td>2016.0</td>\n",
              "      <td>1</td>\n",
              "    </tr>\n",
              "    <tr>\n",
              "      <th>1367</th>\n",
              "      <td>2016.0</td>\n",
              "      <td>2</td>\n",
              "    </tr>\n",
              "    <tr>\n",
              "      <th>1742</th>\n",
              "      <td>2016.0</td>\n",
              "      <td>2</td>\n",
              "    </tr>\n",
              "    <tr>\n",
              "      <th>519</th>\n",
              "      <td>2016.0</td>\n",
              "      <td>1</td>\n",
              "    </tr>\n",
              "    <tr>\n",
              "      <th>...</th>\n",
              "      <td>...</td>\n",
              "      <td>...</td>\n",
              "    </tr>\n",
              "    <tr>\n",
              "      <th>4664</th>\n",
              "      <td>1929.0</td>\n",
              "      <td>2</td>\n",
              "    </tr>\n",
              "    <tr>\n",
              "      <th>2734</th>\n",
              "      <td>1927.0</td>\n",
              "      <td>3</td>\n",
              "    </tr>\n",
              "    <tr>\n",
              "      <th>4885</th>\n",
              "      <td>1925.0</td>\n",
              "      <td>3</td>\n",
              "    </tr>\n",
              "    <tr>\n",
              "      <th>4958</th>\n",
              "      <td>1920.0</td>\n",
              "      <td>2</td>\n",
              "    </tr>\n",
              "    <tr>\n",
              "      <th>4810</th>\n",
              "      <td>1916.0</td>\n",
              "      <td>3</td>\n",
              "    </tr>\n",
              "  </tbody>\n",
              "</table>\n",
              "<p>4935 rows × 2 columns</p>\n",
              "</div>"
            ],
            "text/plain": [
              "      title_year movie_data_duration\n",
              "2366      2016.0                   2\n",
              "3817      2016.0                   1\n",
              "1367      2016.0                   2\n",
              "1742      2016.0                   2\n",
              "519       2016.0                   1\n",
              "...          ...                 ...\n",
              "4664      1929.0                   2\n",
              "2734      1927.0                   3\n",
              "4885      1925.0                   3\n",
              "4958      1920.0                   2\n",
              "4810      1916.0                   3\n",
              "\n",
              "[4935 rows x 2 columns]"
            ]
          },
          "execution_count": 47,
          "metadata": {},
          "output_type": "execute_result"
        }
      ],
      "source": [
        "task_6"
      ]
    },
    {
      "cell_type": "code",
      "execution_count": null,
      "id": "f039ab7a",
      "metadata": {
        "id": "f039ab7a",
        "outputId": "32ebc247-76d7-462b-91a2-6f238ba137f6"
      },
      "outputs": [
        {
          "data": {
            "text/plain": [
              "dtype('float64')"
            ]
          },
          "execution_count": 48,
          "metadata": {},
          "output_type": "execute_result"
        }
      ],
      "source": [
        "task_6['title_year'].dtype"
      ]
    },
    {
      "cell_type": "code",
      "execution_count": null,
      "id": "b85d3f88",
      "metadata": {
        "id": "b85d3f88"
      },
      "outputs": [],
      "source": [
        "title_year_a = task_6['title_year'].astype(np.int64)"
      ]
    },
    {
      "cell_type": "code",
      "execution_count": null,
      "id": "a7155e2e",
      "metadata": {
        "id": "a7155e2e",
        "outputId": "aaa25a44-d850-49fe-ae6d-bbcebc16d8d9"
      },
      "outputs": [
        {
          "data": {
            "text/plain": [
              "2366    2016\n",
              "3817    2016\n",
              "1367    2016\n",
              "1742    2016\n",
              "519     2016\n",
              "        ... \n",
              "4664    1929\n",
              "2734    1927\n",
              "4885    1925\n",
              "4958    1920\n",
              "4810    1916\n",
              "Name: title_year, Length: 4935, dtype: int64"
            ]
          },
          "execution_count": 50,
          "metadata": {},
          "output_type": "execute_result"
        }
      ],
      "source": [
        "title_year_a"
      ]
    },
    {
      "cell_type": "code",
      "execution_count": null,
      "id": "d8874fd8",
      "metadata": {
        "id": "d8874fd8"
      },
      "outputs": [],
      "source": [
        "dados_full = pd.concat([title_year_a, task_6['movie_data_duration']], axis=1)"
      ]
    },
    {
      "cell_type": "code",
      "execution_count": null,
      "id": "70ce53f5",
      "metadata": {
        "id": "70ce53f5",
        "outputId": "b590e953-46b9-4c4a-ff0a-33255dab4310"
      },
      "outputs": [
        {
          "data": {
            "text/html": [
              "<div>\n",
              "<style scoped>\n",
              "    .dataframe tbody tr th:only-of-type {\n",
              "        vertical-align: middle;\n",
              "    }\n",
              "\n",
              "    .dataframe tbody tr th {\n",
              "        vertical-align: top;\n",
              "    }\n",
              "\n",
              "    .dataframe thead th {\n",
              "        text-align: right;\n",
              "    }\n",
              "</style>\n",
              "<table border=\"1\" class=\"dataframe\">\n",
              "  <thead>\n",
              "    <tr style=\"text-align: right;\">\n",
              "      <th></th>\n",
              "      <th>title_year</th>\n",
              "      <th>movie_data_duration</th>\n",
              "    </tr>\n",
              "  </thead>\n",
              "  <tbody>\n",
              "    <tr>\n",
              "      <th>2366</th>\n",
              "      <td>2016</td>\n",
              "      <td>2</td>\n",
              "    </tr>\n",
              "    <tr>\n",
              "      <th>3817</th>\n",
              "      <td>2016</td>\n",
              "      <td>1</td>\n",
              "    </tr>\n",
              "    <tr>\n",
              "      <th>1367</th>\n",
              "      <td>2016</td>\n",
              "      <td>2</td>\n",
              "    </tr>\n",
              "    <tr>\n",
              "      <th>1742</th>\n",
              "      <td>2016</td>\n",
              "      <td>2</td>\n",
              "    </tr>\n",
              "    <tr>\n",
              "      <th>519</th>\n",
              "      <td>2016</td>\n",
              "      <td>1</td>\n",
              "    </tr>\n",
              "    <tr>\n",
              "      <th>...</th>\n",
              "      <td>...</td>\n",
              "      <td>...</td>\n",
              "    </tr>\n",
              "    <tr>\n",
              "      <th>4664</th>\n",
              "      <td>1929</td>\n",
              "      <td>2</td>\n",
              "    </tr>\n",
              "    <tr>\n",
              "      <th>2734</th>\n",
              "      <td>1927</td>\n",
              "      <td>3</td>\n",
              "    </tr>\n",
              "    <tr>\n",
              "      <th>4885</th>\n",
              "      <td>1925</td>\n",
              "      <td>3</td>\n",
              "    </tr>\n",
              "    <tr>\n",
              "      <th>4958</th>\n",
              "      <td>1920</td>\n",
              "      <td>2</td>\n",
              "    </tr>\n",
              "    <tr>\n",
              "      <th>4810</th>\n",
              "      <td>1916</td>\n",
              "      <td>3</td>\n",
              "    </tr>\n",
              "  </tbody>\n",
              "</table>\n",
              "<p>4935 rows × 2 columns</p>\n",
              "</div>"
            ],
            "text/plain": [
              "      title_year movie_data_duration\n",
              "2366        2016                   2\n",
              "3817        2016                   1\n",
              "1367        2016                   2\n",
              "1742        2016                   2\n",
              "519         2016                   1\n",
              "...          ...                 ...\n",
              "4664        1929                   2\n",
              "2734        1927                   3\n",
              "4885        1925                   3\n",
              "4958        1920                   2\n",
              "4810        1916                   3\n",
              "\n",
              "[4935 rows x 2 columns]"
            ]
          },
          "execution_count": 52,
          "metadata": {},
          "output_type": "execute_result"
        }
      ],
      "source": [
        "dados_full"
      ]
    },
    {
      "cell_type": "code",
      "execution_count": null,
      "id": "e7050b7c",
      "metadata": {
        "id": "e7050b7c",
        "outputId": "488529b3-bf9b-439e-a47b-ba488f558a08"
      },
      "outputs": [
        {
          "data": {
            "text/plain": [
              "title_year                int64\n",
              "movie_data_duration    category\n",
              "dtype: object"
            ]
          },
          "execution_count": 53,
          "metadata": {},
          "output_type": "execute_result"
        }
      ],
      "source": [
        "dados_full.dtypes"
      ]
    },
    {
      "cell_type": "code",
      "execution_count": null,
      "id": "eead463a",
      "metadata": {
        "id": "eead463a",
        "outputId": "51c92f01-e65b-46e9-fb1d-eed78abebcf6"
      },
      "outputs": [
        {
          "data": {
            "text/html": [
              "<div>\n",
              "<style scoped>\n",
              "    .dataframe tbody tr th:only-of-type {\n",
              "        vertical-align: middle;\n",
              "    }\n",
              "\n",
              "    .dataframe tbody tr th {\n",
              "        vertical-align: top;\n",
              "    }\n",
              "\n",
              "    .dataframe thead th {\n",
              "        text-align: right;\n",
              "    }\n",
              "</style>\n",
              "<table border=\"1\" class=\"dataframe\">\n",
              "  <thead>\n",
              "    <tr style=\"text-align: right;\">\n",
              "      <th></th>\n",
              "      <th>movie_data_duration</th>\n",
              "    </tr>\n",
              "    <tr>\n",
              "      <th>title_year</th>\n",
              "      <th></th>\n",
              "    </tr>\n",
              "  </thead>\n",
              "  <tbody>\n",
              "    <tr>\n",
              "      <th>2016</th>\n",
              "      <td>2</td>\n",
              "    </tr>\n",
              "    <tr>\n",
              "      <th>2016</th>\n",
              "      <td>1</td>\n",
              "    </tr>\n",
              "    <tr>\n",
              "      <th>2016</th>\n",
              "      <td>2</td>\n",
              "    </tr>\n",
              "    <tr>\n",
              "      <th>2016</th>\n",
              "      <td>2</td>\n",
              "    </tr>\n",
              "    <tr>\n",
              "      <th>2016</th>\n",
              "      <td>1</td>\n",
              "    </tr>\n",
              "    <tr>\n",
              "      <th>...</th>\n",
              "      <td>...</td>\n",
              "    </tr>\n",
              "    <tr>\n",
              "      <th>1929</th>\n",
              "      <td>2</td>\n",
              "    </tr>\n",
              "    <tr>\n",
              "      <th>1927</th>\n",
              "      <td>3</td>\n",
              "    </tr>\n",
              "    <tr>\n",
              "      <th>1925</th>\n",
              "      <td>3</td>\n",
              "    </tr>\n",
              "    <tr>\n",
              "      <th>1920</th>\n",
              "      <td>2</td>\n",
              "    </tr>\n",
              "    <tr>\n",
              "      <th>1916</th>\n",
              "      <td>3</td>\n",
              "    </tr>\n",
              "  </tbody>\n",
              "</table>\n",
              "<p>4935 rows × 1 columns</p>\n",
              "</div>"
            ],
            "text/plain": [
              "           movie_data_duration\n",
              "title_year                    \n",
              "2016                         2\n",
              "2016                         1\n",
              "2016                         2\n",
              "2016                         2\n",
              "2016                         1\n",
              "...                        ...\n",
              "1929                         2\n",
              "1927                         3\n",
              "1925                         3\n",
              "1920                         2\n",
              "1916                         3\n",
              "\n",
              "[4935 rows x 1 columns]"
            ]
          },
          "execution_count": 54,
          "metadata": {},
          "output_type": "execute_result"
        }
      ],
      "source": [
        "dados_full.set_index(\"title_year\")"
      ]
    },
    {
      "cell_type": "code",
      "execution_count": null,
      "id": "abcd15f4",
      "metadata": {
        "id": "abcd15f4"
      },
      "outputs": [],
      "source": [
        "################################################################################################################################"
      ]
    },
    {
      "cell_type": "code",
      "execution_count": null,
      "id": "cdbd2649",
      "metadata": {
        "id": "cdbd2649"
      },
      "outputs": [],
      "source": [
        "# 7. How many films between 90 minutes and two hours (120 minutes) - category 2- long were released in 2008?"
      ]
    },
    {
      "cell_type": "code",
      "execution_count": null,
      "id": "418f9bc0",
      "metadata": {
        "id": "418f9bc0",
        "outputId": "b77def42-1921-4e92-e208-3a603fd12671"
      },
      "outputs": [
        {
          "data": {
            "text/plain": [
              "2009    260\n",
              "2014    252\n",
              "2006    239\n",
              "2013    237\n",
              "2010    230\n",
              "       ... \n",
              "1958      1\n",
              "1927      1\n",
              "1925      1\n",
              "1920      1\n",
              "1916      1\n",
              "Name: title_year, Length: 91, dtype: int64"
            ]
          },
          "execution_count": 57,
          "metadata": {},
          "output_type": "execute_result"
        }
      ],
      "source": [
        "dados_full.title_year.value_counts()"
      ]
    },
    {
      "cell_type": "code",
      "execution_count": null,
      "id": "b7ebe70d",
      "metadata": {
        "id": "b7ebe70d",
        "outputId": "5d76ca28-8660-4bfe-b078-1fffe23387ee"
      },
      "outputs": [
        {
          "data": {
            "text/html": [
              "<div>\n",
              "<style scoped>\n",
              "    .dataframe tbody tr th:only-of-type {\n",
              "        vertical-align: middle;\n",
              "    }\n",
              "\n",
              "    .dataframe tbody tr th {\n",
              "        vertical-align: top;\n",
              "    }\n",
              "\n",
              "    .dataframe thead th {\n",
              "        text-align: right;\n",
              "    }\n",
              "</style>\n",
              "<table border=\"1\" class=\"dataframe\">\n",
              "  <thead>\n",
              "    <tr style=\"text-align: right;\">\n",
              "      <th></th>\n",
              "      <th>title_year</th>\n",
              "      <th>movie_data_duration</th>\n",
              "    </tr>\n",
              "  </thead>\n",
              "  <tbody>\n",
              "    <tr>\n",
              "      <th>2712</th>\n",
              "      <td>2008</td>\n",
              "      <td>2</td>\n",
              "    </tr>\n",
              "    <tr>\n",
              "      <th>4616</th>\n",
              "      <td>2008</td>\n",
              "      <td>2</td>\n",
              "    </tr>\n",
              "    <tr>\n",
              "      <th>2610</th>\n",
              "      <td>2008</td>\n",
              "      <td>2</td>\n",
              "    </tr>\n",
              "    <tr>\n",
              "      <th>2685</th>\n",
              "      <td>2008</td>\n",
              "      <td>1</td>\n",
              "    </tr>\n",
              "    <tr>\n",
              "      <th>4617</th>\n",
              "      <td>2008</td>\n",
              "      <td>2</td>\n",
              "    </tr>\n",
              "    <tr>\n",
              "      <th>...</th>\n",
              "      <td>...</td>\n",
              "      <td>...</td>\n",
              "    </tr>\n",
              "    <tr>\n",
              "      <th>1244</th>\n",
              "      <td>2008</td>\n",
              "      <td>2</td>\n",
              "    </tr>\n",
              "    <tr>\n",
              "      <th>1128</th>\n",
              "      <td>2008</td>\n",
              "      <td>3</td>\n",
              "    </tr>\n",
              "    <tr>\n",
              "      <th>3028</th>\n",
              "      <td>2008</td>\n",
              "      <td>2</td>\n",
              "    </tr>\n",
              "    <tr>\n",
              "      <th>3773</th>\n",
              "      <td>2008</td>\n",
              "      <td>2</td>\n",
              "    </tr>\n",
              "    <tr>\n",
              "      <th>3474</th>\n",
              "      <td>2008</td>\n",
              "      <td>2</td>\n",
              "    </tr>\n",
              "  </tbody>\n",
              "</table>\n",
              "<p>225 rows × 2 columns</p>\n",
              "</div>"
            ],
            "text/plain": [
              "      title_year movie_data_duration\n",
              "2712        2008                   2\n",
              "4616        2008                   2\n",
              "2610        2008                   2\n",
              "2685        2008                   1\n",
              "4617        2008                   2\n",
              "...          ...                 ...\n",
              "1244        2008                   2\n",
              "1128        2008                   3\n",
              "3028        2008                   2\n",
              "3773        2008                   2\n",
              "3474        2008                   2\n",
              "\n",
              "[225 rows x 2 columns]"
            ]
          },
          "execution_count": 58,
          "metadata": {},
          "output_type": "execute_result"
        }
      ],
      "source": [
        "dados_full_7 = dados_full.loc[dados_full['title_year']==2008]\n",
        "dados_full_7"
      ]
    },
    {
      "cell_type": "code",
      "execution_count": null,
      "id": "b5259dee",
      "metadata": {
        "id": "b5259dee",
        "outputId": "05805c51-6155-4716-db19-92c1de2a531d"
      },
      "outputs": [
        {
          "data": {
            "text/plain": [
              "CategoricalDtype(categories=['1', '2', '3'], ordered=True)"
            ]
          },
          "execution_count": 59,
          "metadata": {},
          "output_type": "execute_result"
        }
      ],
      "source": [
        "dados_full_7['movie_data_duration'].dtype"
      ]
    },
    {
      "cell_type": "code",
      "execution_count": null,
      "id": "ae6e8193",
      "metadata": {
        "id": "ae6e8193",
        "outputId": "4dbac748-580c-4778-a619-906f19447392"
      },
      "outputs": [
        {
          "data": {
            "text/html": [
              "<div>\n",
              "<style scoped>\n",
              "    .dataframe tbody tr th:only-of-type {\n",
              "        vertical-align: middle;\n",
              "    }\n",
              "\n",
              "    .dataframe tbody tr th {\n",
              "        vertical-align: top;\n",
              "    }\n",
              "\n",
              "    .dataframe thead th {\n",
              "        text-align: right;\n",
              "    }\n",
              "</style>\n",
              "<table border=\"1\" class=\"dataframe\">\n",
              "  <thead>\n",
              "    <tr style=\"text-align: right;\">\n",
              "      <th></th>\n",
              "      <th>title_year</th>\n",
              "      <th>movie_data_duration</th>\n",
              "    </tr>\n",
              "  </thead>\n",
              "  <tbody>\n",
              "    <tr>\n",
              "      <th>2712</th>\n",
              "      <td>2008</td>\n",
              "      <td>2</td>\n",
              "    </tr>\n",
              "    <tr>\n",
              "      <th>4616</th>\n",
              "      <td>2008</td>\n",
              "      <td>2</td>\n",
              "    </tr>\n",
              "    <tr>\n",
              "      <th>2610</th>\n",
              "      <td>2008</td>\n",
              "      <td>2</td>\n",
              "    </tr>\n",
              "    <tr>\n",
              "      <th>4617</th>\n",
              "      <td>2008</td>\n",
              "      <td>2</td>\n",
              "    </tr>\n",
              "    <tr>\n",
              "      <th>711</th>\n",
              "      <td>2008</td>\n",
              "      <td>2</td>\n",
              "    </tr>\n",
              "    <tr>\n",
              "      <th>...</th>\n",
              "      <td>...</td>\n",
              "      <td>...</td>\n",
              "    </tr>\n",
              "    <tr>\n",
              "      <th>1116</th>\n",
              "      <td>2008</td>\n",
              "      <td>2</td>\n",
              "    </tr>\n",
              "    <tr>\n",
              "      <th>1244</th>\n",
              "      <td>2008</td>\n",
              "      <td>2</td>\n",
              "    </tr>\n",
              "    <tr>\n",
              "      <th>3028</th>\n",
              "      <td>2008</td>\n",
              "      <td>2</td>\n",
              "    </tr>\n",
              "    <tr>\n",
              "      <th>3773</th>\n",
              "      <td>2008</td>\n",
              "      <td>2</td>\n",
              "    </tr>\n",
              "    <tr>\n",
              "      <th>3474</th>\n",
              "      <td>2008</td>\n",
              "      <td>2</td>\n",
              "    </tr>\n",
              "  </tbody>\n",
              "</table>\n",
              "<p>157 rows × 2 columns</p>\n",
              "</div>"
            ],
            "text/plain": [
              "      title_year movie_data_duration\n",
              "2712        2008                   2\n",
              "4616        2008                   2\n",
              "2610        2008                   2\n",
              "4617        2008                   2\n",
              "711         2008                   2\n",
              "...          ...                 ...\n",
              "1116        2008                   2\n",
              "1244        2008                   2\n",
              "3028        2008                   2\n",
              "3773        2008                   2\n",
              "3474        2008                   2\n",
              "\n",
              "[157 rows x 2 columns]"
            ]
          },
          "execution_count": 60,
          "metadata": {},
          "output_type": "execute_result"
        }
      ],
      "source": [
        "exercise_7 = dados_full_7.loc[dados_full_7['movie_data_duration']=='2']\n",
        "exercise_7"
      ]
    },
    {
      "cell_type": "code",
      "execution_count": null,
      "id": "d87889ff",
      "metadata": {
        "id": "d87889ff",
        "outputId": "313df942-fa3f-4caf-cd18-e2cae194404e"
      },
      "outputs": [
        {
          "data": {
            "text/plain": [
              "2008    157\n",
              "Name: title_year, dtype: int64"
            ]
          },
          "execution_count": 61,
          "metadata": {},
          "output_type": "execute_result"
        }
      ],
      "source": [
        "exercise_7.title_year.value_counts()"
      ]
    },
    {
      "cell_type": "code",
      "execution_count": null,
      "id": "f4a9f5a8",
      "metadata": {
        "id": "f4a9f5a8"
      },
      "outputs": [],
      "source": [
        "################################################################################################################################"
      ]
    },
    {
      "cell_type": "code",
      "execution_count": null,
      "id": "ffee3146",
      "metadata": {
        "id": "ffee3146"
      },
      "outputs": [],
      "source": [
        "# 8. The plot_keywords column holds keywords characterizing the film's plot. Using the data\n",
        "# in this column, create a column called movie_plot_category, to contain four categories\n",
        "# depending on the key words in the column:\n",
        "# Category \"love_and_death\" if the keywords include both \"love\" and \"death\"\n",
        "# Category \"love\" if the keywords include the word \"love\"\n",
        "# Category \"death\" if the keywords include the word \"death\"\n",
        "# Category \"other\" if the keywords do not meet the conditions above"
      ]
    },
    {
      "cell_type": "code",
      "execution_count": null,
      "id": "d8f61e9f",
      "metadata": {
        "id": "d8f61e9f"
      },
      "outputs": [],
      "source": [
        "movie_data8 = movie_data[['plot_keywords', 'movie_title']]"
      ]
    },
    {
      "cell_type": "code",
      "execution_count": null,
      "id": "9184f718",
      "metadata": {
        "id": "9184f718",
        "outputId": "bbb8fa9f-0b16-44a6-f7df-b3d597e58996"
      },
      "outputs": [
        {
          "data": {
            "text/html": [
              "<div>\n",
              "<style scoped>\n",
              "    .dataframe tbody tr th:only-of-type {\n",
              "        vertical-align: middle;\n",
              "    }\n",
              "\n",
              "    .dataframe tbody tr th {\n",
              "        vertical-align: top;\n",
              "    }\n",
              "\n",
              "    .dataframe thead th {\n",
              "        text-align: right;\n",
              "    }\n",
              "</style>\n",
              "<table border=\"1\" class=\"dataframe\">\n",
              "  <thead>\n",
              "    <tr style=\"text-align: right;\">\n",
              "      <th></th>\n",
              "      <th>plot_keywords</th>\n",
              "      <th>movie_title</th>\n",
              "    </tr>\n",
              "  </thead>\n",
              "  <tbody>\n",
              "    <tr>\n",
              "      <th>0</th>\n",
              "      <td>avatar|future|marine|native|paraplegic</td>\n",
              "      <td>Avatar</td>\n",
              "    </tr>\n",
              "    <tr>\n",
              "      <th>1</th>\n",
              "      <td>goddess|marriage ceremony|marriage proposal|pi...</td>\n",
              "      <td>Pirates of the Caribbean: At World's End</td>\n",
              "    </tr>\n",
              "    <tr>\n",
              "      <th>2</th>\n",
              "      <td>bomb|espionage|sequel|spy|terrorist</td>\n",
              "      <td>Spectre</td>\n",
              "    </tr>\n",
              "    <tr>\n",
              "      <th>3</th>\n",
              "      <td>deception|imprisonment|lawlessness|police offi...</td>\n",
              "      <td>The Dark Knight Rises</td>\n",
              "    </tr>\n",
              "    <tr>\n",
              "      <th>4</th>\n",
              "      <td>NaN</td>\n",
              "      <td>Star Wars: Episode VII - The Force Awakens    ...</td>\n",
              "    </tr>\n",
              "    <tr>\n",
              "      <th>...</th>\n",
              "      <td>...</td>\n",
              "      <td>...</td>\n",
              "    </tr>\n",
              "    <tr>\n",
              "      <th>5038</th>\n",
              "      <td>fraud|postal worker|prison|theft|trial</td>\n",
              "      <td>Signed Sealed Delivered</td>\n",
              "    </tr>\n",
              "    <tr>\n",
              "      <th>5039</th>\n",
              "      <td>cult|fbi|hideout|prison escape|serial killer</td>\n",
              "      <td>The Following</td>\n",
              "    </tr>\n",
              "    <tr>\n",
              "      <th>5040</th>\n",
              "      <td>NaN</td>\n",
              "      <td>A Plague So Pleasant</td>\n",
              "    </tr>\n",
              "    <tr>\n",
              "      <th>5041</th>\n",
              "      <td>NaN</td>\n",
              "      <td>Shanghai Calling</td>\n",
              "    </tr>\n",
              "    <tr>\n",
              "      <th>5042</th>\n",
              "      <td>actress name in title|crush|date|four word tit...</td>\n",
              "      <td>My Date with Drew</td>\n",
              "    </tr>\n",
              "  </tbody>\n",
              "</table>\n",
              "<p>5043 rows × 2 columns</p>\n",
              "</div>"
            ],
            "text/plain": [
              "                                          plot_keywords  \\\n",
              "0                avatar|future|marine|native|paraplegic   \n",
              "1     goddess|marriage ceremony|marriage proposal|pi...   \n",
              "2                   bomb|espionage|sequel|spy|terrorist   \n",
              "3     deception|imprisonment|lawlessness|police offi...   \n",
              "4                                                   NaN   \n",
              "...                                                 ...   \n",
              "5038             fraud|postal worker|prison|theft|trial   \n",
              "5039       cult|fbi|hideout|prison escape|serial killer   \n",
              "5040                                                NaN   \n",
              "5041                                                NaN   \n",
              "5042  actress name in title|crush|date|four word tit...   \n",
              "\n",
              "                                            movie_title  \n",
              "0                                               Avatar   \n",
              "1             Pirates of the Caribbean: At World's End   \n",
              "2                                              Spectre   \n",
              "3                                The Dark Knight Rises   \n",
              "4     Star Wars: Episode VII - The Force Awakens    ...  \n",
              "...                                                 ...  \n",
              "5038                           Signed Sealed Delivered   \n",
              "5039                         The Following               \n",
              "5040                              A Plague So Pleasant   \n",
              "5041                                  Shanghai Calling   \n",
              "5042                                 My Date with Drew   \n",
              "\n",
              "[5043 rows x 2 columns]"
            ]
          },
          "execution_count": 65,
          "metadata": {},
          "output_type": "execute_result"
        }
      ],
      "source": [
        "movie_data8"
      ]
    },
    {
      "cell_type": "code",
      "execution_count": null,
      "id": "a9767c82",
      "metadata": {
        "id": "a9767c82"
      },
      "outputs": [],
      "source": [
        "movie_data8.dropna(axis=0, inplace = True)"
      ]
    },
    {
      "cell_type": "code",
      "execution_count": null,
      "id": "67dea35c",
      "metadata": {
        "id": "67dea35c",
        "outputId": "1911b667-d3a5-42da-e50e-20733848fbac"
      },
      "outputs": [
        {
          "data": {
            "text/plain": [
              "plot_keywords    0\n",
              "movie_title      0\n",
              "dtype: int64"
            ]
          },
          "execution_count": 67,
          "metadata": {},
          "output_type": "execute_result"
        }
      ],
      "source": [
        "movie_data8.isnull().sum(axis = 0)"
      ]
    },
    {
      "cell_type": "code",
      "execution_count": null,
      "id": "4d624be0",
      "metadata": {
        "id": "4d624be0",
        "outputId": "90d47615-374d-4c6e-ad6a-b05699ee466a"
      },
      "outputs": [
        {
          "data": {
            "text/plain": [
              "(4890, 2)"
            ]
          },
          "execution_count": 68,
          "metadata": {},
          "output_type": "execute_result"
        }
      ],
      "source": [
        "movie_data8.shape"
      ]
    },
    {
      "cell_type": "code",
      "execution_count": null,
      "id": "09f822f9",
      "metadata": {
        "id": "09f822f9",
        "outputId": "880d147d-e099-4bcf-875c-eb0d71834891"
      },
      "outputs": [
        {
          "data": {
            "text/html": [
              "<div>\n",
              "<style scoped>\n",
              "    .dataframe tbody tr th:only-of-type {\n",
              "        vertical-align: middle;\n",
              "    }\n",
              "\n",
              "    .dataframe tbody tr th {\n",
              "        vertical-align: top;\n",
              "    }\n",
              "\n",
              "    .dataframe thead th {\n",
              "        text-align: right;\n",
              "    }\n",
              "</style>\n",
              "<table border=\"1\" class=\"dataframe\">\n",
              "  <thead>\n",
              "    <tr style=\"text-align: right;\">\n",
              "      <th></th>\n",
              "      <th>plot_keywords</th>\n",
              "      <th>movie_title</th>\n",
              "    </tr>\n",
              "  </thead>\n",
              "  <tbody>\n",
              "    <tr>\n",
              "      <th>0</th>\n",
              "      <td>avatar|future|marine|native|paraplegic</td>\n",
              "      <td>Avatar</td>\n",
              "    </tr>\n",
              "    <tr>\n",
              "      <th>1</th>\n",
              "      <td>goddess|marriage ceremony|marriage proposal|pi...</td>\n",
              "      <td>Pirates of the Caribbean: At World's End</td>\n",
              "    </tr>\n",
              "    <tr>\n",
              "      <th>2</th>\n",
              "      <td>bomb|espionage|sequel|spy|terrorist</td>\n",
              "      <td>Spectre</td>\n",
              "    </tr>\n",
              "    <tr>\n",
              "      <th>3</th>\n",
              "      <td>deception|imprisonment|lawlessness|police offi...</td>\n",
              "      <td>The Dark Knight Rises</td>\n",
              "    </tr>\n",
              "    <tr>\n",
              "      <th>5</th>\n",
              "      <td>alien|american civil war|male nipple|mars|prin...</td>\n",
              "      <td>John Carter</td>\n",
              "    </tr>\n",
              "    <tr>\n",
              "      <th>...</th>\n",
              "      <td>...</td>\n",
              "      <td>...</td>\n",
              "    </tr>\n",
              "    <tr>\n",
              "      <th>5036</th>\n",
              "      <td>jewell|mongol|nostradamus|stepnicka|vallone</td>\n",
              "      <td>The Mongol King</td>\n",
              "    </tr>\n",
              "    <tr>\n",
              "      <th>5037</th>\n",
              "      <td>written and directed by cast member</td>\n",
              "      <td>Newlyweds</td>\n",
              "    </tr>\n",
              "    <tr>\n",
              "      <th>5038</th>\n",
              "      <td>fraud|postal worker|prison|theft|trial</td>\n",
              "      <td>Signed Sealed Delivered</td>\n",
              "    </tr>\n",
              "    <tr>\n",
              "      <th>5039</th>\n",
              "      <td>cult|fbi|hideout|prison escape|serial killer</td>\n",
              "      <td>The Following</td>\n",
              "    </tr>\n",
              "    <tr>\n",
              "      <th>5042</th>\n",
              "      <td>actress name in title|crush|date|four word tit...</td>\n",
              "      <td>My Date with Drew</td>\n",
              "    </tr>\n",
              "  </tbody>\n",
              "</table>\n",
              "<p>4890 rows × 2 columns</p>\n",
              "</div>"
            ],
            "text/plain": [
              "                                          plot_keywords  \\\n",
              "0                avatar|future|marine|native|paraplegic   \n",
              "1     goddess|marriage ceremony|marriage proposal|pi...   \n",
              "2                   bomb|espionage|sequel|spy|terrorist   \n",
              "3     deception|imprisonment|lawlessness|police offi...   \n",
              "5     alien|american civil war|male nipple|mars|prin...   \n",
              "...                                                 ...   \n",
              "5036        jewell|mongol|nostradamus|stepnicka|vallone   \n",
              "5037                written and directed by cast member   \n",
              "5038             fraud|postal worker|prison|theft|trial   \n",
              "5039       cult|fbi|hideout|prison escape|serial killer   \n",
              "5042  actress name in title|crush|date|four word tit...   \n",
              "\n",
              "                                    movie_title  \n",
              "0                                       Avatar   \n",
              "1     Pirates of the Caribbean: At World's End   \n",
              "2                                      Spectre   \n",
              "3                        The Dark Knight Rises   \n",
              "5                                  John Carter   \n",
              "...                                         ...  \n",
              "5036                           The Mongol King   \n",
              "5037                                 Newlyweds   \n",
              "5038                   Signed Sealed Delivered   \n",
              "5039                 The Following               \n",
              "5042                         My Date with Drew   \n",
              "\n",
              "[4890 rows x 2 columns]"
            ]
          },
          "execution_count": 69,
          "metadata": {},
          "output_type": "execute_result"
        }
      ],
      "source": [
        "movie_data8"
      ]
    },
    {
      "cell_type": "code",
      "execution_count": null,
      "id": "e41d6998",
      "metadata": {
        "id": "e41d6998"
      },
      "outputs": [],
      "source": [
        "movie_data8_no_love = movie_data8[~movie_data8['plot_keywords'].str.contains('love', na=False)]"
      ]
    },
    {
      "cell_type": "code",
      "execution_count": null,
      "id": "92df3558",
      "metadata": {
        "id": "92df3558",
        "outputId": "70e72513-70c4-4193-a080-52b7e2525df7"
      },
      "outputs": [
        {
          "data": {
            "text/html": [
              "<div>\n",
              "<style scoped>\n",
              "    .dataframe tbody tr th:only-of-type {\n",
              "        vertical-align: middle;\n",
              "    }\n",
              "\n",
              "    .dataframe tbody tr th {\n",
              "        vertical-align: top;\n",
              "    }\n",
              "\n",
              "    .dataframe thead th {\n",
              "        text-align: right;\n",
              "    }\n",
              "</style>\n",
              "<table border=\"1\" class=\"dataframe\">\n",
              "  <thead>\n",
              "    <tr style=\"text-align: right;\">\n",
              "      <th></th>\n",
              "      <th>plot_keywords</th>\n",
              "      <th>movie_title</th>\n",
              "    </tr>\n",
              "  </thead>\n",
              "  <tbody>\n",
              "    <tr>\n",
              "      <th>0</th>\n",
              "      <td>avatar|future|marine|native|paraplegic</td>\n",
              "      <td>Avatar</td>\n",
              "    </tr>\n",
              "    <tr>\n",
              "      <th>1</th>\n",
              "      <td>goddess|marriage ceremony|marriage proposal|pi...</td>\n",
              "      <td>Pirates of the Caribbean: At World's End</td>\n",
              "    </tr>\n",
              "    <tr>\n",
              "      <th>2</th>\n",
              "      <td>bomb|espionage|sequel|spy|terrorist</td>\n",
              "      <td>Spectre</td>\n",
              "    </tr>\n",
              "    <tr>\n",
              "      <th>3</th>\n",
              "      <td>deception|imprisonment|lawlessness|police offi...</td>\n",
              "      <td>The Dark Knight Rises</td>\n",
              "    </tr>\n",
              "    <tr>\n",
              "      <th>5</th>\n",
              "      <td>alien|american civil war|male nipple|mars|prin...</td>\n",
              "      <td>John Carter</td>\n",
              "    </tr>\n",
              "    <tr>\n",
              "      <th>...</th>\n",
              "      <td>...</td>\n",
              "      <td>...</td>\n",
              "    </tr>\n",
              "    <tr>\n",
              "      <th>5036</th>\n",
              "      <td>jewell|mongol|nostradamus|stepnicka|vallone</td>\n",
              "      <td>The Mongol King</td>\n",
              "    </tr>\n",
              "    <tr>\n",
              "      <th>5037</th>\n",
              "      <td>written and directed by cast member</td>\n",
              "      <td>Newlyweds</td>\n",
              "    </tr>\n",
              "    <tr>\n",
              "      <th>5038</th>\n",
              "      <td>fraud|postal worker|prison|theft|trial</td>\n",
              "      <td>Signed Sealed Delivered</td>\n",
              "    </tr>\n",
              "    <tr>\n",
              "      <th>5039</th>\n",
              "      <td>cult|fbi|hideout|prison escape|serial killer</td>\n",
              "      <td>The Following</td>\n",
              "    </tr>\n",
              "    <tr>\n",
              "      <th>5042</th>\n",
              "      <td>actress name in title|crush|date|four word tit...</td>\n",
              "      <td>My Date with Drew</td>\n",
              "    </tr>\n",
              "  </tbody>\n",
              "</table>\n",
              "<p>4640 rows × 2 columns</p>\n",
              "</div>"
            ],
            "text/plain": [
              "                                          plot_keywords  \\\n",
              "0                avatar|future|marine|native|paraplegic   \n",
              "1     goddess|marriage ceremony|marriage proposal|pi...   \n",
              "2                   bomb|espionage|sequel|spy|terrorist   \n",
              "3     deception|imprisonment|lawlessness|police offi...   \n",
              "5     alien|american civil war|male nipple|mars|prin...   \n",
              "...                                                 ...   \n",
              "5036        jewell|mongol|nostradamus|stepnicka|vallone   \n",
              "5037                written and directed by cast member   \n",
              "5038             fraud|postal worker|prison|theft|trial   \n",
              "5039       cult|fbi|hideout|prison escape|serial killer   \n",
              "5042  actress name in title|crush|date|four word tit...   \n",
              "\n",
              "                                    movie_title  \n",
              "0                                       Avatar   \n",
              "1     Pirates of the Caribbean: At World's End   \n",
              "2                                      Spectre   \n",
              "3                        The Dark Knight Rises   \n",
              "5                                  John Carter   \n",
              "...                                         ...  \n",
              "5036                           The Mongol King   \n",
              "5037                                 Newlyweds   \n",
              "5038                   Signed Sealed Delivered   \n",
              "5039                 The Following               \n",
              "5042                         My Date with Drew   \n",
              "\n",
              "[4640 rows x 2 columns]"
            ]
          },
          "execution_count": 71,
          "metadata": {},
          "output_type": "execute_result"
        }
      ],
      "source": [
        "movie_data8_no_love"
      ]
    },
    {
      "cell_type": "code",
      "execution_count": null,
      "id": "4978d4fb",
      "metadata": {
        "id": "4978d4fb"
      },
      "outputs": [],
      "source": [
        "movie_data8_no_love_no_death = movie_data8_no_love[~movie_data8_no_love['plot_keywords'].str.contains('death', na=False)]"
      ]
    },
    {
      "cell_type": "code",
      "execution_count": null,
      "id": "947138e1",
      "metadata": {
        "id": "947138e1",
        "outputId": "ed20b561-451a-4555-b03a-32b3135bf485"
      },
      "outputs": [
        {
          "data": {
            "text/html": [
              "<div>\n",
              "<style scoped>\n",
              "    .dataframe tbody tr th:only-of-type {\n",
              "        vertical-align: middle;\n",
              "    }\n",
              "\n",
              "    .dataframe tbody tr th {\n",
              "        vertical-align: top;\n",
              "    }\n",
              "\n",
              "    .dataframe thead th {\n",
              "        text-align: right;\n",
              "    }\n",
              "</style>\n",
              "<table border=\"1\" class=\"dataframe\">\n",
              "  <thead>\n",
              "    <tr style=\"text-align: right;\">\n",
              "      <th></th>\n",
              "      <th>plot_keywords</th>\n",
              "      <th>movie_title</th>\n",
              "    </tr>\n",
              "  </thead>\n",
              "  <tbody>\n",
              "    <tr>\n",
              "      <th>0</th>\n",
              "      <td>avatar|future|marine|native|paraplegic</td>\n",
              "      <td>Avatar</td>\n",
              "    </tr>\n",
              "    <tr>\n",
              "      <th>1</th>\n",
              "      <td>goddess|marriage ceremony|marriage proposal|pi...</td>\n",
              "      <td>Pirates of the Caribbean: At World's End</td>\n",
              "    </tr>\n",
              "    <tr>\n",
              "      <th>2</th>\n",
              "      <td>bomb|espionage|sequel|spy|terrorist</td>\n",
              "      <td>Spectre</td>\n",
              "    </tr>\n",
              "    <tr>\n",
              "      <th>3</th>\n",
              "      <td>deception|imprisonment|lawlessness|police offi...</td>\n",
              "      <td>The Dark Knight Rises</td>\n",
              "    </tr>\n",
              "    <tr>\n",
              "      <th>5</th>\n",
              "      <td>alien|american civil war|male nipple|mars|prin...</td>\n",
              "      <td>John Carter</td>\n",
              "    </tr>\n",
              "    <tr>\n",
              "      <th>...</th>\n",
              "      <td>...</td>\n",
              "      <td>...</td>\n",
              "    </tr>\n",
              "    <tr>\n",
              "      <th>5036</th>\n",
              "      <td>jewell|mongol|nostradamus|stepnicka|vallone</td>\n",
              "      <td>The Mongol King</td>\n",
              "    </tr>\n",
              "    <tr>\n",
              "      <th>5037</th>\n",
              "      <td>written and directed by cast member</td>\n",
              "      <td>Newlyweds</td>\n",
              "    </tr>\n",
              "    <tr>\n",
              "      <th>5038</th>\n",
              "      <td>fraud|postal worker|prison|theft|trial</td>\n",
              "      <td>Signed Sealed Delivered</td>\n",
              "    </tr>\n",
              "    <tr>\n",
              "      <th>5039</th>\n",
              "      <td>cult|fbi|hideout|prison escape|serial killer</td>\n",
              "      <td>The Following</td>\n",
              "    </tr>\n",
              "    <tr>\n",
              "      <th>5042</th>\n",
              "      <td>actress name in title|crush|date|four word tit...</td>\n",
              "      <td>My Date with Drew</td>\n",
              "    </tr>\n",
              "  </tbody>\n",
              "</table>\n",
              "<p>4468 rows × 2 columns</p>\n",
              "</div>"
            ],
            "text/plain": [
              "                                          plot_keywords  \\\n",
              "0                avatar|future|marine|native|paraplegic   \n",
              "1     goddess|marriage ceremony|marriage proposal|pi...   \n",
              "2                   bomb|espionage|sequel|spy|terrorist   \n",
              "3     deception|imprisonment|lawlessness|police offi...   \n",
              "5     alien|american civil war|male nipple|mars|prin...   \n",
              "...                                                 ...   \n",
              "5036        jewell|mongol|nostradamus|stepnicka|vallone   \n",
              "5037                written and directed by cast member   \n",
              "5038             fraud|postal worker|prison|theft|trial   \n",
              "5039       cult|fbi|hideout|prison escape|serial killer   \n",
              "5042  actress name in title|crush|date|four word tit...   \n",
              "\n",
              "                                    movie_title  \n",
              "0                                       Avatar   \n",
              "1     Pirates of the Caribbean: At World's End   \n",
              "2                                      Spectre   \n",
              "3                        The Dark Knight Rises   \n",
              "5                                  John Carter   \n",
              "...                                         ...  \n",
              "5036                           The Mongol King   \n",
              "5037                                 Newlyweds   \n",
              "5038                   Signed Sealed Delivered   \n",
              "5039                 The Following               \n",
              "5042                         My Date with Drew   \n",
              "\n",
              "[4468 rows x 2 columns]"
            ]
          },
          "execution_count": 73,
          "metadata": {},
          "output_type": "execute_result"
        }
      ],
      "source": [
        "movie_data8_no_love_no_death"
      ]
    },
    {
      "cell_type": "code",
      "execution_count": null,
      "id": "015aa476",
      "metadata": {
        "id": "015aa476"
      },
      "outputs": [],
      "source": [
        "movie_data8_no_love_no_death['movie_plot_category'] = 'other'"
      ]
    },
    {
      "cell_type": "code",
      "execution_count": null,
      "id": "20cb5150",
      "metadata": {
        "id": "20cb5150",
        "outputId": "a534d57b-34a8-4740-f4c4-afb9d1f66aa0"
      },
      "outputs": [
        {
          "data": {
            "text/html": [
              "<div>\n",
              "<style scoped>\n",
              "    .dataframe tbody tr th:only-of-type {\n",
              "        vertical-align: middle;\n",
              "    }\n",
              "\n",
              "    .dataframe tbody tr th {\n",
              "        vertical-align: top;\n",
              "    }\n",
              "\n",
              "    .dataframe thead th {\n",
              "        text-align: right;\n",
              "    }\n",
              "</style>\n",
              "<table border=\"1\" class=\"dataframe\">\n",
              "  <thead>\n",
              "    <tr style=\"text-align: right;\">\n",
              "      <th></th>\n",
              "      <th>plot_keywords</th>\n",
              "      <th>movie_title</th>\n",
              "      <th>movie_plot_category</th>\n",
              "    </tr>\n",
              "  </thead>\n",
              "  <tbody>\n",
              "    <tr>\n",
              "      <th>0</th>\n",
              "      <td>avatar|future|marine|native|paraplegic</td>\n",
              "      <td>Avatar</td>\n",
              "      <td>other</td>\n",
              "    </tr>\n",
              "    <tr>\n",
              "      <th>1</th>\n",
              "      <td>goddess|marriage ceremony|marriage proposal|pi...</td>\n",
              "      <td>Pirates of the Caribbean: At World's End</td>\n",
              "      <td>other</td>\n",
              "    </tr>\n",
              "  </tbody>\n",
              "</table>\n",
              "</div>"
            ],
            "text/plain": [
              "                                       plot_keywords  \\\n",
              "0             avatar|future|marine|native|paraplegic   \n",
              "1  goddess|marriage ceremony|marriage proposal|pi...   \n",
              "\n",
              "                                 movie_title movie_plot_category  \n",
              "0                                    Avatar                other  \n",
              "1  Pirates of the Caribbean: At World's End                other  "
            ]
          },
          "execution_count": 75,
          "metadata": {},
          "output_type": "execute_result"
        }
      ],
      "source": [
        "movie_data8_no_love_no_death.head(2)"
      ]
    },
    {
      "cell_type": "code",
      "execution_count": null,
      "id": "229f062b",
      "metadata": {
        "id": "229f062b"
      },
      "outputs": [],
      "source": [
        "movie_data8_love = movie_data8[movie_data8['plot_keywords'].str.contains('love', na=False)]"
      ]
    },
    {
      "cell_type": "code",
      "execution_count": null,
      "id": "91320c4c",
      "metadata": {
        "id": "91320c4c",
        "outputId": "afcda6ae-50b2-46dc-9708-d20d0daf86d5"
      },
      "outputs": [
        {
          "data": {
            "text/html": [
              "<div>\n",
              "<style scoped>\n",
              "    .dataframe tbody tr th:only-of-type {\n",
              "        vertical-align: middle;\n",
              "    }\n",
              "\n",
              "    .dataframe tbody tr th {\n",
              "        vertical-align: top;\n",
              "    }\n",
              "\n",
              "    .dataframe thead th {\n",
              "        text-align: right;\n",
              "    }\n",
              "</style>\n",
              "<table border=\"1\" class=\"dataframe\">\n",
              "  <thead>\n",
              "    <tr style=\"text-align: right;\">\n",
              "      <th></th>\n",
              "      <th>plot_keywords</th>\n",
              "      <th>movie_title</th>\n",
              "    </tr>\n",
              "  </thead>\n",
              "  <tbody>\n",
              "    <tr>\n",
              "      <th>9</th>\n",
              "      <td>blood|book|love|potion|professor</td>\n",
              "      <td>Harry Potter and the Half-Blood Prince</td>\n",
              "    </tr>\n",
              "    <tr>\n",
              "      <th>26</th>\n",
              "      <td>artist|love|ship|titanic|wet</td>\n",
              "      <td>Titanic</td>\n",
              "    </tr>\n",
              "    <tr>\n",
              "      <th>87</th>\n",
              "      <td>alternate world|fairy tale parody|female warri...</td>\n",
              "      <td>Shrek Forever After</td>\n",
              "    </tr>\n",
              "    <tr>\n",
              "      <th>104</th>\n",
              "      <td>chosen one|enchanted object|love|spell|training</td>\n",
              "      <td>The Sorcerer's Apprentice</td>\n",
              "    </tr>\n",
              "    <tr>\n",
              "      <th>125</th>\n",
              "      <td>magic|sister love|sister sister relationship|s...</td>\n",
              "      <td>Frozen</td>\n",
              "    </tr>\n",
              "    <tr>\n",
              "      <th>...</th>\n",
              "      <td>...</td>\n",
              "      <td>...</td>\n",
              "    </tr>\n",
              "    <tr>\n",
              "      <th>4882</th>\n",
              "      <td>antique|desk|letter|love|time travel</td>\n",
              "      <td>The Love Letter</td>\n",
              "    </tr>\n",
              "    <tr>\n",
              "      <th>4930</th>\n",
              "      <td>best friend|boy|french|friend|love</td>\n",
              "      <td>Tadpole</td>\n",
              "    </tr>\n",
              "    <tr>\n",
              "      <th>4942</th>\n",
              "      <td>cat|cat people|leopard|love|slip the undergarment</td>\n",
              "      <td>Cat People</td>\n",
              "    </tr>\n",
              "    <tr>\n",
              "      <th>4984</th>\n",
              "      <td>abusive father|critically acclaimed|loss of fa...</td>\n",
              "      <td>The Brothers McMullen</td>\n",
              "    </tr>\n",
              "    <tr>\n",
              "      <th>5011</th>\n",
              "      <td>business trip|love|misogynist|office|secretary</td>\n",
              "      <td>In the Company of Men</td>\n",
              "    </tr>\n",
              "  </tbody>\n",
              "</table>\n",
              "<p>250 rows × 2 columns</p>\n",
              "</div>"
            ],
            "text/plain": [
              "                                          plot_keywords  \\\n",
              "9                      blood|book|love|potion|professor   \n",
              "26                         artist|love|ship|titanic|wet   \n",
              "87    alternate world|fairy tale parody|female warri...   \n",
              "104     chosen one|enchanted object|love|spell|training   \n",
              "125   magic|sister love|sister sister relationship|s...   \n",
              "...                                                 ...   \n",
              "4882               antique|desk|letter|love|time travel   \n",
              "4930                 best friend|boy|french|friend|love   \n",
              "4942  cat|cat people|leopard|love|slip the undergarment   \n",
              "4984  abusive father|critically acclaimed|loss of fa...   \n",
              "5011     business trip|love|misogynist|office|secretary   \n",
              "\n",
              "                                  movie_title  \n",
              "9     Harry Potter and the Half-Blood Prince   \n",
              "26                                   Titanic   \n",
              "87                       Shrek Forever After   \n",
              "104                The Sorcerer's Apprentice   \n",
              "125                                   Frozen   \n",
              "...                                       ...  \n",
              "4882                         The Love Letter   \n",
              "4930                                 Tadpole   \n",
              "4942                              Cat People   \n",
              "4984                   The Brothers McMullen   \n",
              "5011                   In the Company of Men   \n",
              "\n",
              "[250 rows x 2 columns]"
            ]
          },
          "execution_count": 77,
          "metadata": {},
          "output_type": "execute_result"
        }
      ],
      "source": [
        "movie_data8_love"
      ]
    },
    {
      "cell_type": "code",
      "execution_count": null,
      "id": "da5d94de",
      "metadata": {
        "id": "da5d94de"
      },
      "outputs": [],
      "source": [
        "movie_data8_love_no_death =  movie_data8_love[~movie_data8_love['plot_keywords'].str.contains('death', na=False)]"
      ]
    },
    {
      "cell_type": "code",
      "execution_count": null,
      "id": "2abc7274",
      "metadata": {
        "id": "2abc7274",
        "outputId": "0116ea80-c47d-4fc2-8159-981fd10b4e8f"
      },
      "outputs": [
        {
          "data": {
            "text/html": [
              "<div>\n",
              "<style scoped>\n",
              "    .dataframe tbody tr th:only-of-type {\n",
              "        vertical-align: middle;\n",
              "    }\n",
              "\n",
              "    .dataframe tbody tr th {\n",
              "        vertical-align: top;\n",
              "    }\n",
              "\n",
              "    .dataframe thead th {\n",
              "        text-align: right;\n",
              "    }\n",
              "</style>\n",
              "<table border=\"1\" class=\"dataframe\">\n",
              "  <thead>\n",
              "    <tr style=\"text-align: right;\">\n",
              "      <th></th>\n",
              "      <th>plot_keywords</th>\n",
              "      <th>movie_title</th>\n",
              "    </tr>\n",
              "  </thead>\n",
              "  <tbody>\n",
              "    <tr>\n",
              "      <th>9</th>\n",
              "      <td>blood|book|love|potion|professor</td>\n",
              "      <td>Harry Potter and the Half-Blood Prince</td>\n",
              "    </tr>\n",
              "    <tr>\n",
              "      <th>26</th>\n",
              "      <td>artist|love|ship|titanic|wet</td>\n",
              "      <td>Titanic</td>\n",
              "    </tr>\n",
              "    <tr>\n",
              "      <th>87</th>\n",
              "      <td>alternate world|fairy tale parody|female warri...</td>\n",
              "      <td>Shrek Forever After</td>\n",
              "    </tr>\n",
              "    <tr>\n",
              "      <th>104</th>\n",
              "      <td>chosen one|enchanted object|love|spell|training</td>\n",
              "      <td>The Sorcerer's Apprentice</td>\n",
              "    </tr>\n",
              "    <tr>\n",
              "      <th>125</th>\n",
              "      <td>magic|sister love|sister sister relationship|s...</td>\n",
              "      <td>Frozen</td>\n",
              "    </tr>\n",
              "    <tr>\n",
              "      <th>...</th>\n",
              "      <td>...</td>\n",
              "      <td>...</td>\n",
              "    </tr>\n",
              "    <tr>\n",
              "      <th>4882</th>\n",
              "      <td>antique|desk|letter|love|time travel</td>\n",
              "      <td>The Love Letter</td>\n",
              "    </tr>\n",
              "    <tr>\n",
              "      <th>4930</th>\n",
              "      <td>best friend|boy|french|friend|love</td>\n",
              "      <td>Tadpole</td>\n",
              "    </tr>\n",
              "    <tr>\n",
              "      <th>4942</th>\n",
              "      <td>cat|cat people|leopard|love|slip the undergarment</td>\n",
              "      <td>Cat People</td>\n",
              "    </tr>\n",
              "    <tr>\n",
              "      <th>4984</th>\n",
              "      <td>abusive father|critically acclaimed|loss of fa...</td>\n",
              "      <td>The Brothers McMullen</td>\n",
              "    </tr>\n",
              "    <tr>\n",
              "      <th>5011</th>\n",
              "      <td>business trip|love|misogynist|office|secretary</td>\n",
              "      <td>In the Company of Men</td>\n",
              "    </tr>\n",
              "  </tbody>\n",
              "</table>\n",
              "<p>234 rows × 2 columns</p>\n",
              "</div>"
            ],
            "text/plain": [
              "                                          plot_keywords  \\\n",
              "9                      blood|book|love|potion|professor   \n",
              "26                         artist|love|ship|titanic|wet   \n",
              "87    alternate world|fairy tale parody|female warri...   \n",
              "104     chosen one|enchanted object|love|spell|training   \n",
              "125   magic|sister love|sister sister relationship|s...   \n",
              "...                                                 ...   \n",
              "4882               antique|desk|letter|love|time travel   \n",
              "4930                 best friend|boy|french|friend|love   \n",
              "4942  cat|cat people|leopard|love|slip the undergarment   \n",
              "4984  abusive father|critically acclaimed|loss of fa...   \n",
              "5011     business trip|love|misogynist|office|secretary   \n",
              "\n",
              "                                  movie_title  \n",
              "9     Harry Potter and the Half-Blood Prince   \n",
              "26                                   Titanic   \n",
              "87                       Shrek Forever After   \n",
              "104                The Sorcerer's Apprentice   \n",
              "125                                   Frozen   \n",
              "...                                       ...  \n",
              "4882                         The Love Letter   \n",
              "4930                                 Tadpole   \n",
              "4942                              Cat People   \n",
              "4984                   The Brothers McMullen   \n",
              "5011                   In the Company of Men   \n",
              "\n",
              "[234 rows x 2 columns]"
            ]
          },
          "execution_count": 79,
          "metadata": {},
          "output_type": "execute_result"
        }
      ],
      "source": [
        "movie_data8_love_no_death"
      ]
    },
    {
      "cell_type": "code",
      "execution_count": null,
      "id": "c5d6ece4",
      "metadata": {
        "id": "c5d6ece4"
      },
      "outputs": [],
      "source": [
        "movie_data8_love_no_death['movie_plot_category']='love'"
      ]
    },
    {
      "cell_type": "code",
      "execution_count": null,
      "id": "fba4ff84",
      "metadata": {
        "id": "fba4ff84",
        "outputId": "34ae5c2f-5735-49db-882a-41060f13f3f9"
      },
      "outputs": [
        {
          "data": {
            "text/html": [
              "<div>\n",
              "<style scoped>\n",
              "    .dataframe tbody tr th:only-of-type {\n",
              "        vertical-align: middle;\n",
              "    }\n",
              "\n",
              "    .dataframe tbody tr th {\n",
              "        vertical-align: top;\n",
              "    }\n",
              "\n",
              "    .dataframe thead th {\n",
              "        text-align: right;\n",
              "    }\n",
              "</style>\n",
              "<table border=\"1\" class=\"dataframe\">\n",
              "  <thead>\n",
              "    <tr style=\"text-align: right;\">\n",
              "      <th></th>\n",
              "      <th>plot_keywords</th>\n",
              "      <th>movie_title</th>\n",
              "      <th>movie_plot_category</th>\n",
              "    </tr>\n",
              "  </thead>\n",
              "  <tbody>\n",
              "    <tr>\n",
              "      <th>9</th>\n",
              "      <td>blood|book|love|potion|professor</td>\n",
              "      <td>Harry Potter and the Half-Blood Prince</td>\n",
              "      <td>love</td>\n",
              "    </tr>\n",
              "    <tr>\n",
              "      <th>26</th>\n",
              "      <td>artist|love|ship|titanic|wet</td>\n",
              "      <td>Titanic</td>\n",
              "      <td>love</td>\n",
              "    </tr>\n",
              "  </tbody>\n",
              "</table>\n",
              "</div>"
            ],
            "text/plain": [
              "                       plot_keywords                              movie_title  \\\n",
              "9   blood|book|love|potion|professor  Harry Potter and the Half-Blood Prince    \n",
              "26      artist|love|ship|titanic|wet                                 Titanic    \n",
              "\n",
              "   movie_plot_category  \n",
              "9                 love  \n",
              "26                love  "
            ]
          },
          "execution_count": 81,
          "metadata": {},
          "output_type": "execute_result"
        }
      ],
      "source": [
        "movie_data8_love_no_death.head(2)"
      ]
    },
    {
      "cell_type": "code",
      "execution_count": null,
      "id": "a1c241d1",
      "metadata": {
        "id": "a1c241d1"
      },
      "outputs": [],
      "source": [
        "movie_data8_death = movie_data8[movie_data8['plot_keywords'].str.contains('death', na=False)]"
      ]
    },
    {
      "cell_type": "code",
      "execution_count": null,
      "id": "963da39d",
      "metadata": {
        "id": "963da39d",
        "outputId": "f1e943a6-261f-478b-c29d-689af1344c95"
      },
      "outputs": [
        {
          "data": {
            "text/html": [
              "<div>\n",
              "<style scoped>\n",
              "    .dataframe tbody tr th:only-of-type {\n",
              "        vertical-align: middle;\n",
              "    }\n",
              "\n",
              "    .dataframe tbody tr th {\n",
              "        vertical-align: top;\n",
              "    }\n",
              "\n",
              "    .dataframe thead th {\n",
              "        text-align: right;\n",
              "    }\n",
              "</style>\n",
              "<table border=\"1\" class=\"dataframe\">\n",
              "  <thead>\n",
              "    <tr style=\"text-align: right;\">\n",
              "      <th></th>\n",
              "      <th>plot_keywords</th>\n",
              "      <th>movie_title</th>\n",
              "    </tr>\n",
              "  </thead>\n",
              "  <tbody>\n",
              "    <tr>\n",
              "      <th>31</th>\n",
              "      <td>death|doctor|scientist|super villain|tentacle</td>\n",
              "      <td>Spider-Man 2</td>\n",
              "    </tr>\n",
              "    <tr>\n",
              "      <th>39</th>\n",
              "      <td>costumed hero|death of girlfriend|masked vigil...</td>\n",
              "      <td>The Amazing Spider-Man 2</td>\n",
              "    </tr>\n",
              "    <tr>\n",
              "      <th>44</th>\n",
              "      <td>death row|future|machine|rescue|skynet</td>\n",
              "      <td>Terminator Salvation</td>\n",
              "    </tr>\n",
              "    <tr>\n",
              "      <th>103</th>\n",
              "      <td>death of sister|dystopia|execution|rebellion|r...</td>\n",
              "      <td>The Hunger Games: Mockingjay - Part 2</td>\n",
              "    </tr>\n",
              "    <tr>\n",
              "      <th>136</th>\n",
              "      <td>asylum|death|full moon|transformation|werewolf</td>\n",
              "      <td>The Wolfman</td>\n",
              "    </tr>\n",
              "    <tr>\n",
              "      <th>...</th>\n",
              "      <td>...</td>\n",
              "      <td>...</td>\n",
              "    </tr>\n",
              "    <tr>\n",
              "      <th>4863</th>\n",
              "      <td>female protagonist|murder|photographer|robbery...</td>\n",
              "      <td>November</td>\n",
              "    </tr>\n",
              "    <tr>\n",
              "      <th>5014</th>\n",
              "      <td>death|first part|killing spree|massacre|murder</td>\n",
              "      <td>Rampage</td>\n",
              "    </tr>\n",
              "    <tr>\n",
              "      <th>5020</th>\n",
              "      <td>avatar|college|death|tron|university</td>\n",
              "      <td>The Ridges</td>\n",
              "    </tr>\n",
              "    <tr>\n",
              "      <th>5024</th>\n",
              "      <td>arch villain|game of death|kidnapping|superhero</td>\n",
              "      <td>All Superheroes Must Die</td>\n",
              "    </tr>\n",
              "    <tr>\n",
              "      <th>5035</th>\n",
              "      <td>assassin|death|guitar|gun|mariachi</td>\n",
              "      <td>El Mariachi</td>\n",
              "    </tr>\n",
              "  </tbody>\n",
              "</table>\n",
              "<p>188 rows × 2 columns</p>\n",
              "</div>"
            ],
            "text/plain": [
              "                                          plot_keywords  \\\n",
              "31        death|doctor|scientist|super villain|tentacle   \n",
              "39    costumed hero|death of girlfriend|masked vigil...   \n",
              "44               death row|future|machine|rescue|skynet   \n",
              "103   death of sister|dystopia|execution|rebellion|r...   \n",
              "136      asylum|death|full moon|transformation|werewolf   \n",
              "...                                                 ...   \n",
              "4863  female protagonist|murder|photographer|robbery...   \n",
              "5014     death|first part|killing spree|massacre|murder   \n",
              "5020               avatar|college|death|tron|university   \n",
              "5024    arch villain|game of death|kidnapping|superhero   \n",
              "5035                 assassin|death|guitar|gun|mariachi   \n",
              "\n",
              "                                 movie_title  \n",
              "31                             Spider-Man 2   \n",
              "39                 The Amazing Spider-Man 2   \n",
              "44                     Terminator Salvation   \n",
              "103   The Hunger Games: Mockingjay - Part 2   \n",
              "136                             The Wolfman   \n",
              "...                                      ...  \n",
              "4863                               November   \n",
              "5014                                Rampage   \n",
              "5020                             The Ridges   \n",
              "5024               All Superheroes Must Die   \n",
              "5035                            El Mariachi   \n",
              "\n",
              "[188 rows x 2 columns]"
            ]
          },
          "execution_count": 83,
          "metadata": {},
          "output_type": "execute_result"
        }
      ],
      "source": [
        "movie_data8_death"
      ]
    },
    {
      "cell_type": "code",
      "execution_count": null,
      "id": "df754943",
      "metadata": {
        "id": "df754943"
      },
      "outputs": [],
      "source": [
        "movie_data8_death_no_love = movie_data8_death[~movie_data8_death['plot_keywords'].str.contains('love', na=False)]"
      ]
    },
    {
      "cell_type": "code",
      "execution_count": null,
      "id": "abbfa0b3",
      "metadata": {
        "id": "abbfa0b3",
        "outputId": "dbd22ba4-d7af-42dd-ff79-4d9554aeddf5"
      },
      "outputs": [
        {
          "data": {
            "text/html": [
              "<div>\n",
              "<style scoped>\n",
              "    .dataframe tbody tr th:only-of-type {\n",
              "        vertical-align: middle;\n",
              "    }\n",
              "\n",
              "    .dataframe tbody tr th {\n",
              "        vertical-align: top;\n",
              "    }\n",
              "\n",
              "    .dataframe thead th {\n",
              "        text-align: right;\n",
              "    }\n",
              "</style>\n",
              "<table border=\"1\" class=\"dataframe\">\n",
              "  <thead>\n",
              "    <tr style=\"text-align: right;\">\n",
              "      <th></th>\n",
              "      <th>plot_keywords</th>\n",
              "      <th>movie_title</th>\n",
              "    </tr>\n",
              "  </thead>\n",
              "  <tbody>\n",
              "    <tr>\n",
              "      <th>31</th>\n",
              "      <td>death|doctor|scientist|super villain|tentacle</td>\n",
              "      <td>Spider-Man 2</td>\n",
              "    </tr>\n",
              "    <tr>\n",
              "      <th>39</th>\n",
              "      <td>costumed hero|death of girlfriend|masked vigil...</td>\n",
              "      <td>The Amazing Spider-Man 2</td>\n",
              "    </tr>\n",
              "    <tr>\n",
              "      <th>44</th>\n",
              "      <td>death row|future|machine|rescue|skynet</td>\n",
              "      <td>Terminator Salvation</td>\n",
              "    </tr>\n",
              "    <tr>\n",
              "      <th>103</th>\n",
              "      <td>death of sister|dystopia|execution|rebellion|r...</td>\n",
              "      <td>The Hunger Games: Mockingjay - Part 2</td>\n",
              "    </tr>\n",
              "    <tr>\n",
              "      <th>136</th>\n",
              "      <td>asylum|death|full moon|transformation|werewolf</td>\n",
              "      <td>The Wolfman</td>\n",
              "    </tr>\n",
              "    <tr>\n",
              "      <th>...</th>\n",
              "      <td>...</td>\n",
              "      <td>...</td>\n",
              "    </tr>\n",
              "    <tr>\n",
              "      <th>4863</th>\n",
              "      <td>female protagonist|murder|photographer|robbery...</td>\n",
              "      <td>November</td>\n",
              "    </tr>\n",
              "    <tr>\n",
              "      <th>5014</th>\n",
              "      <td>death|first part|killing spree|massacre|murder</td>\n",
              "      <td>Rampage</td>\n",
              "    </tr>\n",
              "    <tr>\n",
              "      <th>5020</th>\n",
              "      <td>avatar|college|death|tron|university</td>\n",
              "      <td>The Ridges</td>\n",
              "    </tr>\n",
              "    <tr>\n",
              "      <th>5024</th>\n",
              "      <td>arch villain|game of death|kidnapping|superhero</td>\n",
              "      <td>All Superheroes Must Die</td>\n",
              "    </tr>\n",
              "    <tr>\n",
              "      <th>5035</th>\n",
              "      <td>assassin|death|guitar|gun|mariachi</td>\n",
              "      <td>El Mariachi</td>\n",
              "    </tr>\n",
              "  </tbody>\n",
              "</table>\n",
              "<p>172 rows × 2 columns</p>\n",
              "</div>"
            ],
            "text/plain": [
              "                                          plot_keywords  \\\n",
              "31        death|doctor|scientist|super villain|tentacle   \n",
              "39    costumed hero|death of girlfriend|masked vigil...   \n",
              "44               death row|future|machine|rescue|skynet   \n",
              "103   death of sister|dystopia|execution|rebellion|r...   \n",
              "136      asylum|death|full moon|transformation|werewolf   \n",
              "...                                                 ...   \n",
              "4863  female protagonist|murder|photographer|robbery...   \n",
              "5014     death|first part|killing spree|massacre|murder   \n",
              "5020               avatar|college|death|tron|university   \n",
              "5024    arch villain|game of death|kidnapping|superhero   \n",
              "5035                 assassin|death|guitar|gun|mariachi   \n",
              "\n",
              "                                 movie_title  \n",
              "31                             Spider-Man 2   \n",
              "39                 The Amazing Spider-Man 2   \n",
              "44                     Terminator Salvation   \n",
              "103   The Hunger Games: Mockingjay - Part 2   \n",
              "136                             The Wolfman   \n",
              "...                                      ...  \n",
              "4863                               November   \n",
              "5014                                Rampage   \n",
              "5020                             The Ridges   \n",
              "5024               All Superheroes Must Die   \n",
              "5035                            El Mariachi   \n",
              "\n",
              "[172 rows x 2 columns]"
            ]
          },
          "execution_count": 85,
          "metadata": {},
          "output_type": "execute_result"
        }
      ],
      "source": [
        "movie_data8_death_no_love"
      ]
    },
    {
      "cell_type": "code",
      "execution_count": null,
      "id": "744db340",
      "metadata": {
        "id": "744db340"
      },
      "outputs": [],
      "source": [
        "movie_data8_death_no_love['movie_plot_category']=\"death\""
      ]
    },
    {
      "cell_type": "code",
      "execution_count": null,
      "id": "375411ed",
      "metadata": {
        "id": "375411ed",
        "outputId": "3371aac5-afa7-473c-d361-ccd3a15c886e"
      },
      "outputs": [
        {
          "data": {
            "text/html": [
              "<div>\n",
              "<style scoped>\n",
              "    .dataframe tbody tr th:only-of-type {\n",
              "        vertical-align: middle;\n",
              "    }\n",
              "\n",
              "    .dataframe tbody tr th {\n",
              "        vertical-align: top;\n",
              "    }\n",
              "\n",
              "    .dataframe thead th {\n",
              "        text-align: right;\n",
              "    }\n",
              "</style>\n",
              "<table border=\"1\" class=\"dataframe\">\n",
              "  <thead>\n",
              "    <tr style=\"text-align: right;\">\n",
              "      <th></th>\n",
              "      <th>plot_keywords</th>\n",
              "      <th>movie_title</th>\n",
              "      <th>movie_plot_category</th>\n",
              "    </tr>\n",
              "  </thead>\n",
              "  <tbody>\n",
              "    <tr>\n",
              "      <th>31</th>\n",
              "      <td>death|doctor|scientist|super villain|tentacle</td>\n",
              "      <td>Spider-Man 2</td>\n",
              "      <td>death</td>\n",
              "    </tr>\n",
              "    <tr>\n",
              "      <th>39</th>\n",
              "      <td>costumed hero|death of girlfriend|masked vigil...</td>\n",
              "      <td>The Amazing Spider-Man 2</td>\n",
              "      <td>death</td>\n",
              "    </tr>\n",
              "  </tbody>\n",
              "</table>\n",
              "</div>"
            ],
            "text/plain": [
              "                                        plot_keywords  \\\n",
              "31      death|doctor|scientist|super villain|tentacle   \n",
              "39  costumed hero|death of girlfriend|masked vigil...   \n",
              "\n",
              "                  movie_title movie_plot_category  \n",
              "31              Spider-Man 2                death  \n",
              "39  The Amazing Spider-Man 2                death  "
            ]
          },
          "execution_count": 87,
          "metadata": {},
          "output_type": "execute_result"
        }
      ],
      "source": [
        "movie_data8_death_no_love.head(2)"
      ]
    },
    {
      "cell_type": "code",
      "execution_count": null,
      "id": "12e083b0",
      "metadata": {
        "id": "12e083b0"
      },
      "outputs": [],
      "source": [
        "movie_data8_full=pd.concat([movie_data8_death_no_love, movie_data8_love_no_death], axis=0)"
      ]
    },
    {
      "cell_type": "code",
      "execution_count": null,
      "id": "25a6883c",
      "metadata": {
        "id": "25a6883c",
        "outputId": "b09df20c-3238-4aaf-9c00-3aae5a8e33ab"
      },
      "outputs": [
        {
          "data": {
            "text/html": [
              "<div>\n",
              "<style scoped>\n",
              "    .dataframe tbody tr th:only-of-type {\n",
              "        vertical-align: middle;\n",
              "    }\n",
              "\n",
              "    .dataframe tbody tr th {\n",
              "        vertical-align: top;\n",
              "    }\n",
              "\n",
              "    .dataframe thead th {\n",
              "        text-align: right;\n",
              "    }\n",
              "</style>\n",
              "<table border=\"1\" class=\"dataframe\">\n",
              "  <thead>\n",
              "    <tr style=\"text-align: right;\">\n",
              "      <th></th>\n",
              "      <th>plot_keywords</th>\n",
              "      <th>movie_title</th>\n",
              "      <th>movie_plot_category</th>\n",
              "    </tr>\n",
              "  </thead>\n",
              "  <tbody>\n",
              "    <tr>\n",
              "      <th>31</th>\n",
              "      <td>death|doctor|scientist|super villain|tentacle</td>\n",
              "      <td>Spider-Man 2</td>\n",
              "      <td>death</td>\n",
              "    </tr>\n",
              "    <tr>\n",
              "      <th>39</th>\n",
              "      <td>costumed hero|death of girlfriend|masked vigil...</td>\n",
              "      <td>The Amazing Spider-Man 2</td>\n",
              "      <td>death</td>\n",
              "    </tr>\n",
              "    <tr>\n",
              "      <th>44</th>\n",
              "      <td>death row|future|machine|rescue|skynet</td>\n",
              "      <td>Terminator Salvation</td>\n",
              "      <td>death</td>\n",
              "    </tr>\n",
              "    <tr>\n",
              "      <th>103</th>\n",
              "      <td>death of sister|dystopia|execution|rebellion|r...</td>\n",
              "      <td>The Hunger Games: Mockingjay - Part 2</td>\n",
              "      <td>death</td>\n",
              "    </tr>\n",
              "    <tr>\n",
              "      <th>136</th>\n",
              "      <td>asylum|death|full moon|transformation|werewolf</td>\n",
              "      <td>The Wolfman</td>\n",
              "      <td>death</td>\n",
              "    </tr>\n",
              "    <tr>\n",
              "      <th>...</th>\n",
              "      <td>...</td>\n",
              "      <td>...</td>\n",
              "      <td>...</td>\n",
              "    </tr>\n",
              "    <tr>\n",
              "      <th>4882</th>\n",
              "      <td>antique|desk|letter|love|time travel</td>\n",
              "      <td>The Love Letter</td>\n",
              "      <td>love</td>\n",
              "    </tr>\n",
              "    <tr>\n",
              "      <th>4930</th>\n",
              "      <td>best friend|boy|french|friend|love</td>\n",
              "      <td>Tadpole</td>\n",
              "      <td>love</td>\n",
              "    </tr>\n",
              "    <tr>\n",
              "      <th>4942</th>\n",
              "      <td>cat|cat people|leopard|love|slip the undergarment</td>\n",
              "      <td>Cat People</td>\n",
              "      <td>love</td>\n",
              "    </tr>\n",
              "    <tr>\n",
              "      <th>4984</th>\n",
              "      <td>abusive father|critically acclaimed|loss of fa...</td>\n",
              "      <td>The Brothers McMullen</td>\n",
              "      <td>love</td>\n",
              "    </tr>\n",
              "    <tr>\n",
              "      <th>5011</th>\n",
              "      <td>business trip|love|misogynist|office|secretary</td>\n",
              "      <td>In the Company of Men</td>\n",
              "      <td>love</td>\n",
              "    </tr>\n",
              "  </tbody>\n",
              "</table>\n",
              "<p>406 rows × 3 columns</p>\n",
              "</div>"
            ],
            "text/plain": [
              "                                          plot_keywords  \\\n",
              "31        death|doctor|scientist|super villain|tentacle   \n",
              "39    costumed hero|death of girlfriend|masked vigil...   \n",
              "44               death row|future|machine|rescue|skynet   \n",
              "103   death of sister|dystopia|execution|rebellion|r...   \n",
              "136      asylum|death|full moon|transformation|werewolf   \n",
              "...                                                 ...   \n",
              "4882               antique|desk|letter|love|time travel   \n",
              "4930                 best friend|boy|french|friend|love   \n",
              "4942  cat|cat people|leopard|love|slip the undergarment   \n",
              "4984  abusive father|critically acclaimed|loss of fa...   \n",
              "5011     business trip|love|misogynist|office|secretary   \n",
              "\n",
              "                                 movie_title movie_plot_category  \n",
              "31                             Spider-Man 2                death  \n",
              "39                 The Amazing Spider-Man 2                death  \n",
              "44                     Terminator Salvation                death  \n",
              "103   The Hunger Games: Mockingjay - Part 2                death  \n",
              "136                             The Wolfman                death  \n",
              "...                                      ...                 ...  \n",
              "4882                        The Love Letter                 love  \n",
              "4930                                Tadpole                 love  \n",
              "4942                             Cat People                 love  \n",
              "4984                  The Brothers McMullen                 love  \n",
              "5011                  In the Company of Men                 love  \n",
              "\n",
              "[406 rows x 3 columns]"
            ]
          },
          "execution_count": 89,
          "metadata": {},
          "output_type": "execute_result"
        }
      ],
      "source": [
        "movie_data8_full"
      ]
    },
    {
      "cell_type": "code",
      "execution_count": null,
      "id": "c4b703dd",
      "metadata": {
        "id": "c4b703dd"
      },
      "outputs": [],
      "source": [
        "movie_data8_full2 = pd.concat([movie_data8_no_love_no_death, movie_data8_full ], axis=0)"
      ]
    },
    {
      "cell_type": "code",
      "execution_count": null,
      "id": "dbc6c310",
      "metadata": {
        "id": "dbc6c310",
        "outputId": "91a196a7-a9e8-4db0-a2d8-ef404386c927"
      },
      "outputs": [
        {
          "data": {
            "text/html": [
              "<div>\n",
              "<style scoped>\n",
              "    .dataframe tbody tr th:only-of-type {\n",
              "        vertical-align: middle;\n",
              "    }\n",
              "\n",
              "    .dataframe tbody tr th {\n",
              "        vertical-align: top;\n",
              "    }\n",
              "\n",
              "    .dataframe thead th {\n",
              "        text-align: right;\n",
              "    }\n",
              "</style>\n",
              "<table border=\"1\" class=\"dataframe\">\n",
              "  <thead>\n",
              "    <tr style=\"text-align: right;\">\n",
              "      <th></th>\n",
              "      <th>plot_keywords</th>\n",
              "      <th>movie_title</th>\n",
              "      <th>movie_plot_category</th>\n",
              "    </tr>\n",
              "  </thead>\n",
              "  <tbody>\n",
              "    <tr>\n",
              "      <th>0</th>\n",
              "      <td>avatar|future|marine|native|paraplegic</td>\n",
              "      <td>Avatar</td>\n",
              "      <td>other</td>\n",
              "    </tr>\n",
              "    <tr>\n",
              "      <th>1</th>\n",
              "      <td>goddess|marriage ceremony|marriage proposal|pi...</td>\n",
              "      <td>Pirates of the Caribbean: At World's End</td>\n",
              "      <td>other</td>\n",
              "    </tr>\n",
              "    <tr>\n",
              "      <th>2</th>\n",
              "      <td>bomb|espionage|sequel|spy|terrorist</td>\n",
              "      <td>Spectre</td>\n",
              "      <td>other</td>\n",
              "    </tr>\n",
              "    <tr>\n",
              "      <th>3</th>\n",
              "      <td>deception|imprisonment|lawlessness|police offi...</td>\n",
              "      <td>The Dark Knight Rises</td>\n",
              "      <td>other</td>\n",
              "    </tr>\n",
              "    <tr>\n",
              "      <th>5</th>\n",
              "      <td>alien|american civil war|male nipple|mars|prin...</td>\n",
              "      <td>John Carter</td>\n",
              "      <td>other</td>\n",
              "    </tr>\n",
              "    <tr>\n",
              "      <th>...</th>\n",
              "      <td>...</td>\n",
              "      <td>...</td>\n",
              "      <td>...</td>\n",
              "    </tr>\n",
              "    <tr>\n",
              "      <th>4882</th>\n",
              "      <td>antique|desk|letter|love|time travel</td>\n",
              "      <td>The Love Letter</td>\n",
              "      <td>love</td>\n",
              "    </tr>\n",
              "    <tr>\n",
              "      <th>4930</th>\n",
              "      <td>best friend|boy|french|friend|love</td>\n",
              "      <td>Tadpole</td>\n",
              "      <td>love</td>\n",
              "    </tr>\n",
              "    <tr>\n",
              "      <th>4942</th>\n",
              "      <td>cat|cat people|leopard|love|slip the undergarment</td>\n",
              "      <td>Cat People</td>\n",
              "      <td>love</td>\n",
              "    </tr>\n",
              "    <tr>\n",
              "      <th>4984</th>\n",
              "      <td>abusive father|critically acclaimed|loss of fa...</td>\n",
              "      <td>The Brothers McMullen</td>\n",
              "      <td>love</td>\n",
              "    </tr>\n",
              "    <tr>\n",
              "      <th>5011</th>\n",
              "      <td>business trip|love|misogynist|office|secretary</td>\n",
              "      <td>In the Company of Men</td>\n",
              "      <td>love</td>\n",
              "    </tr>\n",
              "  </tbody>\n",
              "</table>\n",
              "<p>4874 rows × 3 columns</p>\n",
              "</div>"
            ],
            "text/plain": [
              "                                          plot_keywords  \\\n",
              "0                avatar|future|marine|native|paraplegic   \n",
              "1     goddess|marriage ceremony|marriage proposal|pi...   \n",
              "2                   bomb|espionage|sequel|spy|terrorist   \n",
              "3     deception|imprisonment|lawlessness|police offi...   \n",
              "5     alien|american civil war|male nipple|mars|prin...   \n",
              "...                                                 ...   \n",
              "4882               antique|desk|letter|love|time travel   \n",
              "4930                 best friend|boy|french|friend|love   \n",
              "4942  cat|cat people|leopard|love|slip the undergarment   \n",
              "4984  abusive father|critically acclaimed|loss of fa...   \n",
              "5011     business trip|love|misogynist|office|secretary   \n",
              "\n",
              "                                    movie_title movie_plot_category  \n",
              "0                                       Avatar                other  \n",
              "1     Pirates of the Caribbean: At World's End                other  \n",
              "2                                      Spectre                other  \n",
              "3                        The Dark Knight Rises                other  \n",
              "5                                  John Carter                other  \n",
              "...                                         ...                 ...  \n",
              "4882                           The Love Letter                 love  \n",
              "4930                                   Tadpole                 love  \n",
              "4942                                Cat People                 love  \n",
              "4984                     The Brothers McMullen                 love  \n",
              "5011                     In the Company of Men                 love  \n",
              "\n",
              "[4874 rows x 3 columns]"
            ]
          },
          "execution_count": 91,
          "metadata": {},
          "output_type": "execute_result"
        }
      ],
      "source": [
        "movie_data8_full2"
      ]
    },
    {
      "cell_type": "code",
      "execution_count": null,
      "id": "c459a980",
      "metadata": {
        "id": "c459a980",
        "outputId": "fb3035c3-91bd-4374-ddd7-79e5f29e45e7"
      },
      "outputs": [
        {
          "data": {
            "text/html": [
              "<div>\n",
              "<style scoped>\n",
              "    .dataframe tbody tr th:only-of-type {\n",
              "        vertical-align: middle;\n",
              "    }\n",
              "\n",
              "    .dataframe tbody tr th {\n",
              "        vertical-align: top;\n",
              "    }\n",
              "\n",
              "    .dataframe thead th {\n",
              "        text-align: right;\n",
              "    }\n",
              "</style>\n",
              "<table border=\"1\" class=\"dataframe\">\n",
              "  <thead>\n",
              "    <tr style=\"text-align: right;\">\n",
              "      <th></th>\n",
              "      <th>plot_keywords</th>\n",
              "      <th>movie_title</th>\n",
              "    </tr>\n",
              "  </thead>\n",
              "  <tbody>\n",
              "    <tr>\n",
              "      <th>0</th>\n",
              "      <td>avatar|future|marine|native|paraplegic</td>\n",
              "      <td>Avatar</td>\n",
              "    </tr>\n",
              "    <tr>\n",
              "      <th>1</th>\n",
              "      <td>goddess|marriage ceremony|marriage proposal|pi...</td>\n",
              "      <td>Pirates of the Caribbean: At World's End</td>\n",
              "    </tr>\n",
              "    <tr>\n",
              "      <th>2</th>\n",
              "      <td>bomb|espionage|sequel|spy|terrorist</td>\n",
              "      <td>Spectre</td>\n",
              "    </tr>\n",
              "    <tr>\n",
              "      <th>3</th>\n",
              "      <td>deception|imprisonment|lawlessness|police offi...</td>\n",
              "      <td>The Dark Knight Rises</td>\n",
              "    </tr>\n",
              "    <tr>\n",
              "      <th>5</th>\n",
              "      <td>alien|american civil war|male nipple|mars|prin...</td>\n",
              "      <td>John Carter</td>\n",
              "    </tr>\n",
              "    <tr>\n",
              "      <th>...</th>\n",
              "      <td>...</td>\n",
              "      <td>...</td>\n",
              "    </tr>\n",
              "    <tr>\n",
              "      <th>5036</th>\n",
              "      <td>jewell|mongol|nostradamus|stepnicka|vallone</td>\n",
              "      <td>The Mongol King</td>\n",
              "    </tr>\n",
              "    <tr>\n",
              "      <th>5037</th>\n",
              "      <td>written and directed by cast member</td>\n",
              "      <td>Newlyweds</td>\n",
              "    </tr>\n",
              "    <tr>\n",
              "      <th>5038</th>\n",
              "      <td>fraud|postal worker|prison|theft|trial</td>\n",
              "      <td>Signed Sealed Delivered</td>\n",
              "    </tr>\n",
              "    <tr>\n",
              "      <th>5039</th>\n",
              "      <td>cult|fbi|hideout|prison escape|serial killer</td>\n",
              "      <td>The Following</td>\n",
              "    </tr>\n",
              "    <tr>\n",
              "      <th>5042</th>\n",
              "      <td>actress name in title|crush|date|four word tit...</td>\n",
              "      <td>My Date with Drew</td>\n",
              "    </tr>\n",
              "  </tbody>\n",
              "</table>\n",
              "<p>4890 rows × 2 columns</p>\n",
              "</div>"
            ],
            "text/plain": [
              "                                          plot_keywords  \\\n",
              "0                avatar|future|marine|native|paraplegic   \n",
              "1     goddess|marriage ceremony|marriage proposal|pi...   \n",
              "2                   bomb|espionage|sequel|spy|terrorist   \n",
              "3     deception|imprisonment|lawlessness|police offi...   \n",
              "5     alien|american civil war|male nipple|mars|prin...   \n",
              "...                                                 ...   \n",
              "5036        jewell|mongol|nostradamus|stepnicka|vallone   \n",
              "5037                written and directed by cast member   \n",
              "5038             fraud|postal worker|prison|theft|trial   \n",
              "5039       cult|fbi|hideout|prison escape|serial killer   \n",
              "5042  actress name in title|crush|date|four word tit...   \n",
              "\n",
              "                                    movie_title  \n",
              "0                                       Avatar   \n",
              "1     Pirates of the Caribbean: At World's End   \n",
              "2                                      Spectre   \n",
              "3                        The Dark Knight Rises   \n",
              "5                                  John Carter   \n",
              "...                                         ...  \n",
              "5036                           The Mongol King   \n",
              "5037                                 Newlyweds   \n",
              "5038                   Signed Sealed Delivered   \n",
              "5039                 The Following               \n",
              "5042                         My Date with Drew   \n",
              "\n",
              "[4890 rows x 2 columns]"
            ]
          },
          "execution_count": 92,
          "metadata": {},
          "output_type": "execute_result"
        }
      ],
      "source": [
        "movie_data8"
      ]
    },
    {
      "cell_type": "code",
      "execution_count": null,
      "id": "105046be",
      "metadata": {
        "id": "105046be"
      },
      "outputs": [],
      "source": [
        "movie_data8['movie_plot_category']=movie_data8_full2['movie_plot_category']"
      ]
    },
    {
      "cell_type": "code",
      "execution_count": null,
      "id": "f2cfe794",
      "metadata": {
        "id": "f2cfe794",
        "outputId": "345db4a2-d1ad-4583-cc22-8065ebb8bfaf"
      },
      "outputs": [
        {
          "data": {
            "text/html": [
              "<div>\n",
              "<style scoped>\n",
              "    .dataframe tbody tr th:only-of-type {\n",
              "        vertical-align: middle;\n",
              "    }\n",
              "\n",
              "    .dataframe tbody tr th {\n",
              "        vertical-align: top;\n",
              "    }\n",
              "\n",
              "    .dataframe thead th {\n",
              "        text-align: right;\n",
              "    }\n",
              "</style>\n",
              "<table border=\"1\" class=\"dataframe\">\n",
              "  <thead>\n",
              "    <tr style=\"text-align: right;\">\n",
              "      <th></th>\n",
              "      <th>plot_keywords</th>\n",
              "      <th>movie_title</th>\n",
              "      <th>movie_plot_category</th>\n",
              "    </tr>\n",
              "  </thead>\n",
              "  <tbody>\n",
              "    <tr>\n",
              "      <th>0</th>\n",
              "      <td>avatar|future|marine|native|paraplegic</td>\n",
              "      <td>Avatar</td>\n",
              "      <td>other</td>\n",
              "    </tr>\n",
              "    <tr>\n",
              "      <th>1</th>\n",
              "      <td>goddess|marriage ceremony|marriage proposal|pi...</td>\n",
              "      <td>Pirates of the Caribbean: At World's End</td>\n",
              "      <td>other</td>\n",
              "    </tr>\n",
              "    <tr>\n",
              "      <th>2</th>\n",
              "      <td>bomb|espionage|sequel|spy|terrorist</td>\n",
              "      <td>Spectre</td>\n",
              "      <td>other</td>\n",
              "    </tr>\n",
              "    <tr>\n",
              "      <th>3</th>\n",
              "      <td>deception|imprisonment|lawlessness|police offi...</td>\n",
              "      <td>The Dark Knight Rises</td>\n",
              "      <td>other</td>\n",
              "    </tr>\n",
              "    <tr>\n",
              "      <th>5</th>\n",
              "      <td>alien|american civil war|male nipple|mars|prin...</td>\n",
              "      <td>John Carter</td>\n",
              "      <td>other</td>\n",
              "    </tr>\n",
              "    <tr>\n",
              "      <th>...</th>\n",
              "      <td>...</td>\n",
              "      <td>...</td>\n",
              "      <td>...</td>\n",
              "    </tr>\n",
              "    <tr>\n",
              "      <th>5036</th>\n",
              "      <td>jewell|mongol|nostradamus|stepnicka|vallone</td>\n",
              "      <td>The Mongol King</td>\n",
              "      <td>other</td>\n",
              "    </tr>\n",
              "    <tr>\n",
              "      <th>5037</th>\n",
              "      <td>written and directed by cast member</td>\n",
              "      <td>Newlyweds</td>\n",
              "      <td>other</td>\n",
              "    </tr>\n",
              "    <tr>\n",
              "      <th>5038</th>\n",
              "      <td>fraud|postal worker|prison|theft|trial</td>\n",
              "      <td>Signed Sealed Delivered</td>\n",
              "      <td>other</td>\n",
              "    </tr>\n",
              "    <tr>\n",
              "      <th>5039</th>\n",
              "      <td>cult|fbi|hideout|prison escape|serial killer</td>\n",
              "      <td>The Following</td>\n",
              "      <td>other</td>\n",
              "    </tr>\n",
              "    <tr>\n",
              "      <th>5042</th>\n",
              "      <td>actress name in title|crush|date|four word tit...</td>\n",
              "      <td>My Date with Drew</td>\n",
              "      <td>other</td>\n",
              "    </tr>\n",
              "  </tbody>\n",
              "</table>\n",
              "<p>4890 rows × 3 columns</p>\n",
              "</div>"
            ],
            "text/plain": [
              "                                          plot_keywords  \\\n",
              "0                avatar|future|marine|native|paraplegic   \n",
              "1     goddess|marriage ceremony|marriage proposal|pi...   \n",
              "2                   bomb|espionage|sequel|spy|terrorist   \n",
              "3     deception|imprisonment|lawlessness|police offi...   \n",
              "5     alien|american civil war|male nipple|mars|prin...   \n",
              "...                                                 ...   \n",
              "5036        jewell|mongol|nostradamus|stepnicka|vallone   \n",
              "5037                written and directed by cast member   \n",
              "5038             fraud|postal worker|prison|theft|trial   \n",
              "5039       cult|fbi|hideout|prison escape|serial killer   \n",
              "5042  actress name in title|crush|date|four word tit...   \n",
              "\n",
              "                                    movie_title movie_plot_category  \n",
              "0                                       Avatar                other  \n",
              "1     Pirates of the Caribbean: At World's End                other  \n",
              "2                                      Spectre                other  \n",
              "3                        The Dark Knight Rises                other  \n",
              "5                                  John Carter                other  \n",
              "...                                         ...                 ...  \n",
              "5036                           The Mongol King                other  \n",
              "5037                                 Newlyweds                other  \n",
              "5038                   Signed Sealed Delivered                other  \n",
              "5039                 The Following                            other  \n",
              "5042                         My Date with Drew                other  \n",
              "\n",
              "[4890 rows x 3 columns]"
            ]
          },
          "execution_count": 94,
          "metadata": {},
          "output_type": "execute_result"
        }
      ],
      "source": [
        "movie_data8"
      ]
    },
    {
      "cell_type": "code",
      "execution_count": null,
      "id": "adfb7b50",
      "metadata": {
        "id": "adfb7b50",
        "outputId": "42c3aff3-73a7-4307-b5a0-ddb768ab9e7a"
      },
      "outputs": [
        {
          "data": {
            "text/plain": [
              "16"
            ]
          },
          "execution_count": 95,
          "metadata": {},
          "output_type": "execute_result"
        }
      ],
      "source": [
        "movie_data8['movie_plot_category'].isnull().sum(axis = 0)"
      ]
    },
    {
      "cell_type": "code",
      "execution_count": null,
      "id": "c540db4b",
      "metadata": {
        "id": "c540db4b"
      },
      "outputs": [],
      "source": [
        "movie_data8['movie_plot_category'].fillna('love_and_death' , inplace = True)"
      ]
    },
    {
      "cell_type": "code",
      "execution_count": null,
      "id": "08da699b",
      "metadata": {
        "id": "08da699b",
        "outputId": "ebbad61a-210d-4660-f718-b45a2c1c888e"
      },
      "outputs": [
        {
          "data": {
            "text/plain": [
              "0"
            ]
          },
          "execution_count": 97,
          "metadata": {},
          "output_type": "execute_result"
        }
      ],
      "source": [
        "movie_data8['movie_plot_category'].isnull().sum(axis = 0)"
      ]
    },
    {
      "cell_type": "code",
      "execution_count": null,
      "id": "b511a7c5",
      "metadata": {
        "id": "b511a7c5",
        "outputId": "79bd7311-8f62-4588-8bf2-6127ec44d9ee"
      },
      "outputs": [
        {
          "name": "stdout",
          "output_type": "stream",
          "text": [
            "other             4468\n",
            "love               234\n",
            "death              172\n",
            "love_and_death      16\n",
            "Name: movie_plot_category, dtype: int64\n"
          ]
        }
      ],
      "source": [
        "print(movie_data8['movie_plot_category'].value_counts(dropna=False))"
      ]
    },
    {
      "cell_type": "code",
      "execution_count": null,
      "id": "f1592b66",
      "metadata": {
        "id": "f1592b66",
        "outputId": "0673aa06-6f90-4dfd-eb49-1913ae5c6776"
      },
      "outputs": [
        {
          "data": {
            "text/html": [
              "<div>\n",
              "<style scoped>\n",
              "    .dataframe tbody tr th:only-of-type {\n",
              "        vertical-align: middle;\n",
              "    }\n",
              "\n",
              "    .dataframe tbody tr th {\n",
              "        vertical-align: top;\n",
              "    }\n",
              "\n",
              "    .dataframe thead th {\n",
              "        text-align: right;\n",
              "    }\n",
              "</style>\n",
              "<table border=\"1\" class=\"dataframe\">\n",
              "  <thead>\n",
              "    <tr style=\"text-align: right;\">\n",
              "      <th></th>\n",
              "      <th>plot_keywords</th>\n",
              "      <th>movie_title</th>\n",
              "      <th>movie_plot_category</th>\n",
              "    </tr>\n",
              "  </thead>\n",
              "  <tbody>\n",
              "    <tr>\n",
              "      <th>0</th>\n",
              "      <td>avatar|future|marine|native|paraplegic</td>\n",
              "      <td>Avatar</td>\n",
              "      <td>other</td>\n",
              "    </tr>\n",
              "    <tr>\n",
              "      <th>1</th>\n",
              "      <td>goddess|marriage ceremony|marriage proposal|pi...</td>\n",
              "      <td>Pirates of the Caribbean: At World's End</td>\n",
              "      <td>other</td>\n",
              "    </tr>\n",
              "    <tr>\n",
              "      <th>2</th>\n",
              "      <td>bomb|espionage|sequel|spy|terrorist</td>\n",
              "      <td>Spectre</td>\n",
              "      <td>other</td>\n",
              "    </tr>\n",
              "    <tr>\n",
              "      <th>3</th>\n",
              "      <td>deception|imprisonment|lawlessness|police offi...</td>\n",
              "      <td>The Dark Knight Rises</td>\n",
              "      <td>other</td>\n",
              "    </tr>\n",
              "    <tr>\n",
              "      <th>5</th>\n",
              "      <td>alien|american civil war|male nipple|mars|prin...</td>\n",
              "      <td>John Carter</td>\n",
              "      <td>other</td>\n",
              "    </tr>\n",
              "    <tr>\n",
              "      <th>...</th>\n",
              "      <td>...</td>\n",
              "      <td>...</td>\n",
              "      <td>...</td>\n",
              "    </tr>\n",
              "    <tr>\n",
              "      <th>5036</th>\n",
              "      <td>jewell|mongol|nostradamus|stepnicka|vallone</td>\n",
              "      <td>The Mongol King</td>\n",
              "      <td>other</td>\n",
              "    </tr>\n",
              "    <tr>\n",
              "      <th>5037</th>\n",
              "      <td>written and directed by cast member</td>\n",
              "      <td>Newlyweds</td>\n",
              "      <td>other</td>\n",
              "    </tr>\n",
              "    <tr>\n",
              "      <th>5038</th>\n",
              "      <td>fraud|postal worker|prison|theft|trial</td>\n",
              "      <td>Signed Sealed Delivered</td>\n",
              "      <td>other</td>\n",
              "    </tr>\n",
              "    <tr>\n",
              "      <th>5039</th>\n",
              "      <td>cult|fbi|hideout|prison escape|serial killer</td>\n",
              "      <td>The Following</td>\n",
              "      <td>other</td>\n",
              "    </tr>\n",
              "    <tr>\n",
              "      <th>5042</th>\n",
              "      <td>actress name in title|crush|date|four word tit...</td>\n",
              "      <td>My Date with Drew</td>\n",
              "      <td>other</td>\n",
              "    </tr>\n",
              "  </tbody>\n",
              "</table>\n",
              "<p>4890 rows × 3 columns</p>\n",
              "</div>"
            ],
            "text/plain": [
              "                                          plot_keywords  \\\n",
              "0                avatar|future|marine|native|paraplegic   \n",
              "1     goddess|marriage ceremony|marriage proposal|pi...   \n",
              "2                   bomb|espionage|sequel|spy|terrorist   \n",
              "3     deception|imprisonment|lawlessness|police offi...   \n",
              "5     alien|american civil war|male nipple|mars|prin...   \n",
              "...                                                 ...   \n",
              "5036        jewell|mongol|nostradamus|stepnicka|vallone   \n",
              "5037                written and directed by cast member   \n",
              "5038             fraud|postal worker|prison|theft|trial   \n",
              "5039       cult|fbi|hideout|prison escape|serial killer   \n",
              "5042  actress name in title|crush|date|four word tit...   \n",
              "\n",
              "                                    movie_title movie_plot_category  \n",
              "0                                       Avatar                other  \n",
              "1     Pirates of the Caribbean: At World's End                other  \n",
              "2                                      Spectre                other  \n",
              "3                        The Dark Knight Rises                other  \n",
              "5                                  John Carter                other  \n",
              "...                                         ...                 ...  \n",
              "5036                           The Mongol King                other  \n",
              "5037                                 Newlyweds                other  \n",
              "5038                   Signed Sealed Delivered                other  \n",
              "5039                 The Following                            other  \n",
              "5042                         My Date with Drew                other  \n",
              "\n",
              "[4890 rows x 3 columns]"
            ]
          },
          "execution_count": 99,
          "metadata": {},
          "output_type": "execute_result"
        }
      ],
      "source": [
        "movie_data8"
      ]
    },
    {
      "cell_type": "code",
      "execution_count": null,
      "id": "3a5fc561",
      "metadata": {
        "id": "3a5fc561"
      },
      "outputs": [],
      "source": [
        "################################################################################################################################"
      ]
    },
    {
      "cell_type": "code",
      "execution_count": null,
      "id": "bff5b99b",
      "metadata": {
        "id": "bff5b99b"
      },
      "outputs": [],
      "source": [
        "# 9. The imdb_score column shows a viewer rating for the film. Build a table to reflect the\n",
        "# average rating of films depending on which movie_plot_category category they belong to."
      ]
    },
    {
      "cell_type": "code",
      "execution_count": null,
      "id": "7163ab2d",
      "metadata": {
        "id": "7163ab2d",
        "outputId": "b7c43e11-9db1-425d-806c-d73c2910f979"
      },
      "outputs": [
        {
          "data": {
            "text/html": [
              "<div>\n",
              "<style scoped>\n",
              "    .dataframe tbody tr th:only-of-type {\n",
              "        vertical-align: middle;\n",
              "    }\n",
              "\n",
              "    .dataframe tbody tr th {\n",
              "        vertical-align: top;\n",
              "    }\n",
              "\n",
              "    .dataframe thead th {\n",
              "        text-align: right;\n",
              "    }\n",
              "</style>\n",
              "<table border=\"1\" class=\"dataframe\">\n",
              "  <thead>\n",
              "    <tr style=\"text-align: right;\">\n",
              "      <th></th>\n",
              "      <th>color</th>\n",
              "      <th>director_name</th>\n",
              "      <th>num_critic_for_reviews</th>\n",
              "      <th>duration</th>\n",
              "      <th>director_facebook_likes</th>\n",
              "      <th>actor_3_facebook_likes</th>\n",
              "      <th>actor_2_name</th>\n",
              "      <th>actor_1_facebook_likes</th>\n",
              "      <th>gross</th>\n",
              "      <th>genres</th>\n",
              "      <th>...</th>\n",
              "      <th>country</th>\n",
              "      <th>content_rating</th>\n",
              "      <th>budget</th>\n",
              "      <th>title_year</th>\n",
              "      <th>actor_2_facebook_likes</th>\n",
              "      <th>imdb_score</th>\n",
              "      <th>aspect_ratio</th>\n",
              "      <th>movie_facebook_likes</th>\n",
              "      <th>movie_data_duration</th>\n",
              "      <th>movie_plot_category</th>\n",
              "    </tr>\n",
              "  </thead>\n",
              "  <tbody>\n",
              "    <tr>\n",
              "      <th>0</th>\n",
              "      <td>Color</td>\n",
              "      <td>James Cameron</td>\n",
              "      <td>723.0</td>\n",
              "      <td>178.0</td>\n",
              "      <td>0.0</td>\n",
              "      <td>855.0</td>\n",
              "      <td>Joel David Moore</td>\n",
              "      <td>1000.0</td>\n",
              "      <td>760505847.0</td>\n",
              "      <td>Action|Adventure|Fantasy|Sci-Fi</td>\n",
              "      <td>...</td>\n",
              "      <td>USA</td>\n",
              "      <td>PG-13</td>\n",
              "      <td>237000000.0$</td>\n",
              "      <td>2009.0</td>\n",
              "      <td>936.0</td>\n",
              "      <td>7.9</td>\n",
              "      <td>1.78</td>\n",
              "      <td>33000</td>\n",
              "      <td>3</td>\n",
              "      <td>other</td>\n",
              "    </tr>\n",
              "    <tr>\n",
              "      <th>1</th>\n",
              "      <td>Color</td>\n",
              "      <td>Gore Verbinski</td>\n",
              "      <td>302.0</td>\n",
              "      <td>169.0</td>\n",
              "      <td>563.0</td>\n",
              "      <td>1000.0</td>\n",
              "      <td>Orlando Bloom</td>\n",
              "      <td>40000.0</td>\n",
              "      <td>309404152.0</td>\n",
              "      <td>Action|Adventure|Fantasy</td>\n",
              "      <td>...</td>\n",
              "      <td>USA</td>\n",
              "      <td>PG-13</td>\n",
              "      <td>300000000.0$</td>\n",
              "      <td>2007.0</td>\n",
              "      <td>5000.0</td>\n",
              "      <td>7.1</td>\n",
              "      <td>2.35</td>\n",
              "      <td>0</td>\n",
              "      <td>3</td>\n",
              "      <td>other</td>\n",
              "    </tr>\n",
              "    <tr>\n",
              "      <th>2</th>\n",
              "      <td>Color</td>\n",
              "      <td>Sam Mendes</td>\n",
              "      <td>602.0</td>\n",
              "      <td>148.0</td>\n",
              "      <td>0.0</td>\n",
              "      <td>161.0</td>\n",
              "      <td>Rory Kinnear</td>\n",
              "      <td>11000.0</td>\n",
              "      <td>200074175.0</td>\n",
              "      <td>Action|Adventure|Thriller</td>\n",
              "      <td>...</td>\n",
              "      <td>UK</td>\n",
              "      <td>PG-13</td>\n",
              "      <td>245000000.0$</td>\n",
              "      <td>2015.0</td>\n",
              "      <td>393.0</td>\n",
              "      <td>6.8</td>\n",
              "      <td>2.35</td>\n",
              "      <td>85000</td>\n",
              "      <td>3</td>\n",
              "      <td>other</td>\n",
              "    </tr>\n",
              "    <tr>\n",
              "      <th>3</th>\n",
              "      <td>Color</td>\n",
              "      <td>Christopher Nolan</td>\n",
              "      <td>813.0</td>\n",
              "      <td>164.0</td>\n",
              "      <td>22000.0</td>\n",
              "      <td>23000.0</td>\n",
              "      <td>Christian Bale</td>\n",
              "      <td>27000.0</td>\n",
              "      <td>448130642.0</td>\n",
              "      <td>Action|Thriller</td>\n",
              "      <td>...</td>\n",
              "      <td>USA</td>\n",
              "      <td>PG-13</td>\n",
              "      <td>250000000.0$</td>\n",
              "      <td>2012.0</td>\n",
              "      <td>23000.0</td>\n",
              "      <td>8.5</td>\n",
              "      <td>2.35</td>\n",
              "      <td>164000</td>\n",
              "      <td>3</td>\n",
              "      <td>other</td>\n",
              "    </tr>\n",
              "    <tr>\n",
              "      <th>4</th>\n",
              "      <td>NaN</td>\n",
              "      <td>Doug Walker</td>\n",
              "      <td>NaN</td>\n",
              "      <td>103.0</td>\n",
              "      <td>131.0</td>\n",
              "      <td>NaN</td>\n",
              "      <td>Rob Walker</td>\n",
              "      <td>131.0</td>\n",
              "      <td>NaN</td>\n",
              "      <td>Documentary</td>\n",
              "      <td>...</td>\n",
              "      <td>NaN</td>\n",
              "      <td>NaN</td>\n",
              "      <td>0.0$</td>\n",
              "      <td>NaN</td>\n",
              "      <td>12.0</td>\n",
              "      <td>7.1</td>\n",
              "      <td>NaN</td>\n",
              "      <td>0</td>\n",
              "      <td>2</td>\n",
              "      <td>NaN</td>\n",
              "    </tr>\n",
              "  </tbody>\n",
              "</table>\n",
              "<p>5 rows × 30 columns</p>\n",
              "</div>"
            ],
            "text/plain": [
              "   color      director_name  num_critic_for_reviews  duration  \\\n",
              "0  Color      James Cameron                   723.0     178.0   \n",
              "1  Color     Gore Verbinski                   302.0     169.0   \n",
              "2  Color         Sam Mendes                   602.0     148.0   \n",
              "3  Color  Christopher Nolan                   813.0     164.0   \n",
              "4    NaN        Doug Walker                     NaN     103.0   \n",
              "\n",
              "   director_facebook_likes  actor_3_facebook_likes      actor_2_name  \\\n",
              "0                      0.0                   855.0  Joel David Moore   \n",
              "1                    563.0                  1000.0     Orlando Bloom   \n",
              "2                      0.0                   161.0      Rory Kinnear   \n",
              "3                  22000.0                 23000.0    Christian Bale   \n",
              "4                    131.0                     NaN        Rob Walker   \n",
              "\n",
              "   actor_1_facebook_likes        gross                           genres  ...  \\\n",
              "0                  1000.0  760505847.0  Action|Adventure|Fantasy|Sci-Fi  ...   \n",
              "1                 40000.0  309404152.0         Action|Adventure|Fantasy  ...   \n",
              "2                 11000.0  200074175.0        Action|Adventure|Thriller  ...   \n",
              "3                 27000.0  448130642.0                  Action|Thriller  ...   \n",
              "4                   131.0          NaN                      Documentary  ...   \n",
              "\n",
              "  country content_rating        budget  title_year actor_2_facebook_likes  \\\n",
              "0     USA          PG-13  237000000.0$      2009.0                  936.0   \n",
              "1     USA          PG-13  300000000.0$      2007.0                 5000.0   \n",
              "2      UK          PG-13  245000000.0$      2015.0                  393.0   \n",
              "3     USA          PG-13  250000000.0$      2012.0                23000.0   \n",
              "4     NaN            NaN          0.0$         NaN                   12.0   \n",
              "\n",
              "   imdb_score aspect_ratio movie_facebook_likes  movie_data_duration  \\\n",
              "0         7.9         1.78                33000                    3   \n",
              "1         7.1         2.35                    0                    3   \n",
              "2         6.8         2.35                85000                    3   \n",
              "3         8.5         2.35               164000                    3   \n",
              "4         7.1          NaN                    0                    2   \n",
              "\n",
              "  movie_plot_category  \n",
              "0               other  \n",
              "1               other  \n",
              "2               other  \n",
              "3               other  \n",
              "4                 NaN  \n",
              "\n",
              "[5 rows x 30 columns]"
            ]
          },
          "execution_count": 102,
          "metadata": {},
          "output_type": "execute_result"
        }
      ],
      "source": [
        "movie_data['movie_plot_category']=movie_data8['movie_plot_category']\n",
        "movie_data.head(5)"
      ]
    },
    {
      "cell_type": "code",
      "execution_count": null,
      "id": "672395f8",
      "metadata": {
        "id": "672395f8",
        "outputId": "04adafcf-57ec-494d-abe9-b1856bbf9a5b"
      },
      "outputs": [
        {
          "data": {
            "text/plain": [
              "(5043, 30)"
            ]
          },
          "execution_count": 103,
          "metadata": {},
          "output_type": "execute_result"
        }
      ],
      "source": [
        "movie_data.shape"
      ]
    },
    {
      "cell_type": "code",
      "execution_count": null,
      "id": "9a40526d",
      "metadata": {
        "id": "9a40526d",
        "outputId": "4a4ba5fa-807f-4b4e-e448-d494951ddbfa"
      },
      "outputs": [
        {
          "data": {
            "text/plain": [
              "153"
            ]
          },
          "execution_count": 104,
          "metadata": {},
          "output_type": "execute_result"
        }
      ],
      "source": [
        "movie_data['movie_plot_category'].isnull().sum(axis = 0)"
      ]
    },
    {
      "cell_type": "code",
      "execution_count": null,
      "id": "28bc49d8",
      "metadata": {
        "id": "28bc49d8",
        "outputId": "fb94de7f-fb18-4857-d09f-6a732516e619"
      },
      "outputs": [
        {
          "name": "stdout",
          "output_type": "stream",
          "text": [
            "other             4468\n",
            "love               234\n",
            "death              172\n",
            "NaN                153\n",
            "love_and_death      16\n",
            "Name: movie_plot_category, dtype: int64\n"
          ]
        }
      ],
      "source": [
        "print(movie_data['movie_plot_category'].value_counts(dropna=False))"
      ]
    },
    {
      "cell_type": "code",
      "execution_count": null,
      "id": "44d3bf0e",
      "metadata": {
        "id": "44d3bf0e"
      },
      "outputs": [],
      "source": [
        "movie_data = movie_data[movie_data['movie_plot_category'].notna()]"
      ]
    },
    {
      "cell_type": "code",
      "execution_count": null,
      "id": "baac7909",
      "metadata": {
        "id": "baac7909",
        "outputId": "e420073c-d958-4942-f8df-8f88f9cee0a7"
      },
      "outputs": [
        {
          "name": "stdout",
          "output_type": "stream",
          "text": [
            "other             4468\n",
            "love               234\n",
            "death              172\n",
            "love_and_death      16\n",
            "Name: movie_plot_category, dtype: int64\n"
          ]
        }
      ],
      "source": [
        "print(movie_data['movie_plot_category'].value_counts(dropna=False))"
      ]
    },
    {
      "cell_type": "code",
      "execution_count": null,
      "id": "f3dbc337",
      "metadata": {
        "id": "f3dbc337",
        "outputId": "9b985364-efba-4c64-ab7e-66cad500e420"
      },
      "outputs": [
        {
          "data": {
            "text/html": [
              "<div>\n",
              "<style scoped>\n",
              "    .dataframe tbody tr th:only-of-type {\n",
              "        vertical-align: middle;\n",
              "    }\n",
              "\n",
              "    .dataframe tbody tr th {\n",
              "        vertical-align: top;\n",
              "    }\n",
              "\n",
              "    .dataframe thead th {\n",
              "        text-align: right;\n",
              "    }\n",
              "</style>\n",
              "<table border=\"1\" class=\"dataframe\">\n",
              "  <thead>\n",
              "    <tr style=\"text-align: right;\">\n",
              "      <th></th>\n",
              "      <th>movie_plot_category</th>\n",
              "      <th>movie_title</th>\n",
              "      <th>imdb_score</th>\n",
              "    </tr>\n",
              "  </thead>\n",
              "  <tbody>\n",
              "    <tr>\n",
              "      <th>0</th>\n",
              "      <td>other</td>\n",
              "      <td>Avatar</td>\n",
              "      <td>7.9</td>\n",
              "    </tr>\n",
              "    <tr>\n",
              "      <th>1</th>\n",
              "      <td>other</td>\n",
              "      <td>Pirates of the Caribbean: At World's End</td>\n",
              "      <td>7.1</td>\n",
              "    </tr>\n",
              "    <tr>\n",
              "      <th>2</th>\n",
              "      <td>other</td>\n",
              "      <td>Spectre</td>\n",
              "      <td>6.8</td>\n",
              "    </tr>\n",
              "    <tr>\n",
              "      <th>3</th>\n",
              "      <td>other</td>\n",
              "      <td>The Dark Knight Rises</td>\n",
              "      <td>8.5</td>\n",
              "    </tr>\n",
              "    <tr>\n",
              "      <th>5</th>\n",
              "      <td>other</td>\n",
              "      <td>John Carter</td>\n",
              "      <td>6.6</td>\n",
              "    </tr>\n",
              "    <tr>\n",
              "      <th>...</th>\n",
              "      <td>...</td>\n",
              "      <td>...</td>\n",
              "      <td>...</td>\n",
              "    </tr>\n",
              "    <tr>\n",
              "      <th>5036</th>\n",
              "      <td>other</td>\n",
              "      <td>The Mongol King</td>\n",
              "      <td>7.8</td>\n",
              "    </tr>\n",
              "    <tr>\n",
              "      <th>5037</th>\n",
              "      <td>other</td>\n",
              "      <td>Newlyweds</td>\n",
              "      <td>6.4</td>\n",
              "    </tr>\n",
              "    <tr>\n",
              "      <th>5038</th>\n",
              "      <td>other</td>\n",
              "      <td>Signed Sealed Delivered</td>\n",
              "      <td>7.7</td>\n",
              "    </tr>\n",
              "    <tr>\n",
              "      <th>5039</th>\n",
              "      <td>other</td>\n",
              "      <td>The Following</td>\n",
              "      <td>7.5</td>\n",
              "    </tr>\n",
              "    <tr>\n",
              "      <th>5042</th>\n",
              "      <td>other</td>\n",
              "      <td>My Date with Drew</td>\n",
              "      <td>6.6</td>\n",
              "    </tr>\n",
              "  </tbody>\n",
              "</table>\n",
              "<p>4890 rows × 3 columns</p>\n",
              "</div>"
            ],
            "text/plain": [
              "     movie_plot_category                                movie_title  \\\n",
              "0                  other                                    Avatar    \n",
              "1                  other  Pirates of the Caribbean: At World's End    \n",
              "2                  other                                   Spectre    \n",
              "3                  other                     The Dark Knight Rises    \n",
              "5                  other                               John Carter    \n",
              "...                  ...                                        ...   \n",
              "5036               other                           The Mongol King    \n",
              "5037               other                                 Newlyweds    \n",
              "5038               other                   Signed Sealed Delivered    \n",
              "5039               other                 The Following                \n",
              "5042               other                         My Date with Drew    \n",
              "\n",
              "      imdb_score  \n",
              "0            7.9  \n",
              "1            7.1  \n",
              "2            6.8  \n",
              "3            8.5  \n",
              "5            6.6  \n",
              "...          ...  \n",
              "5036         7.8  \n",
              "5037         6.4  \n",
              "5038         7.7  \n",
              "5039         7.5  \n",
              "5042         6.6  \n",
              "\n",
              "[4890 rows x 3 columns]"
            ]
          },
          "execution_count": 108,
          "metadata": {},
          "output_type": "execute_result"
        }
      ],
      "source": [
        "movie_data9 = movie_data[['movie_plot_category','movie_title','imdb_score']]\n",
        "movie_data9"
      ]
    },
    {
      "cell_type": "code",
      "execution_count": null,
      "id": "4553e744",
      "metadata": {
        "id": "4553e744",
        "outputId": "4b4fface-4c56-482f-e987-738348fc7d19"
      },
      "outputs": [
        {
          "name": "stdout",
          "output_type": "stream",
          "text": [
            "other             4468\n",
            "love               234\n",
            "death              172\n",
            "love_and_death      16\n",
            "Name: movie_plot_category, dtype: int64\n"
          ]
        }
      ],
      "source": [
        "print(movie_data9['movie_plot_category'].value_counts(dropna=False))"
      ]
    },
    {
      "cell_type": "code",
      "execution_count": null,
      "id": "1e98ef4a",
      "metadata": {
        "id": "1e98ef4a",
        "outputId": "8f357487-4e39-4ba1-89ab-382a22bbf855"
      },
      "outputs": [
        {
          "data": {
            "text/html": [
              "<div>\n",
              "<style scoped>\n",
              "    .dataframe tbody tr th:only-of-type {\n",
              "        vertical-align: middle;\n",
              "    }\n",
              "\n",
              "    .dataframe tbody tr th {\n",
              "        vertical-align: top;\n",
              "    }\n",
              "\n",
              "    .dataframe thead th {\n",
              "        text-align: right;\n",
              "    }\n",
              "</style>\n",
              "<table border=\"1\" class=\"dataframe\">\n",
              "  <thead>\n",
              "    <tr style=\"text-align: right;\">\n",
              "      <th></th>\n",
              "      <th>movie_plot_category</th>\n",
              "      <th>movie_title</th>\n",
              "      <th>imdb_score</th>\n",
              "    </tr>\n",
              "  </thead>\n",
              "  <tbody>\n",
              "    <tr>\n",
              "      <th>0</th>\n",
              "      <td>other</td>\n",
              "      <td>Avatar</td>\n",
              "      <td>7.9</td>\n",
              "    </tr>\n",
              "    <tr>\n",
              "      <th>1</th>\n",
              "      <td>other</td>\n",
              "      <td>Pirates of the Caribbean: At World's End</td>\n",
              "      <td>7.1</td>\n",
              "    </tr>\n",
              "    <tr>\n",
              "      <th>2</th>\n",
              "      <td>other</td>\n",
              "      <td>Spectre</td>\n",
              "      <td>6.8</td>\n",
              "    </tr>\n",
              "    <tr>\n",
              "      <th>3</th>\n",
              "      <td>other</td>\n",
              "      <td>The Dark Knight Rises</td>\n",
              "      <td>8.5</td>\n",
              "    </tr>\n",
              "    <tr>\n",
              "      <th>5</th>\n",
              "      <td>other</td>\n",
              "      <td>John Carter</td>\n",
              "      <td>6.6</td>\n",
              "    </tr>\n",
              "    <tr>\n",
              "      <th>...</th>\n",
              "      <td>...</td>\n",
              "      <td>...</td>\n",
              "      <td>...</td>\n",
              "    </tr>\n",
              "    <tr>\n",
              "      <th>5036</th>\n",
              "      <td>other</td>\n",
              "      <td>The Mongol King</td>\n",
              "      <td>7.8</td>\n",
              "    </tr>\n",
              "    <tr>\n",
              "      <th>5037</th>\n",
              "      <td>other</td>\n",
              "      <td>Newlyweds</td>\n",
              "      <td>6.4</td>\n",
              "    </tr>\n",
              "    <tr>\n",
              "      <th>5038</th>\n",
              "      <td>other</td>\n",
              "      <td>Signed Sealed Delivered</td>\n",
              "      <td>7.7</td>\n",
              "    </tr>\n",
              "    <tr>\n",
              "      <th>5039</th>\n",
              "      <td>other</td>\n",
              "      <td>The Following</td>\n",
              "      <td>7.5</td>\n",
              "    </tr>\n",
              "    <tr>\n",
              "      <th>5042</th>\n",
              "      <td>other</td>\n",
              "      <td>My Date with Drew</td>\n",
              "      <td>6.6</td>\n",
              "    </tr>\n",
              "  </tbody>\n",
              "</table>\n",
              "<p>4468 rows × 3 columns</p>\n",
              "</div>"
            ],
            "text/plain": [
              "     movie_plot_category                                movie_title  \\\n",
              "0                  other                                    Avatar    \n",
              "1                  other  Pirates of the Caribbean: At World's End    \n",
              "2                  other                                   Spectre    \n",
              "3                  other                     The Dark Knight Rises    \n",
              "5                  other                               John Carter    \n",
              "...                  ...                                        ...   \n",
              "5036               other                           The Mongol King    \n",
              "5037               other                                 Newlyweds    \n",
              "5038               other                   Signed Sealed Delivered    \n",
              "5039               other                 The Following                \n",
              "5042               other                         My Date with Drew    \n",
              "\n",
              "      imdb_score  \n",
              "0            7.9  \n",
              "1            7.1  \n",
              "2            6.8  \n",
              "3            8.5  \n",
              "5            6.6  \n",
              "...          ...  \n",
              "5036         7.8  \n",
              "5037         6.4  \n",
              "5038         7.7  \n",
              "5039         7.5  \n",
              "5042         6.6  \n",
              "\n",
              "[4468 rows x 3 columns]"
            ]
          },
          "execution_count": 110,
          "metadata": {},
          "output_type": "execute_result"
        }
      ],
      "source": [
        "movie_data9.loc[movie_data9['movie_plot_category']=='other']"
      ]
    },
    {
      "cell_type": "code",
      "execution_count": null,
      "id": "e395dead",
      "metadata": {
        "id": "e395dead",
        "outputId": "bc1193e3-803b-4fe8-f7cd-230451703c08"
      },
      "outputs": [
        {
          "data": {
            "text/plain": [
              "imdb_score    6.443017\n",
              "dtype: float64"
            ]
          },
          "execution_count": 111,
          "metadata": {},
          "output_type": "execute_result"
        }
      ],
      "source": [
        "movie_data9.loc[movie_data9['movie_plot_category']=='other'].mean()"
      ]
    },
    {
      "cell_type": "code",
      "execution_count": null,
      "id": "160b528a",
      "metadata": {
        "id": "160b528a",
        "outputId": "76757f25-c94f-44f4-8e0c-54c525efc5f0"
      },
      "outputs": [
        {
          "data": {
            "text/html": [
              "<div>\n",
              "<style scoped>\n",
              "    .dataframe tbody tr th:only-of-type {\n",
              "        vertical-align: middle;\n",
              "    }\n",
              "\n",
              "    .dataframe tbody tr th {\n",
              "        vertical-align: top;\n",
              "    }\n",
              "\n",
              "    .dataframe thead th {\n",
              "        text-align: right;\n",
              "    }\n",
              "</style>\n",
              "<table border=\"1\" class=\"dataframe\">\n",
              "  <thead>\n",
              "    <tr style=\"text-align: right;\">\n",
              "      <th></th>\n",
              "      <th>movie_plot_category</th>\n",
              "      <th>movie_title</th>\n",
              "      <th>imdb_score</th>\n",
              "    </tr>\n",
              "  </thead>\n",
              "  <tbody>\n",
              "    <tr>\n",
              "      <th>9</th>\n",
              "      <td>love</td>\n",
              "      <td>Harry Potter and the Half-Blood Prince</td>\n",
              "      <td>7.5</td>\n",
              "    </tr>\n",
              "    <tr>\n",
              "      <th>26</th>\n",
              "      <td>love</td>\n",
              "      <td>Titanic</td>\n",
              "      <td>7.7</td>\n",
              "    </tr>\n",
              "    <tr>\n",
              "      <th>87</th>\n",
              "      <td>love</td>\n",
              "      <td>Shrek Forever After</td>\n",
              "      <td>6.4</td>\n",
              "    </tr>\n",
              "    <tr>\n",
              "      <th>104</th>\n",
              "      <td>love</td>\n",
              "      <td>The Sorcerer's Apprentice</td>\n",
              "      <td>6.1</td>\n",
              "    </tr>\n",
              "    <tr>\n",
              "      <th>125</th>\n",
              "      <td>love</td>\n",
              "      <td>Frozen</td>\n",
              "      <td>7.6</td>\n",
              "    </tr>\n",
              "    <tr>\n",
              "      <th>...</th>\n",
              "      <td>...</td>\n",
              "      <td>...</td>\n",
              "      <td>...</td>\n",
              "    </tr>\n",
              "    <tr>\n",
              "      <th>4882</th>\n",
              "      <td>love</td>\n",
              "      <td>The Love Letter</td>\n",
              "      <td>7.4</td>\n",
              "    </tr>\n",
              "    <tr>\n",
              "      <th>4930</th>\n",
              "      <td>love</td>\n",
              "      <td>Tadpole</td>\n",
              "      <td>6.3</td>\n",
              "    </tr>\n",
              "    <tr>\n",
              "      <th>4942</th>\n",
              "      <td>love</td>\n",
              "      <td>Cat People</td>\n",
              "      <td>6.1</td>\n",
              "    </tr>\n",
              "    <tr>\n",
              "      <th>4984</th>\n",
              "      <td>love</td>\n",
              "      <td>The Brothers McMullen</td>\n",
              "      <td>6.6</td>\n",
              "    </tr>\n",
              "    <tr>\n",
              "      <th>5011</th>\n",
              "      <td>love</td>\n",
              "      <td>In the Company of Men</td>\n",
              "      <td>7.3</td>\n",
              "    </tr>\n",
              "  </tbody>\n",
              "</table>\n",
              "<p>234 rows × 3 columns</p>\n",
              "</div>"
            ],
            "text/plain": [
              "     movie_plot_category                              movie_title  imdb_score\n",
              "9                   love  Harry Potter and the Half-Blood Prince          7.5\n",
              "26                  love                                 Titanic          7.7\n",
              "87                  love                     Shrek Forever After          6.4\n",
              "104                 love               The Sorcerer's Apprentice          6.1\n",
              "125                 love                                  Frozen          7.6\n",
              "...                  ...                                      ...         ...\n",
              "4882                love                         The Love Letter          7.4\n",
              "4930                love                                 Tadpole          6.3\n",
              "4942                love                              Cat People          6.1\n",
              "4984                love                   The Brothers McMullen          6.6\n",
              "5011                love                   In the Company of Men          7.3\n",
              "\n",
              "[234 rows x 3 columns]"
            ]
          },
          "execution_count": 112,
          "metadata": {},
          "output_type": "execute_result"
        }
      ],
      "source": [
        "movie_data9.loc[movie_data9['movie_plot_category']=='love']"
      ]
    },
    {
      "cell_type": "code",
      "execution_count": null,
      "id": "c2b57175",
      "metadata": {
        "id": "c2b57175",
        "outputId": "55671979-77cf-4262-cc15-d38c3ec90450"
      },
      "outputs": [
        {
          "data": {
            "text/plain": [
              "imdb_score    6.580769\n",
              "dtype: float64"
            ]
          },
          "execution_count": 113,
          "metadata": {},
          "output_type": "execute_result"
        }
      ],
      "source": [
        "movie_data9.loc[movie_data9['movie_plot_category']=='love'].mean()"
      ]
    },
    {
      "cell_type": "code",
      "execution_count": null,
      "id": "f4871881",
      "metadata": {
        "id": "f4871881",
        "outputId": "81ee02dc-5442-457a-9913-abfdbf20236d"
      },
      "outputs": [
        {
          "data": {
            "text/html": [
              "<div>\n",
              "<style scoped>\n",
              "    .dataframe tbody tr th:only-of-type {\n",
              "        vertical-align: middle;\n",
              "    }\n",
              "\n",
              "    .dataframe tbody tr th {\n",
              "        vertical-align: top;\n",
              "    }\n",
              "\n",
              "    .dataframe thead th {\n",
              "        text-align: right;\n",
              "    }\n",
              "</style>\n",
              "<table border=\"1\" class=\"dataframe\">\n",
              "  <thead>\n",
              "    <tr style=\"text-align: right;\">\n",
              "      <th></th>\n",
              "      <th>movie_plot_category</th>\n",
              "      <th>movie_title</th>\n",
              "      <th>imdb_score</th>\n",
              "    </tr>\n",
              "  </thead>\n",
              "  <tbody>\n",
              "    <tr>\n",
              "      <th>594</th>\n",
              "      <td>love_and_death</td>\n",
              "      <td>Vanilla Sky</td>\n",
              "      <td>6.9</td>\n",
              "    </tr>\n",
              "    <tr>\n",
              "      <th>766</th>\n",
              "      <td>love_and_death</td>\n",
              "      <td>Practical Magic</td>\n",
              "      <td>6.1</td>\n",
              "    </tr>\n",
              "    <tr>\n",
              "      <th>966</th>\n",
              "      <td>love_and_death</td>\n",
              "      <td>Hansel &amp; Gretel: Witch Hunters</td>\n",
              "      <td>6.1</td>\n",
              "    </tr>\n",
              "    <tr>\n",
              "      <th>1145</th>\n",
              "      <td>love_and_death</td>\n",
              "      <td>Underworld: Evolution</td>\n",
              "      <td>6.8</td>\n",
              "    </tr>\n",
              "    <tr>\n",
              "      <th>1167</th>\n",
              "      <td>love_and_death</td>\n",
              "      <td>Red Riding Hood</td>\n",
              "      <td>5.4</td>\n",
              "    </tr>\n",
              "    <tr>\n",
              "      <th>1261</th>\n",
              "      <td>love_and_death</td>\n",
              "      <td>Final Destination 5</td>\n",
              "      <td>5.9</td>\n",
              "    </tr>\n",
              "    <tr>\n",
              "      <th>1812</th>\n",
              "      <td>love_and_death</td>\n",
              "      <td>Lucky Number Slevin</td>\n",
              "      <td>7.8</td>\n",
              "    </tr>\n",
              "    <tr>\n",
              "      <th>2022</th>\n",
              "      <td>love_and_death</td>\n",
              "      <td>Jane Got a Gun</td>\n",
              "      <td>5.8</td>\n",
              "    </tr>\n",
              "    <tr>\n",
              "      <th>2081</th>\n",
              "      <td>love_and_death</td>\n",
              "      <td>Ghost</td>\n",
              "      <td>7.0</td>\n",
              "    </tr>\n",
              "    <tr>\n",
              "      <th>2689</th>\n",
              "      <td>love_and_death</td>\n",
              "      <td>One Day</td>\n",
              "      <td>7.0</td>\n",
              "    </tr>\n",
              "    <tr>\n",
              "      <th>3233</th>\n",
              "      <td>love_and_death</td>\n",
              "      <td>Elsa &amp; Fred</td>\n",
              "      <td>6.5</td>\n",
              "    </tr>\n",
              "    <tr>\n",
              "      <th>3799</th>\n",
              "      <td>love_and_death</td>\n",
              "      <td>Fascination</td>\n",
              "      <td>3.3</td>\n",
              "    </tr>\n",
              "    <tr>\n",
              "      <th>4196</th>\n",
              "      <td>love_and_death</td>\n",
              "      <td>My Life Without Me</td>\n",
              "      <td>7.6</td>\n",
              "    </tr>\n",
              "    <tr>\n",
              "      <th>4222</th>\n",
              "      <td>love_and_death</td>\n",
              "      <td>Redemption Road</td>\n",
              "      <td>5.9</td>\n",
              "    </tr>\n",
              "    <tr>\n",
              "      <th>4474</th>\n",
              "      <td>love_and_death</td>\n",
              "      <td>Rebecca</td>\n",
              "      <td>8.2</td>\n",
              "    </tr>\n",
              "    <tr>\n",
              "      <th>4493</th>\n",
              "      <td>love_and_death</td>\n",
              "      <td>Lucky Number Slevin</td>\n",
              "      <td>7.8</td>\n",
              "    </tr>\n",
              "  </tbody>\n",
              "</table>\n",
              "</div>"
            ],
            "text/plain": [
              "     movie_plot_category                      movie_title  imdb_score\n",
              "594       love_and_death                     Vanilla Sky          6.9\n",
              "766       love_and_death                 Practical Magic          6.1\n",
              "966       love_and_death  Hansel & Gretel: Witch Hunters          6.1\n",
              "1145      love_and_death           Underworld: Evolution          6.8\n",
              "1167      love_and_death                 Red Riding Hood          5.4\n",
              "1261      love_and_death             Final Destination 5          5.9\n",
              "1812      love_and_death             Lucky Number Slevin          7.8\n",
              "2022      love_and_death                  Jane Got a Gun          5.8\n",
              "2081      love_and_death                           Ghost          7.0\n",
              "2689      love_and_death                         One Day          7.0\n",
              "3233      love_and_death                     Elsa & Fred          6.5\n",
              "3799      love_and_death                     Fascination          3.3\n",
              "4196      love_and_death              My Life Without Me          7.6\n",
              "4222      love_and_death                 Redemption Road          5.9\n",
              "4474      love_and_death                         Rebecca          8.2\n",
              "4493      love_and_death             Lucky Number Slevin          7.8"
            ]
          },
          "execution_count": 114,
          "metadata": {},
          "output_type": "execute_result"
        }
      ],
      "source": [
        "movie_data9.loc[movie_data9['movie_plot_category']=='love_and_death']"
      ]
    },
    {
      "cell_type": "code",
      "execution_count": null,
      "id": "9c2313db",
      "metadata": {
        "id": "9c2313db",
        "outputId": "5b915f00-d761-4c61-8abe-c85e3c2ca59f"
      },
      "outputs": [
        {
          "data": {
            "text/plain": [
              "imdb_score    6.50625\n",
              "dtype: float64"
            ]
          },
          "execution_count": 115,
          "metadata": {},
          "output_type": "execute_result"
        }
      ],
      "source": [
        "movie_data9.loc[movie_data9['movie_plot_category']=='love_and_death'].mean()"
      ]
    },
    {
      "cell_type": "code",
      "execution_count": null,
      "id": "cf8b4bf3",
      "metadata": {
        "id": "cf8b4bf3",
        "outputId": "03e061fe-73bf-404d-9e85-a1ef487f1cc0"
      },
      "outputs": [
        {
          "data": {
            "text/html": [
              "<div>\n",
              "<style scoped>\n",
              "    .dataframe tbody tr th:only-of-type {\n",
              "        vertical-align: middle;\n",
              "    }\n",
              "\n",
              "    .dataframe tbody tr th {\n",
              "        vertical-align: top;\n",
              "    }\n",
              "\n",
              "    .dataframe thead th {\n",
              "        text-align: right;\n",
              "    }\n",
              "</style>\n",
              "<table border=\"1\" class=\"dataframe\">\n",
              "  <thead>\n",
              "    <tr style=\"text-align: right;\">\n",
              "      <th></th>\n",
              "      <th>movie_plot_category</th>\n",
              "      <th>movie_title</th>\n",
              "      <th>imdb_score</th>\n",
              "    </tr>\n",
              "  </thead>\n",
              "  <tbody>\n",
              "    <tr>\n",
              "      <th>31</th>\n",
              "      <td>death</td>\n",
              "      <td>Spider-Man 2</td>\n",
              "      <td>7.3</td>\n",
              "    </tr>\n",
              "    <tr>\n",
              "      <th>39</th>\n",
              "      <td>death</td>\n",
              "      <td>The Amazing Spider-Man 2</td>\n",
              "      <td>6.7</td>\n",
              "    </tr>\n",
              "    <tr>\n",
              "      <th>44</th>\n",
              "      <td>death</td>\n",
              "      <td>Terminator Salvation</td>\n",
              "      <td>6.6</td>\n",
              "    </tr>\n",
              "    <tr>\n",
              "      <th>103</th>\n",
              "      <td>death</td>\n",
              "      <td>The Hunger Games: Mockingjay - Part 2</td>\n",
              "      <td>6.6</td>\n",
              "    </tr>\n",
              "    <tr>\n",
              "      <th>136</th>\n",
              "      <td>death</td>\n",
              "      <td>The Wolfman</td>\n",
              "      <td>5.8</td>\n",
              "    </tr>\n",
              "    <tr>\n",
              "      <th>...</th>\n",
              "      <td>...</td>\n",
              "      <td>...</td>\n",
              "      <td>...</td>\n",
              "    </tr>\n",
              "    <tr>\n",
              "      <th>4863</th>\n",
              "      <td>death</td>\n",
              "      <td>November</td>\n",
              "      <td>5.5</td>\n",
              "    </tr>\n",
              "    <tr>\n",
              "      <th>5014</th>\n",
              "      <td>death</td>\n",
              "      <td>Rampage</td>\n",
              "      <td>6.3</td>\n",
              "    </tr>\n",
              "    <tr>\n",
              "      <th>5020</th>\n",
              "      <td>death</td>\n",
              "      <td>The Ridges</td>\n",
              "      <td>3.0</td>\n",
              "    </tr>\n",
              "    <tr>\n",
              "      <th>5024</th>\n",
              "      <td>death</td>\n",
              "      <td>All Superheroes Must Die</td>\n",
              "      <td>4.0</td>\n",
              "    </tr>\n",
              "    <tr>\n",
              "      <th>5035</th>\n",
              "      <td>death</td>\n",
              "      <td>El Mariachi</td>\n",
              "      <td>6.9</td>\n",
              "    </tr>\n",
              "  </tbody>\n",
              "</table>\n",
              "<p>172 rows × 3 columns</p>\n",
              "</div>"
            ],
            "text/plain": [
              "     movie_plot_category                             movie_title  imdb_score\n",
              "31                 death                           Spider-Man 2          7.3\n",
              "39                 death               The Amazing Spider-Man 2          6.7\n",
              "44                 death                   Terminator Salvation          6.6\n",
              "103                death  The Hunger Games: Mockingjay - Part 2          6.6\n",
              "136                death                            The Wolfman          5.8\n",
              "...                  ...                                     ...         ...\n",
              "4863               death                               November          5.5\n",
              "5014               death                                Rampage          6.3\n",
              "5020               death                             The Ridges          3.0\n",
              "5024               death               All Superheroes Must Die          4.0\n",
              "5035               death                            El Mariachi          6.9\n",
              "\n",
              "[172 rows x 3 columns]"
            ]
          },
          "execution_count": 116,
          "metadata": {},
          "output_type": "execute_result"
        }
      ],
      "source": [
        "movie_data9.loc[movie_data9['movie_plot_category']=='death']"
      ]
    },
    {
      "cell_type": "code",
      "execution_count": null,
      "id": "dcc15419",
      "metadata": {
        "id": "dcc15419",
        "outputId": "d495d297-b54a-4b27-ae96-2fd55ab47edc"
      },
      "outputs": [
        {
          "data": {
            "text/plain": [
              "imdb_score    6.535465\n",
              "dtype: float64"
            ]
          },
          "execution_count": 117,
          "metadata": {},
          "output_type": "execute_result"
        }
      ],
      "source": [
        "movie_data9.loc[movie_data9['movie_plot_category']=='death'].mean()"
      ]
    },
    {
      "cell_type": "code",
      "execution_count": null,
      "id": "a1b59f80",
      "metadata": {
        "id": "a1b59f80"
      },
      "outputs": [],
      "source": [
        "other_mean = w = 6.443017\n",
        "love_mean  = x = 6.580769\n",
        "love_and_death_mean = y = 6.50625\n",
        "death_mean = z = 6.535465"
      ]
    },
    {
      "cell_type": "code",
      "execution_count": null,
      "id": "c02ca9be",
      "metadata": {
        "id": "c02ca9be",
        "outputId": "9ca0a3f5-b33b-4186-dc13-696674246015"
      },
      "outputs": [
        {
          "name": "stdout",
          "output_type": "stream",
          "text": [
            "6.443017 6.580769 6.50625 6.535465\n"
          ]
        }
      ],
      "source": [
        "print (w,x,y,z)"
      ]
    },
    {
      "cell_type": "code",
      "execution_count": null,
      "id": "9960696f",
      "metadata": {
        "id": "9960696f"
      },
      "outputs": [],
      "source": [
        "table = {'category':['other','love','love_and_death','death'],'mean':[w,x,y,z]}"
      ]
    },
    {
      "cell_type": "code",
      "execution_count": null,
      "id": "853d90fb",
      "metadata": {
        "id": "853d90fb",
        "outputId": "a556ca0d-951f-4ac2-fb84-fcfa08ecfb10"
      },
      "outputs": [
        {
          "data": {
            "text/html": [
              "<div>\n",
              "<style scoped>\n",
              "    .dataframe tbody tr th:only-of-type {\n",
              "        vertical-align: middle;\n",
              "    }\n",
              "\n",
              "    .dataframe tbody tr th {\n",
              "        vertical-align: top;\n",
              "    }\n",
              "\n",
              "    .dataframe thead th {\n",
              "        text-align: right;\n",
              "    }\n",
              "</style>\n",
              "<table border=\"1\" class=\"dataframe\">\n",
              "  <thead>\n",
              "    <tr style=\"text-align: right;\">\n",
              "      <th></th>\n",
              "      <th>category</th>\n",
              "      <th>mean</th>\n",
              "    </tr>\n",
              "  </thead>\n",
              "  <tbody>\n",
              "    <tr>\n",
              "      <th>0</th>\n",
              "      <td>other</td>\n",
              "      <td>6.443017</td>\n",
              "    </tr>\n",
              "    <tr>\n",
              "      <th>1</th>\n",
              "      <td>love</td>\n",
              "      <td>6.580769</td>\n",
              "    </tr>\n",
              "    <tr>\n",
              "      <th>2</th>\n",
              "      <td>love_and_death</td>\n",
              "      <td>6.506250</td>\n",
              "    </tr>\n",
              "    <tr>\n",
              "      <th>3</th>\n",
              "      <td>death</td>\n",
              "      <td>6.535465</td>\n",
              "    </tr>\n",
              "  </tbody>\n",
              "</table>\n",
              "</div>"
            ],
            "text/plain": [
              "         category      mean\n",
              "0           other  6.443017\n",
              "1            love  6.580769\n",
              "2  love_and_death  6.506250\n",
              "3           death  6.535465"
            ]
          },
          "execution_count": 121,
          "metadata": {},
          "output_type": "execute_result"
        }
      ],
      "source": [
        "table_9 = pd.DataFrame(table)\n",
        "table_9"
      ]
    },
    {
      "cell_type": "code",
      "execution_count": null,
      "id": "a7da2d81",
      "metadata": {
        "id": "a7da2d81",
        "outputId": "6d9a2b4f-a6f5-4ef5-9d9b-d21ed5a9ce66"
      },
      "outputs": [
        {
          "data": {
            "text/html": [
              "<div>\n",
              "<style scoped>\n",
              "    .dataframe tbody tr th:only-of-type {\n",
              "        vertical-align: middle;\n",
              "    }\n",
              "\n",
              "    .dataframe tbody tr th {\n",
              "        vertical-align: top;\n",
              "    }\n",
              "\n",
              "    .dataframe thead th {\n",
              "        text-align: right;\n",
              "    }\n",
              "</style>\n",
              "<table border=\"1\" class=\"dataframe\">\n",
              "  <thead>\n",
              "    <tr style=\"text-align: right;\">\n",
              "      <th></th>\n",
              "      <th>mean</th>\n",
              "    </tr>\n",
              "    <tr>\n",
              "      <th>category</th>\n",
              "      <th></th>\n",
              "    </tr>\n",
              "  </thead>\n",
              "  <tbody>\n",
              "    <tr>\n",
              "      <th>other</th>\n",
              "      <td>6.443017</td>\n",
              "    </tr>\n",
              "    <tr>\n",
              "      <th>love</th>\n",
              "      <td>6.580769</td>\n",
              "    </tr>\n",
              "    <tr>\n",
              "      <th>love_and_death</th>\n",
              "      <td>6.506250</td>\n",
              "    </tr>\n",
              "    <tr>\n",
              "      <th>death</th>\n",
              "      <td>6.535465</td>\n",
              "    </tr>\n",
              "  </tbody>\n",
              "</table>\n",
              "</div>"
            ],
            "text/plain": [
              "                    mean\n",
              "category                \n",
              "other           6.443017\n",
              "love            6.580769\n",
              "love_and_death  6.506250\n",
              "death           6.535465"
            ]
          },
          "execution_count": 122,
          "metadata": {},
          "output_type": "execute_result"
        }
      ],
      "source": [
        "table_9.set_index(\"category\")"
      ]
    },
    {
      "cell_type": "code",
      "execution_count": null,
      "id": "a0ea0e8a",
      "metadata": {
        "id": "a0ea0e8a"
      },
      "outputs": [],
      "source": [
        "################################################################################################################################"
      ]
    },
    {
      "cell_type": "code",
      "execution_count": null,
      "id": "e06cb6f9",
      "metadata": {
        "id": "e06cb6f9"
      },
      "outputs": [],
      "source": [
        "# 10. What is the average rating of films in the \"love\" category? Give the answer as a floatingpoint\n",
        "# figure rounded to two decimal places."
      ]
    },
    {
      "cell_type": "code",
      "execution_count": null,
      "id": "61743623",
      "metadata": {
        "id": "61743623",
        "outputId": "36a55f74-b118-4b6e-d658-aabaf37315c8"
      },
      "outputs": [
        {
          "data": {
            "text/html": [
              "<div>\n",
              "<style scoped>\n",
              "    .dataframe tbody tr th:only-of-type {\n",
              "        vertical-align: middle;\n",
              "    }\n",
              "\n",
              "    .dataframe tbody tr th {\n",
              "        vertical-align: top;\n",
              "    }\n",
              "\n",
              "    .dataframe thead th {\n",
              "        text-align: right;\n",
              "    }\n",
              "</style>\n",
              "<table border=\"1\" class=\"dataframe\">\n",
              "  <thead>\n",
              "    <tr style=\"text-align: right;\">\n",
              "      <th></th>\n",
              "      <th>category</th>\n",
              "      <th>mean</th>\n",
              "    </tr>\n",
              "  </thead>\n",
              "  <tbody>\n",
              "    <tr>\n",
              "      <th>1</th>\n",
              "      <td>love</td>\n",
              "      <td>6.58</td>\n",
              "    </tr>\n",
              "  </tbody>\n",
              "</table>\n",
              "</div>"
            ],
            "text/plain": [
              "  category  mean\n",
              "1     love  6.58"
            ]
          },
          "execution_count": 125,
          "metadata": {},
          "output_type": "execute_result"
        }
      ],
      "source": [
        "answer_10 = round(table_9.loc[table_9['category']=='love'],2)\n",
        "answer_10"
      ]
    },
    {
      "cell_type": "code",
      "execution_count": null,
      "id": "a88911e4",
      "metadata": {
        "id": "a88911e4",
        "outputId": "bac5656c-03aa-4293-c226-6a82dc4b4668"
      },
      "outputs": [
        {
          "data": {
            "text/plain": [
              "category     object\n",
              "mean        float64\n",
              "dtype: object"
            ]
          },
          "execution_count": 126,
          "metadata": {},
          "output_type": "execute_result"
        }
      ],
      "source": [
        "answer_10.dtypes"
      ]
    },
    {
      "cell_type": "code",
      "execution_count": null,
      "id": "92d1bbed",
      "metadata": {
        "id": "92d1bbed"
      },
      "outputs": [],
      "source": [
        "################################################################################################################################"
      ]
    },
    {
      "cell_type": "code",
      "execution_count": null,
      "id": "29345f50",
      "metadata": {
        "id": "29345f50"
      },
      "outputs": [],
      "source": [
        "# 11. The budget column contains the film's budget. What is the median budget for all the films\n",
        "# listed? Give the answer as an integer."
      ]
    },
    {
      "cell_type": "code",
      "execution_count": null,
      "id": "6dc74b74",
      "metadata": {
        "id": "6dc74b74",
        "outputId": "8eba04ec-f7c4-4b75-a274-b1e581fda616"
      },
      "outputs": [
        {
          "data": {
            "text/plain": [
              "Index(['color', 'director_name', 'num_critic_for_reviews', 'duration',\n",
              "       'director_facebook_likes', 'actor_3_facebook_likes', 'actor_2_name',\n",
              "       'actor_1_facebook_likes', 'gross', 'genres', 'actor_1_name',\n",
              "       'movie_title', 'num_voted_users', 'cast_total_facebook_likes',\n",
              "       'actor_3_name', 'facenumber_in_poster', 'plot_keywords',\n",
              "       'movie_imdb_link', 'num_user_for_reviews', 'language', 'country',\n",
              "       'content_rating', 'budget', 'title_year', 'actor_2_facebook_likes',\n",
              "       'imdb_score', 'aspect_ratio', 'movie_facebook_likes',\n",
              "       'movie_data_duration', 'movie_plot_category'],\n",
              "      dtype='object')"
            ]
          },
          "execution_count": 129,
          "metadata": {},
          "output_type": "execute_result"
        }
      ],
      "source": [
        "movie_data.columns"
      ]
    },
    {
      "cell_type": "code",
      "execution_count": null,
      "id": "67d89d3f",
      "metadata": {
        "id": "67d89d3f",
        "outputId": "5042a710-9767-453c-ae5c-84502b9b94f3"
      },
      "outputs": [
        {
          "data": {
            "text/plain": [
              "0       237000000.0$\n",
              "1       300000000.0$\n",
              "2       245000000.0$\n",
              "3       250000000.0$\n",
              "5       263700000.0$\n",
              "            ...     \n",
              "5036         3250.0$\n",
              "5037         9000.0$\n",
              "5038            0.0$\n",
              "5039            0.0$\n",
              "5042         1100.0$\n",
              "Name: budget, Length: 4890, dtype: object"
            ]
          },
          "execution_count": 130,
          "metadata": {},
          "output_type": "execute_result"
        }
      ],
      "source": [
        "movie_data11 = movie_data['budget']\n",
        "movie_data11 "
      ]
    },
    {
      "cell_type": "code",
      "execution_count": null,
      "id": "fada9326",
      "metadata": {
        "id": "fada9326"
      },
      "outputs": [],
      "source": [
        "movie_data11 = pd.to_numeric(movie_data11.apply( lambda Linha: Linha.replace('$', '') ) )"
      ]
    },
    {
      "cell_type": "code",
      "execution_count": null,
      "id": "001a0c0c",
      "metadata": {
        "id": "001a0c0c",
        "outputId": "0ae7b258-df74-42e8-f5fc-29be416dc913"
      },
      "outputs": [
        {
          "data": {
            "text/plain": [
              "0       237000000.0\n",
              "1       300000000.0\n",
              "2       245000000.0\n",
              "3       250000000.0\n",
              "5       263700000.0\n",
              "           ...     \n",
              "5036         3250.0\n",
              "5037         9000.0\n",
              "5038            0.0\n",
              "5039            0.0\n",
              "5042         1100.0\n",
              "Name: budget, Length: 4890, dtype: float64"
            ]
          },
          "execution_count": 132,
          "metadata": {},
          "output_type": "execute_result"
        }
      ],
      "source": [
        "movie_data11 "
      ]
    },
    {
      "cell_type": "code",
      "execution_count": null,
      "id": "f0189bb3",
      "metadata": {
        "id": "f0189bb3",
        "outputId": "3b9cde01-a6f5-4f7e-a735-f90ea875ce47"
      },
      "outputs": [
        {
          "data": {
            "text/plain": [
              "16950000.0"
            ]
          },
          "execution_count": 133,
          "metadata": {},
          "output_type": "execute_result"
        }
      ],
      "source": [
        "movie_data11_median= round(movie_data11.median(),2)\n",
        "movie_data11_median"
      ]
    },
    {
      "cell_type": "code",
      "execution_count": null,
      "id": "5588b41c",
      "metadata": {
        "id": "5588b41c",
        "outputId": "d4474710-ec71-4fd0-8597-30a612610583"
      },
      "outputs": [
        {
          "data": {
            "text/plain": [
              "16950000"
            ]
          },
          "execution_count": 134,
          "metadata": {},
          "output_type": "execute_result"
        }
      ],
      "source": [
        "answer_11 = int(movie_data11_median)\n",
        "answer_11"
      ]
    },
    {
      "cell_type": "code",
      "execution_count": null,
      "id": "9b45eea5",
      "metadata": {
        "id": "9b45eea5"
      },
      "outputs": [],
      "source": [
        "################################################################################################################################"
      ]
    }
  ],
  "metadata": {
    "kernelspec": {
      "display_name": "Python 3 (ipykernel)",
      "language": "python",
      "name": "python3"
    },
    "language_info": {
      "codemirror_mode": {
        "name": "ipython",
        "version": 3
      },
      "file_extension": ".py",
      "mimetype": "text/x-python",
      "name": "python",
      "nbconvert_exporter": "python",
      "pygments_lexer": "ipython3",
      "version": "3.9.7"
    },
    "colab": {
      "provenance": []
    }
  },
  "nbformat": 4,
  "nbformat_minor": 5
}